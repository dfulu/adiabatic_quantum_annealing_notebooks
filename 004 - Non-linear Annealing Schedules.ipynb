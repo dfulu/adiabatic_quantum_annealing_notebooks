{
 "cells": [
  {
   "cell_type": "markdown",
   "metadata": {},
   "source": [
    "# In this Notebook I want to see the difference the anealing schedule makes"
   ]
  },
  {
   "cell_type": "code",
   "execution_count": null,
   "metadata": {},
   "outputs": [],
   "source": [
    "import project_lib as mylib\n",
    "import numpy as np\n",
    "import matplotlib.pyplot as plt\n",
    "import matplotlib.image as mpimg\n",
    "import scipy as sp\n",
    "%matplotlib inline"
   ]
  },
  {
   "cell_type": "code",
   "execution_count": null,
   "metadata": {},
   "outputs": [],
   "source": [
    "# here I am loading in the annealing schedule from the vesuvius device\n",
    "SAB = mylib.load_project_data('ISI_A&B.txt')\n",
    "ss = SAB[:,0]\n",
    "AB = np.transpose(SAB[:,1:])\n",
    "\n",
    "# plot the annealing schedule from vesuvius\n",
    "plt.figure()\n",
    "plt.plot(ss,AB[0],label = 'A(s)')\n",
    "plt.plot(ss,AB[1],label = 'B(s)')\n",
    "plt.xlabel('s')\n",
    "plt.ylabel('A(s) and B(s)')\n",
    "plt.legend(framealpha =0, loc = 'best')\n",
    "plt.show()"
   ]
  },
  {
   "cell_type": "markdown",
   "metadata": {},
   "source": [
    "Above is the annealing schedule from the ~512 qubit D-Wave 2 (Vesuvius) device (specifically the one previously at the University of Southern California). This is actually used experimentally. In order to make this more general I will need to be able to interpolate this onto the points I want. Based on a quick look at the data I have decided that linear interpolation will be good enough, no need for cubic."
   ]
  },
  {
   "cell_type": "code",
   "execution_count": null,
   "metadata": {},
   "outputs": [],
   "source": [
    "# In this cell I make a function to interpolate the data from the schedule above onto any arbitrary s array\n",
    "\n",
    "def interpolate_exper(exp_ss,exp_AB,points):\n",
    "    '''This function takes the experimental AB you feed in which are discrete and interpolates them onto a new set of points'''\n",
    "    new_ss = np.linspace(0,1,points)\n",
    "    new_AB = np.zeros((2,points))\n",
    "    new_AB[0] = sp.interp(new_ss, exp_ss, exp_AB[0])\n",
    "    new_AB[1] = sp.interp(new_ss, exp_ss, exp_AB[1])\n",
    "    return new_ss, new_AB\n",
    "\n",
    "points = len(ss)*4\n",
    "new_ss,new_AB = interpolate_exper(ss,AB,points)\n",
    "\n",
    "plt.figure(figsize = (10,7))\n",
    "plt.title('Linear Interpolation of the Annealing Schedule')\n",
    "plt.plot(new_ss, new_AB[0],label = '$A_{interp}(s)$',color = 'blue') \n",
    "plt.plot(new_ss, new_AB[1],label = '$B_{interp}(s)$',color = 'red') \n",
    "plt.plot(ss[::15], AB[0][::15], 'o', label = '$A_{exp}(s)$', color = 'blue') \n",
    "plt.plot(ss[::15], AB[1][::15],'o',label = '$B_{exp}(s)$',color = 'red') \n",
    "plt.xlabel('s')\n",
    "plt.legend(framealpha =0, loc = 'best')\n",
    "plt.show()"
   ]
  },
  {
   "cell_type": "code",
   "execution_count": null,
   "metadata": {},
   "outputs": [],
   "source": [
    "def vesuvius_schedule(points):\n",
    "    '''This function returns the annealing schedule which is an interpolation of that used in the ~512 qubit D-Wave 2 (Vesuvius) \n",
    "    device (specifically the one previously at the University of Southern California, although different devices from the \n",
    "    same generation have nearly identical schedules)'''\n",
    "    ves_SAB = mylib.load_project_data('ISI_A&B.txt') # this is the saved text file of the schedule used in the vesuvius\n",
    "    ves_ss = SAB[:,0]\n",
    "    ves_AB = np.transpose(SAB[:,1:])\n",
    "    interp_ss, interp_AB = interpolate_exper(ves_ss,ves_AB,points)\n",
    "    interp_AB[0] =  interp_AB[0]/ interp_AB[0][0]\n",
    "    interp_AB[1] =  interp_AB[1]/ interp_AB[1][-1]\n",
    "    return interp_AB"
   ]
  },
  {
   "cell_type": "markdown",
   "metadata": {},
   "source": [
    "Next I want to see how this schedule affects the accuracy of the final solution to the problem. I will plot the annealing schedule, energy gap, probability of being in the instanteous ground state for this annealing schedule and a linear one. Then print final probability of being in the ground state at the end"
   ]
  },
  {
   "cell_type": "code",
   "execution_count": null,
   "metadata": {},
   "outputs": [],
   "source": [
    "def exponential_schedule(points):\n",
    "    '''A(s) is indexed with return[0] B(s) is indexed with return[1]'''\n",
    "    a = 5.; b = 5.\n",
    "    return np.asarray([np.exp(-a*np.linspace(0,1,points)),np.exp(-b*(-np.linspace(0,1,points)+1))])\n",
    "\n",
    "ss=np.linspace(0,1,1000)\n",
    "AB = exponential_schedule(1000)\n",
    "plt.figure()\n",
    "plt.plot(ss, AB[0],label = '$A(s)$',color = 'blue') \n",
    "plt.plot(ss, AB[1],label = '$B(s)$',color = 'red') \n",
    "plt.xlabel('s')\n",
    "plt.legend(framealpha = 0, loc = 'best')\n",
    "plt.show()"
   ]
  },
  {
   "cell_type": "code",
   "execution_count": null,
   "metadata": {},
   "outputs": [],
   "source": [
    "# here I want to develop the function that will make a schedule from the energy gap\n",
    "points = 1000\n",
    "delta_eigenvals = -np.sin(np.linspace(0,np.pi,int(points/10)))+1.1\n",
    "\n",
    "def inverse_energy_schedule(points):\n",
    "        P = np.linspace(0,1,int(points/10))\n",
    "        inverse_delta_eigenvals = np.asarray(delta_eigenvals).astype(float)**-1\n",
    "        schedule = np.cumsum(inverse_delta_eigenvals/sum(inverse_delta_eigenvals))\n",
    "        B = sp.interp(np.linspace(0,1,points), schedule, P)\n",
    "        return B\n",
    "\n",
    "def alternate_inverse(points):\n",
    "        P = np.linspace(0,1,int(points/10))\n",
    "        sum_delta_eigenvals = np.sum(delta_eigenvals)\n",
    "        schedule = np.cumsum(sum_delta_eigenvals)/sum_delta_eigenvals\n",
    "        return schedule\n",
    "    \n",
    "B = inverse_energy_schedule(points)\n",
    "B_alt = alternate_inverse(points)\n",
    "ss = np.linspace(0,1,points)\n",
    "plt.figure()\n",
    "plt.plot(ss,B,label = '$B(s)$')\n",
    "plt.plot(ss,B,label = '$B_{alt}(s)$')\n",
    "plt.plot(ss[::10],delta_eigenvals,label = '$\\Delta \\lambda$')\n",
    "plt.legend(framealpha = 0, loc = 'best')\n",
    "plt.xlabel('s')\n",
    "plt.show()\n"
   ]
  },
  {
   "cell_type": "markdown",
   "metadata": {},
   "source": [
    "I used the code above  to construct the 'natural' annealing schedule. Where what I have done above would be the B parameter"
   ]
  },
  {
   "cell_type": "markdown",
   "metadata": {},
   "source": [
    "## Linear Schedule"
   ]
  },
  {
   "cell_type": "code",
   "execution_count": null,
   "metadata": {},
   "outputs": [],
   "source": [
    "h = [1.2,3.2,2.9]\n",
    "J = [[1.,2.2],[2.3]]\n",
    "qubits = 3\n",
    "a = mylib.Anneal(3,[h,J],T=5,points = 10000)\n",
    "a.run()\n",
    "a.show_results()"
   ]
  },
  {
   "cell_type": "markdown",
   "metadata": {},
   "source": [
    "## Vesuvius Schedule"
   ]
  },
  {
   "cell_type": "code",
   "execution_count": null,
   "metadata": {},
   "outputs": [],
   "source": [
    "h = [1.2,3.2,2.9]\n",
    "J = [[1.,2.2],[2.3]]\n",
    "qubits = 3\n",
    "a = mylib.Anneal(3,[h,J],T=10000,points = 10000,sched_func = mylib.vesuvius_schedule)\n",
    "a.run()\n",
    "a.show_results()"
   ]
  },
  {
   "cell_type": "markdown",
   "metadata": {},
   "source": [
    "## Exponential Schedule"
   ]
  },
  {
   "cell_type": "code",
   "execution_count": null,
   "metadata": {},
   "outputs": [],
   "source": [
    "h = [1.2,3.2,2.9]\n",
    "J = [[1.,2.2],[2.3]]\n",
    "qubits = 3\n",
    "a = mylib.Anneal(3,[h,J],T=10000,points = 10000,sched_func = mylib.exponential_schedule_ab(4.,4.))\n",
    "a.run()\n",
    "a.show_results()"
   ]
  },
  {
   "cell_type": "markdown",
   "metadata": {},
   "source": [
    "## Inverse Energy Schedule"
   ]
  },
  {
   "cell_type": "code",
   "execution_count": null,
   "metadata": {},
   "outputs": [],
   "source": [
    "h = [1.2,3.2,2.9]\n",
    "J = [[1.,2.2],[2.3]]\n",
    "qubits = 3\n",
    "a = mylib.Anneal(3,[h,J],T=10000,points = 10000,sched_func = 'natural')\n",
    "a.run()\n",
    "a.show_results()"
   ]
  },
  {
   "cell_type": "code",
   "execution_count": null,
   "metadata": {},
   "outputs": [],
   "source": [
    "schedfuncname = ['linear','exponential fast','exponential medium','exponential slow','inverse energy','vesuvius']\n",
    "schedfunc = [mylib.linear_schedule, mylib.exponential_schedule_ab(10,10), mylib.exponential_schedule_ab(5,5),\n",
    "             mylib.exponential_schedule_ab(1,1), 'natural', mylib.vesuvius_schedule]\n",
    "\n",
    "h = [1.2,3.2,2.9]\n",
    "J = [[1.,2.2],[2.3]]\n",
    "qubits = 3\n",
    "last_prob = []\n",
    "an = []\n",
    "\n",
    "for i,f in enumerate(schedfunc):\n",
    "    print '\\n',schedfuncname[i]\n",
    "    an_n= mylib.Anneal(qubits,[h,J],T=5,points = 10000,sched_func = f)\n",
    "    an_n.run()\n",
    "    an.append(an_n)\n",
    "    last_prob.append(an_n.problem_x0_prob[-1]) \n"
   ]
  },
  {
   "cell_type": "code",
   "execution_count": null,
   "metadata": {},
   "outputs": [],
   "source": [
    "import tabulate\n",
    "print '\\n Probability to be found in the correct final state for different annealing schedules\\n'\n",
    "\n",
    "schedfuncname = ['linear','exponential fast','exponential medium','exponential slow','inverse energy','vesuvius']\n",
    "last_prob =  []\n",
    "for i in range(len(an)):\n",
    "    last_prob.append(an[i].problem_x0_prob[-1]) \n",
    "\n",
    "headers = ['Schedule','Probability of being in correct state']\n",
    "table = []\n",
    "\n",
    "lpcop = list(np.copy(last_prob))\n",
    "nam = list(np.copy(schedfuncname))\n",
    "\n",
    "for i in range(len(schedfuncname)):\n",
    "    table.append([nam.pop(np.argmax(lpcop)),lpcop.pop(np.argmax(lpcop))])\n",
    "print tabulate.tabulate(table, headers, tablefmt=\"grid\",floatfmt=\".8f\")"
   ]
  },
  {
   "cell_type": "code",
   "execution_count": null,
   "metadata": {},
   "outputs": [],
   "source": [
    "plt.figure(figsize = (8,20))\n",
    "ax = []\n",
    "axtwin = []\n",
    "for i in range(len(an)):\n",
    "    if i == 0: ax.append(plt.subplot2grid((len(an),1), (i,0)))\n",
    "    else: ax.append(plt.subplot2grid((len(an),1), (i,0), sharex = ax[0]))\n",
    "    ax[i].set_ylabel('$\\Delta \\lambda$',color = 'black')\n",
    "    if i == len(an)-1: ax[i].set_xlabel('s')\n",
    "    axtwin.append(ax[i].twinx())\n",
    "    axtwin[i].set_ylabel('A(s), B(s)')\n",
    "    axtwin[i].text(0.5,0.9,schedfuncname[i],verticalalignment='center', horizontalalignment='center')\n",
    "    axtwin[i].plot(an[i].ss, an[i].AB[0], label = '$A(s)$',color = 'red')\n",
    "    axtwin[i].plot(an[i].ss, an[i].AB[1], label = '$B(s)$', color = 'blue')\n",
    "    ax[i].plot(an[i].ss,an[i].delta_eigenvals,color='black',label = '$\\Delta \\lambda$')\n",
    "plt.show()"
   ]
  }
 ],
 "metadata": {
  "language_info": {
   "name": "python",
   "pygments_lexer": "ipython3"
  }
 },
 "nbformat": 4,
 "nbformat_minor": 0
}
