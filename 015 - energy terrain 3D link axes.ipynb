{
 "cells": [
  {
   "cell_type": "code",
   "execution_count": null,
   "metadata": {},
   "outputs": [],
   "source": [
    "import numpy as np\n",
    "import matplotlib.image as mpimg\n",
    "import matplotlib.pyplot as plt\n",
    "import project_lib as mylib\n",
    "from mpl_toolkits.mplot3d.axes3d import Axes3D\n",
    "import project_lib as mylib\n",
    "from scipy.interpolate import griddata\n",
    "from matplotlib import cm\n",
    "%matplotlib notebook"
   ]
  },
  {
   "cell_type": "markdown",
   "metadata": {},
   "source": [
    "In this file I want to create the energy terrain graphs for a 2 qubit system"
   ]
  },
  {
   "cell_type": "code",
   "execution_count": null,
   "metadata": {},
   "outputs": [],
   "source": [
    "# Twice as wide as it is tall.\n",
    "fig = plt.figure(figsize=plt.figaspect(0.5))\n",
    "\n",
    "#---- First subplot\n",
    "ax1 = fig.add_subplot(1, 2, 1, projection='3d')\n",
    "X = np.arange(-5, 5, 0.25)\n",
    "Y = np.arange(-5, 5, 0.25)\n",
    "X, Y = np.meshgrid(X, Y)\n",
    "R = np.sqrt(X**2 + Y**2)\n",
    "Z = np.sin(R)\n",
    "surf1 = ax1.plot_surface(X, Y, Z, rstride=1, cstride=1, cmap=cm.coolwarm,\n",
    "                       linewidth=0, antialiased=False)\n",
    "ax1.set_zlim3d(-1.01, 1.01)\n",
    "\n",
    "#---- Second subplot\n",
    "ax2 = fig.add_subplot(1, 2, 2, projection='3d',sharex = ax1,sharey = ax1,sharez = ax1)\n",
    "surf2 = ax2.plot_surface(X, Y, Z, rstride=1, cstride=1, cmap=cm.coolwarm,\n",
    "                       linewidth=0, antialiased=False)\n",
    "\n",
    "plt.show()"
   ]
  },
  {
   "cell_type": "markdown",
   "metadata": {},
   "source": [
    "#### In the next part I would like to be able to plot a series of energy level sheets so that I can look at the separation of the energy levels between multiple levels"
   ]
  },
  {
   "cell_type": "code",
   "execution_count": null,
   "metadata": {},
   "outputs": [],
   "source": [
    "######################################################\n",
    "#         LOAD DATA\n",
    "######################################################\n",
    "BETWEENLEVELS = (1,None)\n",
    "\n",
    "DATA = mylib.load_object(\"Nicks_device_square_(radial_energy_levels)(v001)\")\n",
    "thetas = range(1,100)\n",
    "ss = np.linspace(0,1,1000)\n",
    "x = np.asarray([(1-ss) if theta<= 45 else (1-ss)*np.tan((90-theta)*np.pi/180.) for theta in thetas]) \n",
    "y = np.asarray([(1-ss)*np.tan((theta)*np.pi/180.)*(1-ss) if theta <=45 else (1-ss) for theta in thetas])\n",
    "energy_levels = DATA['energy_levels']\n",
    "if BETWEENLEVELS[1]==None:\n",
    "    z = [energy_levels[theta][:,BETWEENLEVELS[0]] for theta in range(0,99)]\n",
    "else:\n",
    "    z = [energy_levels[theta][:,BETWEENLEVELS[1]]- energy_levels[theta][:,BETWEENLEVELS[0]] for theta in range(0,99)]\n",
    "z = np.asarray(z)\n",
    "\n",
    "x = np.reshape(x,x.size)\n",
    "y = np.reshape(y,y.size)\n",
    "z = np.reshape(z,z.size)\n",
    "\n",
    "xi = np.linspace(0,1,100)\n",
    "yi = np.linspace(0,1,100)\n",
    "zi = griddata((x, y), z, (xi[None,:], yi[:,None]), method='cubic')\n",
    "\n",
    "\n",
    "# Twice as wide as it is tall.\n",
    "fig = plt.figure(figsize=plt.figaspect(0.5))\n",
    "\n",
    "#---- First subplot\n",
    "ax1 = fig.add_subplot(1, 1, 1, projection='3d')\n",
    "X, Y = np.meshgrid(xi, yi)\n",
    "Z = zi\n",
    "surf1 = ax1.plot_surface(X, Y, Z, cmap=cm.coolwarm,\n",
    "                       linewidth=0, antialiased=False,vmin =min(z),vmax=max(z))\n",
    "ax1.set_xlabel('$A_{log}(s)$')\n",
    "ax1.set_ylabel('$A_{anc}(s)$')\n",
    "ax1.set_zlabel('E')\n",
    "#ax1.set_zlim3d(-1.01, 1.01)\n",
    "plt.show()"
   ]
  },
  {
   "cell_type": "code",
   "execution_count": null,
   "metadata": {},
   "outputs": [],
   "source": [
    "BR = [cm.Blues,cm.Reds]\n",
    "\n",
    "######################################################\n",
    "#         LOAD DATA\n",
    "######################################################\n",
    "LEVELS = [0,1,2]\n",
    "\n",
    "DATA = mylib.load_object(\"Nicks_device_square_(radial_energy_levels)(v001)\")\n",
    "thetas = range(1,100)\n",
    "ss = np.linspace(0,1,1000)\n",
    "x = np.asarray([(1-ss) if theta<= 45 else (1-ss)*np.tan((90-theta)*np.pi/180.) for theta in thetas]) \n",
    "y = np.asarray([(1-ss)*np.tan((theta)*np.pi/180.)*(1-ss) if theta <=45 else (1-ss) for theta in thetas])\n",
    "energy_levels = DATA['energy_levels']\n",
    "\n",
    "x = np.reshape(x,x.size)\n",
    "y = np.reshape(y,y.size)\n",
    "xi = np.linspace(0,1,100)\n",
    "yi = np.linspace(0,1,100)\n",
    "\n",
    "#calculate the minimum energy involved\n",
    "z0 = [energy_levels[theta][:,min(LEVELS)] for theta in range(0,99)]\n",
    "z0 = np.asarray(z0)\n",
    "z0 = np.reshape(z0,z0.size)\n",
    "minE=min(z0)\n",
    "\n",
    "# Twice as wide as it is tall.\n",
    "fig = plt.figure(figsize=plt.figaspect(0.5))\n",
    "\n",
    "#---- First subplot\n",
    "ax1 = fig.gca(projection='3d')\n",
    "X, Y = np.meshgrid(xi, yi)\n",
    "surfs = []\n",
    "for i in range(1,len(LEVELS)):\n",
    "    z = [energy_levels[theta][:,LEVELS[i]] for theta in range(0,99)]\n",
    "    z = np.asarray(z)\n",
    "    z = np.log(np.reshape(z,z.size)-z0)\n",
    "    zi = griddata((x, y), z, (xi[None,:], yi[:,None]), method='cubic')\n",
    "    Z = zi\n",
    "    surfs.append(ax1.plot_surface(X, Y, Z, cmap=BR[i%2], linewidth=0.1, alpha=1., antialiased=True,vmin =-14,vmax=max(z)))\n",
    "    \n",
    "ax1.set_xlabel('$A_{log}(s)$')\n",
    "ax1.set_ylabel('$A_{anc}(s)$')\n",
    "ax1.set_zlabel('$\\log(E-E_{%s})$'%min(LEVELS))\n",
    "#ax1.set_zlim3d(-1.01, 1.01)\n",
    "plt.show()"
   ]
  },
  {
   "cell_type": "code",
   "execution_count": null,
   "metadata": {},
   "outputs": [],
   "source": [
    "min(z[z!=-np.inf])"
   ]
  },
  {
   "cell_type": "code",
   "execution_count": null,
   "metadata": {},
   "outputs": [],
   "source": []
  },
  {
   "cell_type": "code",
   "execution_count": null,
   "metadata": {},
   "outputs": [],
   "source": []
  }
 ],
 "metadata": {
  "language_info": {
   "name": "python",
   "pygments_lexer": "ipython3"
  }
 },
 "nbformat": 4,
 "nbformat_minor": 1
}
