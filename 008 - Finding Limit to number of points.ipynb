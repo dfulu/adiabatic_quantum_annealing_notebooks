{
 "cells": [
  {
   "cell_type": "markdown",
   "metadata": {},
   "source": [
    "In this notebook I simply wish to see the dependence of the soltuion on the number of points used in the integration to see what an appropriate cut off might be."
   ]
  },
  {
   "cell_type": "markdown",
   "metadata": {},
   "source": [
    "### Run all cells to load and make them interactive. Running anneals has been stringed out."
   ]
  },
  {
   "cell_type": "code",
   "execution_count": null,
   "metadata": {},
   "outputs": [],
   "source": [
    "# import all of the junk I may need\n",
    "import project_lib as mylib\n",
    "import numpy as np\n",
    "import matplotlib.pyplot as plt\n",
    "import scipy as sp\n",
    "% matplotlib notebook"
   ]
  },
  {
   "cell_type": "code",
   "execution_count": null,
   "metadata": {},
   "outputs": [],
   "source": [
    "# used to reload throughout\n",
    "mylib.rl()"
   ]
  },
  {
   "cell_type": "code",
   "execution_count": null,
   "metadata": {},
   "outputs": [],
   "source": [
    "# want to test out the class before going ahead\n",
    "qubits = 4\n",
    "T = 5\n",
    "scale = 3. # this specifies the maximum amplitude of the J and h parameters\n",
    "J = 2*scale*np.random.random((qubits,qubits)) - scale # this makes random uniform distribution between + and - scale\n",
    "h = 2*scale*np.random.random(qubits) - scale"
   ]
  },
  {
   "cell_type": "code",
   "execution_count": null,
   "metadata": {},
   "outputs": [],
   "source": [
    "# test out one of them here to see if the probability of success is in the right ballpark. Looking for something around 70%\n",
    "a_test = mylib.Anneal(qubits,[h,J],T=T, points = 1000)\n",
    "a_test.run()\n",
    "a_test.show_results()\n",
    "if  np.all(a_test.problem_x0_prob[-1] == a_test.instant_x0_prob[-1]): \n",
    "    print 'True, instant and problem projections line up at end of anneal'"
   ]
  },
  {
   "cell_type": "code",
   "execution_count": null,
   "metadata": {},
   "outputs": [],
   "source": [
    "################################# OBSOLETE CELL REPLACED BY LOADING NOW ################################################\n",
    "# here we run anneals with increasing numbers of points in the integration\n",
    "'''\n",
    "points = 2**np.arange(2,15)\n",
    "an = {}\n",
    "last_prob = []\n",
    "for i,p in enumerate(points):\n",
    "    print 'Running ' + str(i) + ' out of '+str(len(points))\n",
    "    an_n=mylib.Anneal(qubits,[h,J],T=T, points = p)\n",
    "    an_n.run()\n",
    "    an['a_'+str(p)] = an_n\n",
    "    last_prob.append(an_n.problem_x0_prob[-1]) \n",
    "mylib.save_object(an,'Jupyter008.001')\n",
    "'''"
   ]
  },
  {
   "cell_type": "code",
   "execution_count": null,
   "metadata": {},
   "outputs": [],
   "source": [
    "# load the dictionary of anneals-with-p-points for 4 qubits and plot the final probability\n",
    "an= mylib.load_object('Jupyter008.001')\n",
    "points = 2**np.arange(2,15)\n",
    "last_prob = []\n",
    "for p in points:\n",
    "    last_prob.append(an['a_'+str(p)].problem_x0_prob[-1])\n",
    "\n",
    "from matplotlib import cm\n",
    "def f_colour(points):\n",
    "    spec = cm.nipy_spectral\n",
    "    return [ spec(x) for x in np.linspace(0, 1, points) ]\n",
    "\n",
    "colours = f_colour(len(points))\n",
    "\n",
    "plt.figure()\n",
    "plt.semilogx(points,last_prob)\n",
    "ran = max(last_prob)-min(last_prob)\n",
    "plt.ylim(min(last_prob)-0.05*ran, max(last_prob)+0.05*ran)\n",
    "plt.scatter(points,last_prob,c=colours)\n",
    "plt.ylabel('$P\\,(correct\\,solution)$')\n",
    "plt.xlabel('points')\n",
    "plt.show()"
   ]
  },
  {
   "cell_type": "code",
   "execution_count": null,
   "metadata": {},
   "outputs": [],
   "source": [
    "# load from cell above. Must run cell above before this one\n",
    "# Plots the probability of being in the ground state throughout the annealing process for p points for the case of 4 qubits\n",
    "plt.figure(figsize = (12,6))\n",
    "plt.subplot2grid((1,5),(0,0),colspan = 4)\n",
    "for i,p in enumerate(points):\n",
    "    plt.plot(an['a_'+str(p)].ss,an['a_'+str(p)].problem_x0_prob,label=str(p),color = colours[i])\n",
    "plt.ylabel('$P(Problem\\,ground\\,state)$')\n",
    "plt.xlabel('s')\n",
    "plt.legend(bbox_to_anchor=(1.05, 1), loc=2, borderaxespad=0.,title = 'Number of Points')\n",
    "plt.show()"
   ]
  },
  {
   "cell_type": "markdown",
   "metadata": {},
   "source": [
    "We want to do the same again but now for more qubits. We will scale it up to 8 to see if there are any obvious differences"
   ]
  },
  {
   "cell_type": "code",
   "execution_count": null,
   "metadata": {},
   "outputs": [],
   "source": [
    "################################# OBSOLETE CELL REPLACED BY LOADING NOW ################################################\n",
    "# do the same again but with more qubits so that we can compare\n",
    "'''\n",
    "qubits = 8\n",
    "T = 5\n",
    "scale = 3. # this specifies the maximum amplitude of the J and h parameters\n",
    "J = 2*scale*np.random.random((qubits,qubits)) - scale # this makes random uniform distribution between + and - scale\n",
    "h = 2*scale*np.random.random(qubits) - scale\n",
    "points = 2**np.arange(2,15)\n",
    "\n",
    "\n",
    "an = {}\n",
    "last_prob = []\n",
    "for i,p in enumerate(points):\n",
    "    print 'Running ' + str(i) + ' out of '+str(len(points))\n",
    "    an_n=mylib.Anneal(qubits,[h,J],T=T, points = p)\n",
    "    an_n.run()\n",
    "    an['a_'+str(p)] = an_n\n",
    "    last_prob.append(an_n.problem_x0_prob[-1]) \n",
    "mylib.save_object(an,'Jupyter008.002')\n",
    "'''"
   ]
  },
  {
   "cell_type": "code",
   "execution_count": null,
   "metadata": {},
   "outputs": [],
   "source": [
    "# load the dictionary of anneals-with-p-points for 8 qubits and plot the final probability\n",
    "an= mylib.load_object('Jupyter008.002')\n",
    "points = 2**np.arange(2,15)\n",
    "last_prob = []\n",
    "for p in points:\n",
    "    last_prob.append(an['a_'+str(p)].problem_x0_prob[-1])\n",
    "\n",
    "from matplotlib import cm\n",
    "def f_colour(points):\n",
    "    spec = cm.nipy_spectral\n",
    "    return [ spec(x) for x in np.linspace(0, 1, points) ]\n",
    "\n",
    "colours = f_colour(len(points))\n",
    "\n",
    "plt.figure()\n",
    "plt.semilogx(points,last_prob)\n",
    "ran = max(last_prob)-min(last_prob)\n",
    "plt.ylim(min(last_prob)-0.05*ran, max(last_prob)+0.05*ran)\n",
    "plt.scatter(points,last_prob,c=colours)\n",
    "plt.ylabel('$P\\,(correct\\,solution)$')\n",
    "plt.xlabel('points')\n",
    "plt.show()"
   ]
  },
  {
   "cell_type": "code",
   "execution_count": null,
   "metadata": {},
   "outputs": [],
   "source": [
    "# load from cell above. Must run cell above before this one\n",
    "# Plots the probability of being in the ground state throughout the annealing process for p points for the case of 8 qubits\n",
    "    \n",
    "plt.figure(figsize = (12,6))\n",
    "plt.subplot2grid((1,5),(0,0),colspan = 4)\n",
    "for i,p in enumerate(points):\n",
    "    plt.plot(an['a_'+str(p)].ss,an['a_'+str(p)].problem_x0_prob,label=str(p),color = colours[i])\n",
    "plt.ylabel('$P(Problem\\,ground\\,state)$')\n",
    "plt.xlabel('s')\n",
    "plt.legend(bbox_to_anchor=(1.05, 1), loc=2, borderaxespad=0.,title = 'Number of Points')\n",
    "plt.show()"
   ]
  }
 ],
 "metadata": {
  "language_info": {
   "name": "python",
   "pygments_lexer": "ipython3"
  }
 },
 "nbformat": 4,
 "nbformat_minor": 1
}
