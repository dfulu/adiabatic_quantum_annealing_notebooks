{
 "cells": [
  {
   "cell_type": "code",
   "execution_count": null,
   "metadata": {},
   "outputs": [],
   "source": [
    "import project_lib as mylib\n",
    "import numpy as np\n",
    "import matplotlib.pyplot as plt\n",
    "import matplotlib.image as mpimg\n",
    "import scipy as sp\n",
    "%matplotlib inline\n",
    "\n",
    "obdic,vadic = mylib.jupyter_loader(005)\n",
    "for key in obdic:\n",
    "        exec(key+\"\"\"=obdic[key]\"\"\")\n",
    "for key in vadic:\n",
    "        exec(key+\"\"\"=vadic[key]\"\"\")"
   ]
  },
  {
   "cell_type": "code",
   "execution_count": null,
   "metadata": {},
   "outputs": [],
   "source": [
    "\n",
    "plt.figure(figsize =(13,6))\n",
    "plt.subplot2grid((1,2),(0,0))\n",
    "plt.plot([0,1,0,-1,0],[1,0,-1,0,1], color = 'grey')\n",
    "plt.plot([0,0],[1,2],[1,2],[0,0],[0,0],[-1,-2],[-1,-2],[0,0], color = 'grey')\n",
    "plt.plot([0,0,1,2,0,0,-1,-2],[1,2,0,0,-1,-2,0,0], linestyle = '', marker = 'o', color = 'white',ms = 15)\n",
    "\n",
    "plt.text(0.2,1.9,'$h = 1$')\n",
    "plt.text(0.6,0.5,'$J_{ij} = -1$')\n",
    "plt.text(0.2,0.9,'$0>h>-1$')\n",
    "plt.text(0.1,1.45,'$J_{ij} = -1$')\n",
    "\n",
    "plt.xlim(-2.5, 2.5);plt.ylim(-2.5, 2.5)\n",
    "\n",
    "\n",
    "plt.subplot2grid((1,2),(0,1))\n",
    "plt.plot([0,1,0,-1,0],[1,0,-1,0,1], color = 'grey')\n",
    "plt.plot([0,0],[1,2],[1,2],[0,0],[0,0],[-1,-2],[-1,-2],[0,0], color = 'grey')\n",
    "plt.plot([0,0,1,2,0,0,-1,-2],[1,2,0,0,-1,-2,0,0], linestyle = '', marker = 'o', color = 'white',ms = 15)\n",
    "\n",
    "coords = [(0,2),(2,0),(0,-2),(-2,0),(0,1),(1,0),(0,-1),(-1,0)]\n",
    "for i,c in enumerate(coords):\n",
    "    plt.text(c[0],c[1],str(i+1),verticalalignment='center', horizontalalignment='center')\n",
    "\n",
    "\n",
    "plt.xlim(-2.5, 2.5);plt.ylim(-2.5, 2.5)\n",
    "plt.show()\n"
   ]
  },
  {
   "cell_type": "markdown",
   "metadata": {},
   "source": [
    "### We are going to set up a problem based on the structure above. I want to see how the energy levels work for it"
   ]
  },
  {
   "cell_type": "markdown",
   "metadata": {},
   "source": [
    "The solution to the problem above should be that they are all in the spin-up position. The -ve $J_{ij}$ values mean that it is energetically favourable for adjacent qubits to be alligned. The outer field is greater in magnitude than the inner field so they qubits tend to allign with that giving spin up"
   ]
  },
  {
   "cell_type": "code",
   "execution_count": null,
   "metadata": {},
   "outputs": [],
   "source": [
    "\n",
    "h_in = -0.5 # 0 > h_in > -1\n",
    "h = [1.]*4+[h_in]*4\n",
    "J = [[0,0,0,-1,0,0,0],[0,0,0,-1,0,0],[0,0,0,-1,0],[0,0,0,-1],[-1,0,-1],[-1,0],[-1]]\n",
    "qubits = 8\n",
    "\n",
    "a_1 = mylib.Anneal(qubits,[h,J],T=1000,points = 1000, sched_func='natural')\n",
    "a_1.run()"
   ]
  },
  {
   "cell_type": "code",
   "execution_count": null,
   "metadata": {},
   "outputs": [],
   "source": [
    "a_1.show_results()"
   ]
  },
  {
   "cell_type": "code",
   "execution_count": null,
   "metadata": {},
   "outputs": [],
   "source": [
    "ansbit = mylib.bit_values(a_1.qubits,a_1.problem_x0)\n",
    "\n",
    "colours= ['0.' if b == 1 else '1.' for b in ansbit]\n",
    "arrows= ['$\\Uparrow$' if b == 1 else '$\\Downarrow$' for b in ansbit]\n",
    "arrowcolours = ['white' if b == 1 else 'black' for b in ansbit]\n",
    "\n",
    "plt.figure(figsize = (8,8))\n",
    "plt.plot([0,1,0,-1,0],[1,0,-1,0,1], color = 'grey')\n",
    "plt.plot([0,0],[1,2],[1,2],[0,0],[0,0],[-1,-2],[-1,-2],[0,0], color = 'grey')\n",
    "\n",
    "coords = [(0,2),(2,0),(0,-2),(-2,0),(0,1),(1,0),(0,-1),(-1,0)]\n",
    "for i,c in enumerate(coords):\n",
    "    plt.plot(c[0],c[1], linestyle = '', marker = 'o', color = colours[i],ms = 20)\n",
    "    plt.text(c[0],c[1],arrows[i],color = arrowcolours[i],verticalalignment='center', horizontalalignment='center',fontsize = 15)\n",
    "\n",
    "\n",
    "plt.xlim(-2.5, 2.5);plt.ylim(-2.5, 2.5)\n",
    "plt.show()"
   ]
  },
  {
   "cell_type": "code",
   "execution_count": null,
   "metadata": {},
   "outputs": [],
   "source": [
    "a1 = a_1\n",
    "objectdict = {'a_1':a_1}\n",
    "vardict = {}\n",
    "mylib.jupyter_saver(005,objectdict,vardict)"
   ]
  },
  {
   "cell_type": "code",
   "execution_count": null,
   "metadata": {},
   "outputs": [],
   "source": [
    "objectdict['a_1']"
   ]
  }
 ],
 "metadata": {
  "language_info": {
   "name": "python",
   "pygments_lexer": "ipython3"
  }
 },
 "nbformat": 4,
 "nbformat_minor": 0
}
