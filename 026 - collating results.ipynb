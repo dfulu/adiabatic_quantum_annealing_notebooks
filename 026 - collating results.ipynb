{
 "cells": [
  {
   "cell_type": "code",
   "execution_count": null,
   "metadata": {},
   "outputs": [],
   "source": [
    "import project_lib as mylib\n",
    "import numpy as np\n",
    "import matplotlib.pyplot as plt\n",
    "import matplotlib.image as mpimg"
   ]
  },
  {
   "cell_type": "markdown",
   "metadata": {},
   "source": [
    "### In this file I plan to bring together all of my results so far so that I can analyse them, think about what they tell me and where I should go next"
   ]
  },
  {
   "cell_type": "code",
   "execution_count": null,
   "metadata": {},
   "outputs": [],
   "source": [
    "###############################################################################################\n",
    "#      DEFINE ALL OF THE IMAGES I WANT TO USE\n",
    "###############################################################################################\n",
    "NicksDeviceDegRem = ['NicksDevice_(degen_removed)_theta','NicksDevice_(degen_removed)_bottom_level']\n",
    "NicksDeviceStandard = ['NicksDevice_standard_theta','NicksDevice_standard_bottom_level','NicksDevice_standard_top_degen_level']\n",
    "h_0orC_d3v1 = ['h_split_zero_or_constant_v(deg3v1)_theta','h_split_zero_or_constant_v(deg3v1)_bottom_level','h_split_zero_or_constant_v(deg3v1)_top_degen_level']\n",
    "h_0orC_d2v1 = ['h_split_zero_or_constant_v(deg2v1)_theta','h_split_zero_or_constant_v(deg2v1)_bottom_level','h_split_zero_or_constant_v(deg2v1)_top_degen_level']\n",
    "h_0orC_d1v1 = ['h_split_zero_or_constant_v(deg1v1)_theta','h_split_zero_or_constant_v(deg1v1)_bottom_level']\n",
    "alt_multibody_LJ = ['alt_multibody_(log+joining)_theta','alt_multibody_(log+joining)_bottom_level','alt_multibody_(log+joining)_top_degen_level']\n",
    "alt_multibody_L = ['alt_multibody_(log)_theta','alt_multibody_(log)_bottom_level','alt_multibody_(log)_top_degen_level']\n",
    "h_gauss = ['h_gauss_distribution_theta','h_gauss_distribution_bottom_level']"
   ]
  },
  {
   "cell_type": "code",
   "execution_count": null,
   "metadata": {},
   "outputs": [],
   "source": [
    "###############################################################################################\n",
    "#     make a function that given one of the inputs above will plot all images and write       #\n",
    "###############################################################################################\n",
    "def f(files,runname):\n",
    "    print '''\n",
    "    ###############################################################################################\n",
    "    #     Plotting for the run : %s\n",
    "    ###############################################################################################\n",
    "    '''%runname\n",
    "    imgs = []\n",
    "    titles = ['Probability of Success with Theta', 'A2 Colour plot for Bottom Level', 'A2 Colour plot for Top Degenerate Level']\n",
    "    for n, fl in enumerate(files):\n",
    "        img = mpimg.imread(r\"C:\\Users\\User\\Documents\\FIZZIX\\4th Year\\Project\\Graphs\\%s.png\"%fl)\n",
    "        plt.figure(n,figsize=(10,6)); plt.title(titles[n]); plt.imshow(img);plt.axis('off')\n",
    "    plt.show('all')"
   ]
  },
  {
   "cell_type": "code",
   "execution_count": null,
   "metadata": {},
   "outputs": [],
   "source": [
    "f(h_gauss, \"Guassian draw of h and J. Split based on value of h\")\n",
    "\n",
    "f(h_0orC_d1v1,\"h either zero or constant. Degeneracy of 1 in bottom level\")\n",
    "f(h_0orC_d2v1,\"h either zero or constant. Degeneracy of 2 in bottom level\")\n",
    "f(h_0orC_d3v1,\"h either zero or constant. Degeneracy of 3 in bottom level\")\n",
    "\n",
    "f(NicksDeviceStandard,\"Nick's Device with the inherent degeneracy\")\n",
    "f(NicksDeviceDegRem,\"Nick's Device with Degeneracy Removed\")\n",
    "\n",
    "f(alt_multibody_L, \"The Leib Multibody Device using only log qubits in A_log\")\n",
    "f(alt_multibody_LJ, \"The Leib Multibody Device using log and joing qubits in A_log\")\n"
   ]
  },
  {
   "cell_type": "markdown",
   "metadata": {},
   "source": [
    "    ###############################################################################################\n",
    "    #     Details for the run : Guassian draw of h and J. Split based on value of h\n",
    "    ###############################################################################################\n",
    "\n",
    " - In this run we simply drew $h_i$  and $J_ij$ from a normal distribution with standard deviation $\\sigma = 3$ and mean value $ \\mu = 0$\n",
    " - This was for 8 qubits.\n",
    " - The qubits were split into *high* or *low* based on the value of $h_i$\n",
    " - The 4 qubits with the highest $h_i$ value were put in *high*, the rest in *low*"
   ]
  },
  {
   "cell_type": "markdown",
   "metadata": {},
   "source": [
    "    ###############################################################################################\n",
    "    #     Details for the run : h either zero or constant. All degeneracies\n",
    "    ###############################################################################################\n",
    "    \n",
    " - The values of $h_i$ were selected to be either $h_0$ or *zero* with probabilities: $P(h_i=h_0)=P(h_i=0)=0.5$\n",
    " - The values of $J_{ij}$ were selected to be one of {$-J_0, 0, J_0$} with probabilities  $P(J_{ij} = -J_0) = P(J_{ij} = 0) = P(J_{ij} = J_0) = 1/3$\n",
    " - We constrained the random process so that any generated $h_i$ or $J_ij$ had to fullfill the following conditions:\n",
    "     - $\\frac{1}{4}Qh_0< \\sum_{i} h_i< \\frac{3}{4}Qh_0$ ... fraction of $h_i$ elements set to zero is between 25-75%\n",
    "     - $\\frac{N_{J=0}}{Q}<0.5$ ... where $N_{J=0}$ is the number of entries of J where J=0 ...fraction of $J_ij$ elements set to zero is less than half\n",
    " - The degeneracies as stated are degeneracies of the ground state of $H_P$\n",
    " - The *high* schedule was applied to the qubits with non-zero $h_i$ and the low schedule to the others\n",
    " - In these runs we used 8 qubits, Q=8, and $J_0 = 3$ and $h_i =  2$"
   ]
  },
  {
   "cell_type": "markdown",
   "metadata": {},
   "source": [
    "    ###############################################################################################\n",
    "    #     Details for the run : Nick's Device\n",
    "    ###############################################################################################\n",
    " - Device constructed as laid out in Nick's paper\n",
    " - Completed with 4 logical and 4 ancilla qubits\n",
    " - Schedule split in logical and ancilla qubits\n",
    " - Considered both cases of removing the degeneracy or not"
   ]
  },
  {
   "cell_type": "markdown",
   "metadata": {},
   "source": [
    "    ###############################################################################################\n",
    "    #     Details for the run : The Leib Multibody Device \n",
    "    ###############################################################################################\n",
    " - Done using the derivation in the Leib paper\n",
    " - Uses 4 logical qubits and 3 ancilla qubits\n",
    " - Consider the split of either (logical+joining and centre) or (logical and joining+centre)"
   ]
  },
  {
   "cell_type": "code",
   "execution_count": null,
   "metadata": {},
   "outputs": [],
   "source": [
    "from IPython.display import Image\n",
    "Image(\"C:\\Users\\User\\Documents\\FIZZIX\\4th Year\\Project\\presentation\\alt_multi_bod_4.png\")\n",
    "PATH = r\"C:/Users/User/Documents/FIZZIX/4th Year/Project/presentation/\" \n",
    "Image(filename = PATH + \"alt_multi_bod_4.png\", width=300, height=300)"
   ]
  },
  {
   "cell_type": "code",
   "execution_count": null,
   "metadata": {},
   "outputs": [],
   "source": []
  },
  {
   "cell_type": "code",
   "execution_count": null,
   "metadata": {},
   "outputs": [],
   "source": []
  }
 ],
 "metadata": {
  "language_info": {
   "name": "python",
   "pygments_lexer": "ipython3"
  }
 },
 "nbformat": 4,
 "nbformat_minor": 1
}
