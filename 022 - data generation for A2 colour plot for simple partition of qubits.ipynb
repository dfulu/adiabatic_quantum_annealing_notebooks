{
 "cells": [
  {
   "cell_type": "markdown",
   "metadata": {},
   "source": [
    "### In this notebook I want make one of the A2 colour plots for a random ising model problems where we separate the qubits into two classes based on their $h_i$ value. We will have a hi class and a lo class of qubtis"
   ]
  },
  {
   "cell_type": "markdown",
   "metadata": {},
   "source": [
    "From a randomly selected optimisation problem where we generate $h_i$ and $J_{ij}$. Where the group of N qubits in the problem are $Q$ and the high class is $Q_{hi}$ and the low class is $Q_{lo}$. Qubit $i$ will be in the high class if its h value is greater than the median value. If there is an odd number of qubits, then the median qubit is assigned a class based on whether it's value is closer to the average value of the other elements in the $Q_{hi}$ group or or the $Q_{lo}$ group. "
   ]
  },
  {
   "cell_type": "code",
   "execution_count": null,
   "metadata": {},
   "outputs": [],
   "source": [
    "import project_lib as mylib\n",
    "import numpy as np\n",
    "import matplotlib.pyplot as plt"
   ]
  },
  {
   "cell_type": "code",
   "execution_count": null,
   "metadata": {},
   "outputs": [],
   "source": [
    "Qubits_test = 4\n",
    "scale_test = 3.\n",
    "h_test = np.random.normal(0,scale_test,Qubits_test)\n",
    "J_test =  np.random.normal(0,scale_test,(Qubits_test,Qubits_test))\n",
    "sorted_h_test = np.sort(h_test)\n",
    "if Qubits_test%2 == 0: # if even\n",
    "    h_div_test = np.average([sorted_h_test[Qubits_test/2 - 1],sorted_h_test[Qubits_test/2]])\n",
    "elif Qubits_test%2 == 1: # if odd\n",
    "    h_div_test = np.average([np.average(sorted_h_test[:(Qubits_test-1)/2]),np.average(sorted_h_test[(Qubits_test+1)/2:])])\n",
    "Q_hi_test = np.where(h_test>=h_div_test)[0]\n",
    "Q_lo_test = np.where(h_test<h_div_test)[0]\n",
    "print Q_hi_test\n",
    "print Q_lo_test"
   ]
  },
  {
   "cell_type": "code",
   "execution_count": null,
   "metadata": {},
   "outputs": [],
   "source": [
    "# have a signle run before we move on to do the full scope examination\n",
    "Qubits = 8\n",
    "scale = 3.\n",
    "h_i = np.random.normal(0,scale,Qubits)\n",
    "J_ij =  np.random.normal(0,scale,(Qubits,Qubits))\n",
    "sorted_h_i = np.sort(h_i)\n",
    "if Qubits%2 == 0: # if even\n",
    "    h_i_div = np.average([sorted_h_i[Qubits/2 - 1],sorted_h_i[Qubits/2]])\n",
    "elif Qubits%2 == 1: # if odd\n",
    "    h_i_div = np.average([np.average(sorted_h_i[:(Qubits-1)/2]),np.average(sorted_h_i[(Qubits+1)/2:])])\n",
    "Q_hi = np.where(h_i>=h_i_div)[0]\n",
    "Q_lo = np.where(h_i<h_i_div)[0]\n",
    "print Q_hi\n",
    "print Q_lo\n",
    "\n",
    "\n",
    "#now lets run it\n",
    "a = mylib.Anneal(Qubits,[h_i,J_ij],T=10,points = 1000)\n",
    "a.run()\n",
    "a.show_results()"
   ]
  },
  {
   "cell_type": "code",
   "execution_count": null,
   "metadata": {},
   "outputs": [],
   "source": [
    "import matplotlib.image as mpimg\n",
    "%matplotlib inline\n",
    "img1=mpimg.imread(r\"C:\\Users\\User\\Documents\\FIZZIX\\4th Year\\Project\\Jupyter Extra Images\\Jup010 - Anneal_path_graph.png\")\n",
    "plt.figure(figsize=(6,6)); plt.imshow(img1)\n",
    "plt.axis('off')\n",
    "plt.show()"
   ]
  },
  {
   "cell_type": "markdown",
   "metadata": {},
   "source": [
    "I want to carry out a bunch of anneals where the annealing schedule A path with have the above form except substituting that the log --> hi and anc --> lo. I want them to be simply a linear schedule where they are related by\n",
    "\\begin{equation}\n",
    "    A_{lo}(s)=(1-s) \\sin(\\theta)\n",
    "\\end{equation}\n",
    "\n",
    "\\begin{equation}\n",
    "    A_{hi}(s)=(1-s) \\cos(\\theta)\n",
    "\\end{equation}\n",
    "\n",
    "\\begin{equation}\n",
    "    \\text{and so }\\\\\n",
    "    \\sqrt{A_{lo}^2(s)+A_{hi}^2(s)}=(1-s)\n",
    "\\end{equation}"
   ]
  },
  {
   "cell_type": "code",
   "execution_count": null,
   "metadata": {},
   "outputs": [],
   "source": [
    "# This insures that we complete a small number of points that cover the theta range first. Then we go for more detail.\n",
    "thetas_priority = np.asarray([1,50,99,25,75,10,40,60,90])\n",
    "thetas_all = np.linspace(1,99,99)\n",
    "mask = np.in1d(thetas_all, thetas_priority)\n",
    "thetas_unordered = np.concatenate((thetas_priority,thetas_all[np.logical_not(mask)]))\n",
    "print thetas_unordered"
   ]
  },
  {
   "cell_type": "code",
   "execution_count": null,
   "metadata": {},
   "outputs": [],
   "source": [
    "# We are going to use the h_i and J_ij parameters used in the example above. This is so we can have prechecked a \n",
    "# single run with these parameters to make sure they don't lead to a solution far from what I am expecting\n",
    "J_ij = np.triu(J_ij, k =1) # for tidyness\n",
    "print h_i\n",
    "print J_ij\n",
    "\n",
    "#now lets run it with the intended annealing schedules\n",
    "thetas_priority = np.asarray([1,50,99,25,75,10,40,60,90])\n",
    "thetas_all = np.linspace(1,99,99)\n",
    "mask = np.in1d(thetas_all, thetas_priority)\n",
    "thetas_unordered = np.concatenate((thetas_priority,thetas_all[np.logical_not(mask)]))*np.pi/200\n",
    "an = {}\n",
    "last_prob = []\n",
    "for x in thetas_unordered:\n",
    "    sfhi = lambda points: np.cos(x)*mylib.linear_schedule(points)\n",
    "    sflo = lambda points: np.sin(x)*mylib.linear_schedule(points)\n",
    "    sfB = mylib.linear_schedule\n",
    "    sched_funcs = [[sfhi if n in Q_hi else sflo for n in range(Qubits)],[sfB]]\n",
    "    a = mylib.Anneal(Qubits,[h_i,J_ij],T=10,points = 1000,sched_funcs = sched_funcs, diff_scheds = True)\n",
    "    a.run()\n",
    "    an['theta='+str(x)]=a\n",
    "    last_prob.append(a.problem_x0_prob[-1])\n",
    "    mylib.save_object(an,'Jupyter022.001')"
   ]
  },
  {
   "cell_type": "code",
   "execution_count": null,
   "metadata": {},
   "outputs": [],
   "source": [
    "# ------------------------------------------------------------------------------------------------------------------------------\n",
    "#      HERE I WANT TO DEFINE A FUNCTION THAT RETURNS THE HAMILTONIAN AT ANY POINT ON A2 SPACE\n",
    "# ------------------------------------------------------------------------------------------------------------------------------\n",
    "'''We need this to be specific to the linear schedule. So for each point we will need to calculate the angle of theta and\n",
    "thus calculate s so we can feed this into B(s). \n",
    "I want to be able create a plot that has sqrt(A_log**2+A_anc**2) = 1 since these are the point that my previous work has \n",
    "passed through'''\n",
    "# need to load back in the an that I created before. Pick the one from the centre [with theta = 45 degrees].\n",
    "a =  mylib.load_object('Jupyter022.001')['theta=%s'%(np.pi/4.)]\n",
    "nax = 1000\n",
    "sp = np.linspace(0, 1, nax)\n",
    "gaps = np.zeros((nax,nax))\n",
    "def H_A2((x,y),s):\n",
    "    return sum([a.Hb[i]*A for i,A in enumerate([x if n in Q_hi else y for n in range(Qubits)])])+s*a.Hp\n",
    "\n",
    "def gap_finder(M):\n",
    "    d,P,P_in = mylib.Diagonaliser(M)\n",
    "    return min(d[d!=min(d)])-min(d)\n",
    "\n",
    "\n",
    "def gap_A2((x,y)):\n",
    "    s = 1-(x**2+y**2)\n",
    "    if s<0: return 0\n",
    "    else: return gap_finder(H_A2((x,y),s))\n",
    "\n",
    "for num_x,x in enumerate(sp):\n",
    "    print 'running %s of %s'%(num_x,nax) #should have been (num_x,nax-1) but ahh-well\n",
    "    for num_y,y in enumerate(sp):\n",
    "        gaps[num_x,num_y] = gap_A2((x,y))\n",
    "        \n",
    "mylib.save_object(gaps,'Jupyter022.002')"
   ]
  },
  {
   "cell_type": "code",
   "execution_count": null,
   "metadata": {},
   "outputs": [],
   "source": [
    "# want to make the data of the same format that I did for the other A2 colour plot\n",
    "an =  mylib.load_object('Jupyter022.001')\n",
    "thetas = np.asarray([float(key[6:]) for key in an.keys()])\n",
    "reorder = thetas.argsort()\n",
    "thetas = thetas[reorder]\n",
    "last_probs = np.asarray([an['theta='+str(theta)].problem_x0_prob[-1] for theta in thetas])\n",
    "obj = {'thetas': thetas, 'last_probs': last_probs}\n",
    "mylib.save_object(obj,'Jupyter022.003')\n"
   ]
  },
  {
   "cell_type": "code",
   "execution_count": null,
   "metadata": {},
   "outputs": [],
   "source": [
    "plt.figure()\n",
    "plt.plot(thetas*(90*2/np.pi), last_probs)\n",
    "plt.ylabel(r'$P$ (success)')\n",
    "plt.xlabel(r'$\\theta$ in degrees')\n",
    "plt.show()"
   ]
  },
  {
   "cell_type": "code",
   "execution_count": null,
   "metadata": {},
   "outputs": [],
   "source": [
    "max_success_theta = thetas[last_probs == max(last_probs)][0]\n",
    "an['theta=%s'%max_success_theta].show_results()"
   ]
  },
  {
   "cell_type": "code",
   "execution_count": null,
   "metadata": {},
   "outputs": [],
   "source": []
  }
 ],
 "metadata": {
  "language_info": {
   "name": "python",
   "pygments_lexer": "ipython3"
  }
 },
 "nbformat": 4,
 "nbformat_minor": 1
}
