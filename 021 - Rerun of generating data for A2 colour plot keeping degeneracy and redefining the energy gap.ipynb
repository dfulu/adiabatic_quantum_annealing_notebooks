{
 "cells": [
  {
   "cell_type": "markdown",
   "metadata": {},
   "source": [
    "### In this notebook I want to rerun the the A2 colour plot whilst keeping the degeneracy across equal parities but finding the minimum energy gap between the low energy parity and the first excited state which isn't degenerate"
   ]
  },
  {
   "cell_type": "markdown",
   "metadata": {},
   "source": [
    "We are using the same structure as reported in Nick's Circuit Design paper. 4 ancilla bits and 4 logical bits used to construct an eefecting 4 body coupling. We will apply 2 different schedules to the transverse field so that we have $A_{ancilla}(s)$ and $A_{logical}(s)$ but they will share the same $B(s)$."
   ]
  },
  {
   "cell_type": "code",
   "execution_count": null,
   "metadata": {},
   "outputs": [],
   "source": [
    "#degeneracy of lowest level should be\n",
    "from scipy.misc import factorial\n",
    "def deg(N):\n",
    "    n_d = np.arange(1, N+N%2,2)\n",
    "    n_u = -n_d+N\n",
    "    return factorial(N, exact = True)*sum(1./(factorial(n_d, exact = True)*factorial(n_u, exact = True) )  )\n",
    "\n",
    "print deg(4)"
   ]
  },
  {
   "cell_type": "code",
   "execution_count": null,
   "metadata": {},
   "outputs": [],
   "source": [
    "import project_lib as mylib\n",
    "import numpy as np\n",
    "import matplotlib.pyplot as plt"
   ]
  },
  {
   "cell_type": "code",
   "execution_count": null,
   "metadata": {},
   "outputs": [],
   "source": [
    "import matplotlib.image as mpimg\n",
    "%matplotlib inline\n",
    "img1=mpimg.imread(r\"C:\\Users\\User\\Documents\\FIZZIX\\4th Year\\Project\\Jupyter Extra Images\\circuits_paper_connection_graph.png\")\n",
    "plt.figure(figsize=(6,6)); plt.imshow(img1)\n",
    "plt.axis('off')\n",
    "plt.show()"
   ]
  },
  {
   "cell_type": "code",
   "execution_count": null,
   "metadata": {},
   "outputs": [],
   "source": [
    "# have a signle run before we move on to do the full scope examination\n",
    "\n",
    "#define number of logical and ancilla qubits\n",
    "log_qub = 4\n",
    "anc_qub = log_qub\n",
    "qubits = log_qub*2\n",
    "\n",
    "# define the coupling parameters that comply with the conditions above\n",
    "JN = 1.\n",
    "q0 = 50.\n",
    "Ja = 100.\n",
    "Jl = Ja\n",
    "hl = -Ja+q0\n",
    "\n",
    "# construct h\n",
    "hl = np.asarray([-Ja+q0]*log_qub) # h for the logical qubits\n",
    "ha = np.asarray([-Ja*(2*i-log_qub)+q0 for i in range(1,log_qub+1)]) + np.asarray([JN if (log_qub-i)%2 == 1 else -JN for i in range(1,log_qub+1)])# h for the ancilla qubits\n",
    "h = np.concatenate((hl,ha)) # the full h\n",
    "\n",
    "# constuct J\n",
    "J_log_log = Jl*np.triu(np.ones((log_qub,log_qub)), k=1) # the J component for the logical qubit interactions\n",
    "J_log_anc = Ja*np.ones((log_qub,log_qub)) # interactions between logical and ancilla bits\n",
    "Jt = np.concatenate((J_log_log,J_log_anc),axis=1) # make top half of J array\n",
    "Jb = np.zeros(Jt.shape) # make bottom half of J array\n",
    "J = np.concatenate((Jt,Jb),axis=0) # the full J\n",
    "\n",
    "#now lets run it\n",
    "a = mylib.Anneal(qubits,[h,J],T=100,points = 1000)\n",
    "a.run()\n",
    "a.show_results()"
   ]
  },
  {
   "cell_type": "code",
   "execution_count": null,
   "metadata": {},
   "outputs": [],
   "source": [
    "import matplotlib.image as mpimg\n",
    "%matplotlib inline\n",
    "img1=mpimg.imread(r\"C:\\Users\\User\\Documents\\FIZZIX\\4th Year\\Project\\Jupyter Extra Images\\Jup010 - Anneal_path_graph.png\")\n",
    "plt.figure(figsize=(6,6)); plt.imshow(img1)\n",
    "plt.axis('off')\n",
    "plt.show()"
   ]
  },
  {
   "cell_type": "markdown",
   "metadata": {},
   "source": [
    "I want to carry out a bunch of anneals where the annealing schedule A path with have the above form. I want them to be simply a linear schedule where they are related by\n",
    "\\begin{equation}\n",
    "    A_{anc}(s)=(1-s) \\sin(\\theta)\n",
    "\\end{equation}\n",
    "\n",
    "\\begin{equation}\n",
    "    A_{log}(s)=(1-s) \\cos(\\theta)\n",
    "\\end{equation}\n",
    "\n",
    "\\begin{equation}\n",
    "    \\text{and so }\\\\\n",
    "    \\sqrt{A_{anc}^2(s)+A_{log}^2(s)}=(1-s)\n",
    "\\end{equation}"
   ]
  },
  {
   "cell_type": "code",
   "execution_count": null,
   "metadata": {},
   "outputs": [],
   "source": [
    "# I should have used this instead. The index 100 isn't a good choice since cos(theta)=0 for this\n",
    "thetas_priority = np.asarray([1,50,99,25,75,10,40,60,90])\n",
    "thetas_all = np.linspace(1,99,99)\n",
    "mask = np.in1d(thetas_all, thetas_priority)\n",
    "thetas_unordered = np.concatenate((thetas_priority,thetas_all[np.logical_not(mask)]))\n",
    "print thetas_unordered"
   ]
  },
  {
   "cell_type": "code",
   "execution_count": null,
   "metadata": {},
   "outputs": [],
   "source": [
    "# run with the non-neutral hamiltonian and removing degeneracy\n",
    "\n",
    "#define number of logical and ancilla qubits\n",
    "log_qub = 4\n",
    "anc_qub = log_qub\n",
    "qubits = log_qub*2\n",
    "\n",
    "# define the coupling parameters that comply with the conditions above\n",
    "JN = 1.\n",
    "q0 = 50.\n",
    "Ja = 100.\n",
    "Jl = Ja\n",
    "hl = -Ja+q0\n",
    "\n",
    "# construct h\n",
    "hl = np.asarray([-Ja+q0]*log_qub) # h for the logical qubits\n",
    "ha = np.asarray([-Ja*(2*i-log_qub)+q0 for i in range(1,log_qub+1)]) + np.asarray([JN if (log_qub-i)%2 == 1 else -JN for i in range(1,log_qub+1)])# h for the ancilla qubits\n",
    "h = np.concatenate((hl,ha)) # the full h\n",
    "\n",
    "# constuct J\n",
    "J_log_log = Jl*np.triu(np.ones((log_qub,log_qub)), k=1) # the J component for the logical qubit interactions\n",
    "J_log_anc = Ja*np.ones((log_qub,log_qub)) # interactions between logical and ancilla bits\n",
    "Jt = np.concatenate((J_log_log,J_log_anc),axis=1) # make top half of J array\n",
    "Jb = np.zeros(Jt.shape) # make bottom half of J array\n",
    "J = np.concatenate((Jt,Jb),axis=0) # the full J\n",
    "\n",
    "#now lets run it with the intended annealing schedules\n",
    "thetas_priority = np.asarray([1,50,99,25,75,10,40,60,90])\n",
    "thetas_all = np.linspace(1,99,99)\n",
    "mask = np.in1d(thetas_all, thetas_priority)\n",
    "thetas_unordered = np.concatenate((thetas_priority,thetas_all[np.logical_not(mask)]))*np.pi/200\n",
    "an = {}\n",
    "last_prob = []\n",
    "for x in thetas_unordered:\n",
    "    sfl = lambda points: np.cos(x)*mylib.linear_schedule(points)\n",
    "    sfa = lambda points: np.sin(x)*mylib.linear_schedule(points)\n",
    "    sfB = mylib.linear_schedule\n",
    "    sched_funcs = [[sfl]*log_qub+[sfa]*anc_qub,[sfB]]\n",
    "    a = mylib.Anneal(qubits,[h,J],T=100,points = 1000,sched_funcs = sched_funcs, diff_scheds = True)\n",
    "    a.run()\n",
    "    an['theta='+str(x)]=a\n",
    "    last_prob.append(a.problem_x0_prob[-1])\n",
    "    mylib.save_object(an,'Jupyter021.001')"
   ]
  },
  {
   "cell_type": "code",
   "execution_count": null,
   "metadata": {},
   "outputs": [],
   "source": [
    "# ------------------------------------------------------------------------------------------------------------------------------\n",
    "#      HERE I WANT TO DEFINE A FUNCTION THAT RETURNS THE HAMILTONIAN AT ANY POINT ON A2 SPACE\n",
    "# ------------------------------------------------------------------------------------------------------------------------------\n",
    "'''We need this to be specific to the linear schedule. So for each point we will need to calculate the angle of theta and\n",
    "thus calculate s so we can feed this into B(s). \n",
    "I want to be able create a plot that has sqrt(A_log**2+A_anc**2) = 1 since these are the point that my previous work has \n",
    "passed through'''\n",
    "nax = 1000\n",
    "sp = np.linspace(0, 1, nax)\n",
    "gaps = np.zeros((sp.size,sp.size))\n",
    "\n",
    "def H_A2((log,anc),s):\n",
    "    return sum([a.Hb[i]*A for i,A in enumerate([log]*log_qub+[anc]*anc_qub)])+s*a.Hp\n",
    "\n",
    "# for the following function i assume that the eigenvalues are always given in increasing order\n",
    "def gap_finder(M,Deg):\n",
    "    '''M is the hamiltonian matrix and D is the degeneracy'''\n",
    "    d,P,P_in = mylib.Diagonaliser(M)\n",
    "    return d[Deg]-d[Deg-1]\n",
    "\n",
    "def gap_A2((log,anc),Deg):\n",
    "    s = 1-(anc**2+log**2)\n",
    "    if s<0: return 0\n",
    "    else: return gap_finder(H_A2((log,anc),s),Deg)\n",
    "\n",
    "Deg = int(deg(log_qub))\n",
    "for x,log in enumerate(sp):\n",
    "    print 'running %s of %s'%(x,nax-1)\n",
    "    for y,anc in enumerate(sp):\n",
    "        gaps[x,y] = gap_A2((log,anc),Deg)\n",
    "        \n",
    "mylib.save_object(gaps,'Jupyter021.002')"
   ]
  },
  {
   "cell_type": "code",
   "execution_count": null,
   "metadata": {},
   "outputs": [],
   "source": [
    "# want to make the data of the same format that I did for the other A2 colour plot\n",
    "thetas = np.asarray([float(key[6:]) for key in an.keys()])\n",
    "reorder = thetas.argsort()\n",
    "thetas = thetas[reorder]\n",
    "last_probs = np.asarray([an['theta='+str(theta)].problem_x0_prob[-1] for theta in thetas])\n",
    "\n",
    "obj = {'thetas': thetas, 'last_probs': last_probs}\n",
    "mylib.save_object(obj,'Jupyter020.003')\n"
   ]
  },
  {
   "cell_type": "code",
   "execution_count": null,
   "metadata": {},
   "outputs": [],
   "source": [
    "plt.figure()\n",
    "plt.plot(thetas*(90*2/np.pi), last_probs)\n",
    "plt.ylabel(r'$P$(success)')\n",
    "plt.xlabel(r'$\\theta$ in degrees')\n",
    "plt.show()"
   ]
  },
  {
   "cell_type": "code",
   "execution_count": null,
   "metadata": {},
   "outputs": [],
   "source": [
    "max_success_theta = thetas[last_probs == max(last_probs)][0]\n",
    "an['theta=%s'%max_success_theta].show_results()"
   ]
  },
  {
   "cell_type": "code",
   "execution_count": null,
   "metadata": {},
   "outputs": [],
   "source": []
  }
 ],
 "metadata": {
  "language_info": {
   "name": "python",
   "pygments_lexer": "ipython3"
  }
 },
 "nbformat": 4,
 "nbformat_minor": 1
}
