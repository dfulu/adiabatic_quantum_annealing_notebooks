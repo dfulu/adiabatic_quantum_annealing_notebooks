{
 "cells": [
  {
   "cell_type": "markdown",
   "metadata": {},
   "source": [
    "## In this file I want to examine the results obtained from running the annealing schedules in Jupyter 010 file. Check there for specifics on exactly what that looks like."
   ]
  },
  {
   "cell_type": "code",
   "execution_count": null,
   "metadata": {},
   "outputs": [],
   "source": [
    "import project_lib as mylib\n",
    "import numpy as np\n",
    "import matplotlib.pyplot as plt\n",
    "%matplotlib notebook"
   ]
  },
  {
   "cell_type": "code",
   "execution_count": null,
   "metadata": {},
   "outputs": [],
   "source": [
    "mylib.rl()"
   ]
  },
  {
   "cell_type": "code",
   "execution_count": null,
   "metadata": {},
   "outputs": [],
   "source": [
    "# here we want to load the data for the neutral run with 4 body interaction (8 qubits)\n",
    "an = mylib.load_object('Jupyter010.001')\n",
    "last_prob = []\n",
    "thetas = []\n",
    "for a in an:\n",
    "    thetas.append(float(a[6:]))\n",
    "    last_prob.append(an[a].problem_x0_prob[-1])\n",
    "thetas = np.asarray(thetas)\n",
    "last_prob = np.asarray(last_prob)\n",
    "reorder = thetas.argsort()\n",
    "thetas = thetas[reorder]\n",
    "last_prob = last_prob[reorder]"
   ]
  },
  {
   "cell_type": "code",
   "execution_count": null,
   "metadata": {},
   "outputs": [],
   "source": [
    "# here we plot the figure\n",
    "plt.figure()\n",
    "plt.ylabel(r'$P(finding\\; ground\\; state)$')\n",
    "plt.xlabel(r'$2\\theta / \\pi} $')\n",
    "plt.plot(2*thetas/np.pi,last_prob)\n",
    "plt.show()"
   ]
  },
  {
   "cell_type": "code",
   "execution_count": null,
   "metadata": {},
   "outputs": [],
   "source": [
    "# it looks like I haven't started all of these in the same state. I need to know how this happened ...\n",
    "#... because intuitively I thought that I had\n",
    "for a in an:\n",
    "    print np.all(an[a].base_x0 == an[an.keys()[0]].base_x0)"
   ]
  },
  {
   "cell_type": "code",
   "execution_count": null,
   "metadata": {},
   "outputs": [],
   "source": [
    "# here I am using the run at theta = pi/4 as the comparison. I want to see the dot product of all the bases with it\n",
    "midt = thetas[np.around(2*thetas/np.pi, decimals =2)==0.5][0]\n",
    "for t in thetas:\n",
    "    x =(round(2*t/np.pi,2))\n",
    "    print 'theta=%s'%x +'0000'[:4-len(str(x))], (np.dot(an['theta='+str(t)].base_x0.getH(),an['theta=%s'%midt].base_x0)).item(0).real\n"
   ]
  },
  {
   "cell_type": "code",
   "execution_count": null,
   "metadata": {},
   "outputs": [],
   "source": [
    "# Playing around I have realised that some of the qubits started with a phase difference to the others but still in the same \n",
    "# eigenstate. Check the difference between 0.14 and 0.13 below\n",
    "select = thetas[np.around(2*thetas/np.pi, decimals =2)==0.14][0]\n",
    "an['theta=%s'%select].base_x0"
   ]
  },
  {
   "cell_type": "code",
   "execution_count": null,
   "metadata": {},
   "outputs": [],
   "source": [
    "select = thetas[np.around(2*thetas/np.pi, decimals =2)==0.14][0]\n",
    "an['theta=%s'%select].show_results()"
   ]
  },
  {
   "cell_type": "markdown",
   "metadata": {},
   "source": [
    "All seem to be going well so lets move on to try it with more qubits for a larger body interaction"
   ]
  },
  {
   "cell_type": "code",
   "execution_count": null,
   "metadata": {},
   "outputs": [],
   "source": [
    "# here we want to load the data for the run with 4 body interaction (8 qubits)\n",
    "# this one is the non-neutral hamiltonian \n",
    "an = mylib.load_object('Jupyter010.002')\n",
    "last_prob = []\n",
    "thetas = []\n",
    "for a in an:\n",
    "    thetas.append(float(a[6:]))\n",
    "    last_prob.append(an[a].problem_x0_prob[-1])\n",
    "thetas = np.asarray(thetas)\n",
    "last_prob = np.asarray(last_prob)\n",
    "reorder = thetas.argsort()\n",
    "thetas = thetas[reorder]\n",
    "last_prob = last_prob[reorder]"
   ]
  },
  {
   "cell_type": "code",
   "execution_count": null,
   "metadata": {},
   "outputs": [],
   "source": [
    "# here we plot the figure\n",
    "plt.figure()\n",
    "plt.ylabel(r'$P(finding\\; ground\\; state)$')\n",
    "plt.xlabel(r'$2\\theta / \\pi} $')\n",
    "plt.plot(2*thetas/np.pi,last_prob)\n",
    "plt.show()"
   ]
  },
  {
   "cell_type": "code",
   "execution_count": null,
   "metadata": {},
   "outputs": [],
   "source": [
    "# here we want to load the data for the run with 4 body interaction (8 qubits)\n",
    "# this one is the non-neutral hamiltonian \n",
    "an = mylib.load_object('Jupyter010.003')\n",
    "last_prob = []\n",
    "thetas = []\n",
    "for a in an:\n",
    "    thetas.append(float(a[6:]))\n",
    "    last_prob.append(an[a].problem_x0_prob[-1])\n",
    "thetas = np.asarray(thetas)\n",
    "last_prob = np.asarray(last_prob)\n",
    "reorder = thetas.argsort()\n",
    "thetas = thetas[reorder]\n",
    "last_prob = last_prob[reorder]\n",
    "# here we plot the figure\n",
    "plt.figure()\n",
    "plt.title('Neutral. 10 times bigger Ja')\n",
    "plt.ylabel(r'$P(finding\\; ground\\; state)$')\n",
    "plt.xlabel(r'$2\\theta / \\pi} $')\n",
    "plt.plot(2*thetas/np.pi,last_prob)\n",
    "plt.show()"
   ]
  },
  {
   "cell_type": "code",
   "execution_count": null,
   "metadata": {},
   "outputs": [],
   "source": [
    "\n",
    "an = mylib.load_object('Jupyter010.004')\n",
    "last_prob = []\n",
    "thetas = []\n",
    "for a in an:\n",
    "    thetas.append(float(a[6:]))\n",
    "    last_prob.append(an[a].problem_x0_prob[-1])\n",
    "thetas = np.asarray(thetas)\n",
    "last_prob = np.asarray(last_prob)\n",
    "reorder = thetas.argsort()\n",
    "thetas = thetas[reorder]\n",
    "last_prob = last_prob[reorder]\n",
    "# here we plot the figure\n",
    "plt.figure()\n",
    "plt.title('Non-Neutral. 10 times bigger Ja')\n",
    "plt.ylabel(r'$P(finding\\; ground\\; state)$')\n",
    "plt.xlabel(r'$2\\theta / \\pi} $')\n",
    "plt.plot(2*thetas/np.pi,last_prob)\n",
    "plt.show()"
   ]
  },
  {
   "cell_type": "code",
   "execution_count": null,
   "metadata": {},
   "outputs": [],
   "source": [
    "\n",
    "an = mylib.load_object('Jupyter010.005')\n",
    "last_prob = []\n",
    "thetas = []\n",
    "for a in an:\n",
    "    thetas.append(float(a[6:]))\n",
    "    last_prob.append(an[a].problem_x0_prob[-1])\n",
    "thetas = np.asarray(thetas)\n",
    "last_prob = np.asarray(last_prob)\n",
    "reorder = thetas.argsort()\n",
    "thetas = thetas[reorder]\n",
    "last_prob = last_prob[reorder]\n",
    "# here we plot the figure\n",
    "plt.figure()\n",
    "plt.title('Neutral. 100 times bigger Ja')\n",
    "plt.ylabel(r'$P(finding\\; ground\\; state)$')\n",
    "plt.xlabel(r'$2\\theta / \\pi} $')\n",
    "plt.plot(2*thetas/np.pi,last_prob)\n",
    "plt.show()"
   ]
  },
  {
   "cell_type": "code",
   "execution_count": null,
   "metadata": {},
   "outputs": [],
   "source": [
    " \n",
    "an = mylib.load_object('Jupyter010.006')\n",
    "last_prob = []\n",
    "thetas = []\n",
    "for a in an:\n",
    "    thetas.append(float(a[6:]))\n",
    "    last_prob.append(an[a].problem_x0_prob[-1])\n",
    "thetas = np.asarray(thetas)\n",
    "last_prob = np.asarray(last_prob)\n",
    "reorder = thetas.argsort()\n",
    "thetas = thetas[reorder]\n",
    "last_prob = last_prob[reorder]\n",
    "# here we plot the figure\n",
    "plt.figure()\n",
    "plt.title('Non-Neutral. 100 times bigger Ja')\n",
    "plt.ylabel(r'$P(finding\\; ground\\; state)$')\n",
    "plt.xlabel(r'$2\\theta / \\pi} $')\n",
    "plt.plot(2*thetas/np.pi,last_prob)\n",
    "plt.show()"
   ]
  },
  {
   "cell_type": "code",
   "execution_count": null,
   "metadata": {},
   "outputs": [],
   "source": [
    "\n",
    "an = mylib.load_object('Jupyter010.007')\n",
    "last_prob = []\n",
    "thetas = []\n",
    "for a in an:\n",
    "    thetas.append(float(a[6:]))\n",
    "    last_prob.append(an[a].problem_x0_prob[-1])\n",
    "thetas = np.asarray(thetas)\n",
    "last_prob = np.asarray(last_prob)\n",
    "reorder = thetas.argsort()\n",
    "thetas = thetas[reorder]\n",
    "last_prob = last_prob[reorder]\n",
    "# here we plot the figure\n",
    "plt.figure()\n",
    "plt.title('Neutral. 5 qubits')\n",
    "plt.ylabel(r'$P(finding\\; ground\\; state)$')\n",
    "plt.xlabel(r'$2\\theta / \\pi} $')\n",
    "plt.plot(2*thetas/np.pi,last_prob)\n",
    "plt.show()"
   ]
  },
  {
   "cell_type": "code",
   "execution_count": null,
   "metadata": {},
   "outputs": [],
   "source": [
    "neutral_nos = ['001','003','005','007']\n",
    "neutral_label = ['base', '10Ja','100Ja','5Qub']\n",
    "plt.figure()\n",
    "plt.title('Neutral. Comparison')\n",
    "plt.ylabel(r'$P(finding\\; ground\\; state)$')\n",
    "plt.xlabel(r'$2\\theta / \\pi} $')\n",
    "for i,n in enumerate(neutral_nos):\n",
    "    an = mylib.load_object('Jupyter010.%s'%n)\n",
    "    last_prob = []\n",
    "    thetas = []\n",
    "    for a in an:\n",
    "        thetas.append(float(a[6:]))\n",
    "        last_prob.append(an[a].problem_x0_prob[-1])\n",
    "    thetas = np.asarray(thetas)\n",
    "    last_prob = np.asarray(last_prob)\n",
    "    reorder = thetas.argsort()\n",
    "    thetas = thetas[reorder]\n",
    "    last_prob = last_prob[reorder]\n",
    "    # here we plot the figure\n",
    "    plt.plot(2*thetas/np.pi,last_prob, label = neutral_label[i])\n",
    "plt.legend(loc = 'best', framealpha= 0)\n",
    "plt.show()"
   ]
  },
  {
   "cell_type": "code",
   "execution_count": null,
   "metadata": {},
   "outputs": [],
   "source": [
    "non_neutral_nos = ['002','004','006']\n",
    "non_neutral_label = ['base', '10Ja','100Ja']\n",
    "plt.figure()\n",
    "plt.title('Non-Neutral. Comparison')\n",
    "plt.ylabel(r'$P(finding\\; ground\\; state)$')\n",
    "plt.xlabel(r'$2\\theta / \\pi} $')\n",
    "for i,n in enumerate(non_neutral_nos):\n",
    "    an = mylib.load_object('Jupyter010.%s'%n)\n",
    "    last_prob = []\n",
    "    thetas = []\n",
    "    for a in an:\n",
    "        thetas.append(float(a[6:]))\n",
    "        last_prob.append(an[a].problem_x0_prob[-1])\n",
    "    thetas = np.asarray(thetas)\n",
    "    last_prob = np.asarray(last_prob)\n",
    "    reorder = thetas.argsort()\n",
    "    thetas = thetas[reorder]\n",
    "    last_prob = last_prob[reorder]\n",
    "    # here we plot the figure\n",
    "    plt.plot(2*thetas/np.pi,last_prob, label = non_neutral_label[i])\n",
    "plt.legend(loc = 'best', framealpha= 0)\n",
    "plt.show()"
   ]
  },
  {
   "cell_type": "code",
   "execution_count": null,
   "metadata": {},
   "outputs": [],
   "source": []
  }
 ],
 "metadata": {
  "language_info": {
   "name": "python",
   "pygments_lexer": "ipython3"
  }
 },
 "nbformat": 4,
 "nbformat_minor": 1
}
