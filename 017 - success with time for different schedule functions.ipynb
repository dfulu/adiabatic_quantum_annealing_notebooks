{
 "cells": [
  {
   "cell_type": "code",
   "execution_count": null,
   "metadata": {},
   "outputs": [],
   "source": [
    "import project_lib as mylib\n",
    "import numpy as np\n",
    "import matplotlib.pyplot as plt\n",
    "import matplotlib.image as mpimg\n",
    "import scipy as sp\n",
    "%matplotlib notebook\n",
    "#mylib.rl()"
   ]
  },
  {
   "cell_type": "code",
   "execution_count": null,
   "metadata": {},
   "outputs": [],
   "source": [
    "from matplotlib import cm\n",
    "def f_blues(points):\n",
    "    spec = cm.nipy_spectral#cm.Blues\n",
    "    return [ spec(x) for x in np.linspace(0, 1, points) ]\n",
    "\n",
    "def f_reds(points):\n",
    "    spec = cm.nipy_spectral#cm.Reds\n",
    "    return [ spec(x) for x in np.linspace(0, 1, points) ]\n",
    "\n",
    "def normalised_vesuvius_schedule(points):\n",
    "    AB = mylib.vesuvius_schedule(points)\n",
    "    AB[-1] =AB[-1]/max(AB[-1])\n",
    "    AB[0]= AB[0]/max(AB[0])\n",
    "    return AB"
   ]
  },
  {
   "cell_type": "code",
   "execution_count": null,
   "metadata": {},
   "outputs": [],
   "source": [
    "#~~~~~~~~~~~~~~~~~~~~~~~~~~~~~~~~~~~~~~~~~~~~~~~~~~~~~~~~~~~~~~~~~~~~~~~~~~~~~~~~~~~~~~~~~~~~~~~~~~~~\n",
    "# PREDEFINED CONSTANTS\n",
    "#~~~~~~~~~~~~~~~~~~~~~~~~~~~~~~~~~~~~~~~~~~~~~~~~~~~~~~~~~~~~~~~~~~~~~~~~~~~~~~~~~~~~~~~~~~~~~~~~~~~~\n",
    "points = 1000\n",
    "qubits = 4\n",
    "h_i = [(-1)**i * i for i in range(1,1+qubits)]\n",
    "J_ij = np.triu(np.asarray([[(-1)**j * i**2 + (-1)**i * j**2 for i in range(1,1+qubits)] for j in range(1,1+qubits)]), k=1)\n",
    "ss = np.linspace(0,1,points)\n",
    "kss = ss[1:-1]\n",
    "#~~~~~~~~~~~~~~~~~~~~~~~~~~~~~~~~~~~~~~~~~~~~~~~~~~~~~~~~~~~~~~~~~~~~~~~~~~~~~~~~~~~~~~~~~~~~~~~~~~~~\n",
    "# SCHEDULES\n",
    "#~~~~~~~~~~~~~~~~~~~~~~~~~~~~~~~~~~~~~~~~~~~~~~~~~~~~~~~~~~~~~~~~~~~~~~~~~~~~~~~~~~~~~~~~~~~~~~~~~~~~\n",
    "schedules = {\n",
    "            'const. kappa': 'constant_k',\n",
    "            'linear': mylib.linear_schedule,\n",
    "            'fast exp': mylib.exponential_schedule_ab(50,50),\n",
    "            'slow exp': mylib.exponential_schedule_ab(2,2),\n",
    "            'vesuvius': normalised_vesuvius_schedule,\n",
    "            'inv. energy': 'inverse_energy',\n",
    "            'inv. sqr. energy': 'inverse_square_energy',\n",
    "            }\n",
    "\n",
    "sched_by_num = {\n",
    "    0: 'const. kappa',\n",
    "    1: 'linear',\n",
    "    2: 'inv. sqr. energy',\n",
    "    3: 'inv. energy',\n",
    "    4: 'vesuvius',\n",
    "    5: 'slow exp',\n",
    "    6: 'fast exp',   \n",
    "}\n",
    "\n",
    "\n",
    "#~~~~~~~~~~~~~~~~~~~~~~~~~~~~~~~~~~~~~~~~~~~~~~~~~~~~~~~~~~~~~~~~~~~~~~~~~~~~~~~~~~~~~~~~~~~~~~~~~~~~\n",
    "# COLOURS TO USE\n",
    "#~~~~~~~~~~~~~~~~~~~~~~~~~~~~~~~~~~~~~~~~~~~~~~~~~~~~~~~~~~~~~~~~~~~~~~~~~~~~~~~~~~~~~~~~~~~~~~~~~~~~\n",
    "blues = f_blues(len(schedules)+2)\n",
    "reds = f_reds(len(schedules)+2)\n",
    "    \n"
   ]
  },
  {
   "cell_type": "code",
   "execution_count": null,
   "metadata": {},
   "outputs": [],
   "source": [
    "#~~~~~~~~~~~~~~~~~~~~~~~~~~~~~~~~~~~~~~~~~~~~~~~~~~~~~~~~~~~~~~~~~~~~~~~~~~~~~~~~~~~~~~~~~~~~~~~~~~~~\n",
    "# ANNEALING\n",
    "#~~~~~~~~~~~~~~~~~~~~~~~~~~~~~~~~~~~~~~~~~~~~~~~~~~~~~~~~~~~~~~~~~~~~~~~~~~~~~~~~~~~~~~~~~~~~~~~~~~~~\n",
    "T = 2.**(np.arange(15)-2)/10\n",
    "\n",
    "\n",
    "psn = {}\n",
    "for n in sched_by_num:\n",
    "    print 'Runing schdule : (%s out of %s)'%(n+1,len(sched_by_num))\n",
    "    ps_sched = []\n",
    "    for i,t in enumerate(T):\n",
    "        print 'Time Run : (%s/%s)'%(i+1,len(T))\n",
    "        a = mylib.Anneal(qubits,[h_i,J_ij],T=t,points = points,sched_func = schedules[sched_by_num[n]],light = True)\n",
    "        a.run()\n",
    "        ps_sched.append(a.problem_x0_prob[-1])\n",
    "    psn[n] = np.asarray(ps_sched)\n",
    "    "
   ]
  },
  {
   "cell_type": "code",
   "execution_count": null,
   "metadata": {},
   "outputs": [],
   "source": []
  },
  {
   "cell_type": "code",
   "execution_count": null,
   "metadata": {},
   "outputs": [],
   "source": [
    "#~~~~~~~~~~~~~~~~~~~~~~~~~~~~~~~~~~~~~~~~~~~~~~~~~~~~~~~~~~~~~~~~~~~~~~~~~~~~~~~~~~~~~~~~~~~~~~~~~~~~\n",
    "# COLOURS TO USE\n",
    "#~~~~~~~~~~~~~~~~~~~~~~~~~~~~~~~~~~~~~~~~~~~~~~~~~~~~~~~~~~~~~~~~~~~~~~~~~~~~~~~~~~~~~~~~~~~~~~~~~~~~\n",
    "from matplotlib import cm\n",
    "def f_blues(points):\n",
    "    spec = cm.nipy_spectral#cm.Blues\n",
    "    return [ spec(x) for x in np.linspace(0, 1, points) ]\n",
    "\n",
    "blues = f_blues(len(schedules)+1)\n",
    "\n",
    "#~~~~~~~~~~~~~~~~~~~~~~~~~~~~~~~~~~~~~~~~~~~~~~~~~~~~~~~~~~~~~~~~~~~~~~~~~~~~~~~~~~~~~~~~~~~~~~~~~~~~\n",
    "# PLOTTING THE SCHEDULES SUCCESS RATE WITH TIME\n",
    "#~~~~~~~~~~~~~~~~~~~~~~~~~~~~~~~~~~~~~~~~~~~~~~~~~~~~~~~~~~~~~~~~~~~~~~~~~~~~~~~~~~~~~~~~~~~~~~~~~~~~\n",
    "\n",
    "plt.figure(figsize = (13,6))\n",
    "axA=plt.subplot2grid((1,4),(0,0),colspan = 3)\n",
    "for n in sched_by_num:\n",
    "    psn[n]\n",
    "    axA.semilogx(T,psn[n], label = str(n)+' : '+sched_by_num[n], color = blues[n])\n",
    "    \n",
    "axA.legend(bbox_to_anchor=(1.05, 1), loc=2, borderaxespad=0.,title='$Schedule$')\n",
    "axA.set_ylabel(r'$P($success$)$')\n",
    "axA.set_xlabel(r'$ \\tau $')\n",
    "plt.show()"
   ]
  },
  {
   "cell_type": "code",
   "execution_count": null,
   "metadata": {},
   "outputs": [],
   "source": []
  }
 ],
 "metadata": {
  "language_info": {
   "name": "python",
   "pygments_lexer": "ipython3"
  }
 },
 "nbformat": 4,
 "nbformat_minor": 1
}
