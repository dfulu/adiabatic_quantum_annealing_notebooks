{
 "cells": [
  {
   "cell_type": "code",
   "execution_count": null,
   "metadata": {},
   "outputs": [],
   "source": [
    "import project_lib as mylib\n",
    "import numpy as np\n",
    "import matplotlib.pyplot as plt\n",
    "import matplotlib.image as mpimg\n",
    "import scipy as sp\n",
    "%matplotlib notebook\n",
    "mylib.rl()"
   ]
  },
  {
   "cell_type": "markdown",
   "metadata": {},
   "source": [
    "### The purpose of this file is to make the kappa schedule perfectly"
   ]
  },
  {
   "cell_type": "code",
   "execution_count": null,
   "metadata": {},
   "outputs": [],
   "source": [
    "def kappa(a):\n",
    "        '''This function returns the max-kappa value throughtout the course of an anneal'''\n",
    "        K = []\n",
    "        #lets find out the differential of the schedule\n",
    "        dA = diff(a.ss,a.AB[0])\n",
    "        dB = diff(a.ss,a.AB[1])\n",
    "        dAB = np.asarray([dA,dB])\n",
    "        \n",
    "        for i in range(a.points):\n",
    "            # in this loop we calulate the eigen energy gap between (degenerate) ground state and the first excited level\n",
    "            \n",
    "            # neeed to be able to find the ground and frist excited states\n",
    "            d,P,P_in = mylib.Diagonaliser(-a.AB[0][i]*a.Hb+a.AB[1][i]*a.Hp)\n",
    "            E0 = min(d)\n",
    "            x0 = P[:,d==E0] #x0 = P[:,d==E0] this line should only work if the ground state is not degenerate\n",
    "            if len(np.argwhere(d==E0))>1: print '[%s] This is not valid, the ground state was degerate'%i\n",
    "                \n",
    "            # we want to consider the kappa value for all states wso that we can consider the maximum one\n",
    "            pot_k = []\n",
    "            for i0 in range(len(d)):\n",
    "                if d[i0]==E0: # don't consider the overlap with itself or any degenerate levels\n",
    "                    pass\n",
    "                else:\n",
    "                    dE = abs(E0-d[i0])\n",
    "                    xn = P[:,i0] \n",
    "                    # here is the real line of calculation. This should be exactly the kappa equation\n",
    "                    pot_k.append(abs(np.dot(np.transpose(x0),(-dAB[0][i]*a.Hb+dAB[1][i]*a.Hp)*xn).item()/(dE**2)))\n",
    "            k = max(pot_k)\n",
    "            K.append(k)\n",
    "        return np.asarray(K)\n",
    "\n",
    "def diff(x,y):\n",
    "    dx0 = np.asarray([x[1]-x[0]]); dy0 = np.asarray([y[1]-y[0]])\n",
    "    dxf = np.asarray([x[-1]-x[-2]]); dyf = np.asarray([y[-1]-y[-2]])\n",
    "    dxs = x[2:]-x[:-2]; dys = y[2:]-y[:-2]\n",
    "    return np.concatenate((dy0/dx0, dys/dxs, dyf/dxf))"
   ]
  },
  {
   "cell_type": "code",
   "execution_count": null,
   "metadata": {},
   "outputs": [],
   "source": []
  },
  {
   "cell_type": "code",
   "execution_count": null,
   "metadata": {},
   "outputs": [],
   "source": [
    "#~~~~~~~~~~~~~~~~~~~~~~~~~~~~~~~~~~~~~~~~~~~~~~~~~~~~~~~~~~~~~~~~~~~~~~~~~~~~~~~~~~~~~~~~~~~~~~~~~~~~\n",
    "# PREDEFINED CONSTANTS AND RUN ANNEAL\n",
    "#~~~~~~~~~~~~~~~~~~~~~~~~~~~~~~~~~~~~~~~~~~~~~~~~~~~~~~~~~~~~~~~~~~~~~~~~~~~~~~~~~~~~~~~~~~~~~~~~~~~~\n",
    "T =5\n",
    "points = 1000\n",
    "qubits = 6\n",
    "h_i = np.random.normal(loc=0.0, scale=3.0, size=qubits)\n",
    "J_ij = np.triu(np.random.normal(loc=0.0, scale=3.0, size=(qubits,qubits)))\n",
    "ss = np.linspace(0,1,points)\n",
    "\n",
    "# run the anneal for the constant k schedule and alongside it run the inverse-energy-squared schedule so\n",
    "# that I can check if the success probability of far from what I expect\n",
    "a = mylib.Anneal(qubits,[h_i,J_ij], points = points, T = T, sched_func = 'constant_k')\n",
    "a.run()\n",
    "a_yardstick = mylib.Anneal(qubits,[h_i,J_ij], points = points, T = T, sched_func = 'inverse_square_energy')\n",
    "a_yardstick.run()\n",
    "a.show_results()\n",
    "\n",
    "print '\\n ~~~~~~~~~~~~~~~~~~~~ SUCCESS PROBABILITIES~~~~~~~~~~~~~~~~~~~~~~~~~~~~\\n'\n",
    "print 'Constant k:   %s'%a.problem_x0_prob[-1]\n",
    "print 'Inv. E^2:    %s'%a_yardstick.problem_x0_prob[-1]"
   ]
  },
  {
   "cell_type": "code",
   "execution_count": null,
   "metadata": {},
   "outputs": [],
   "source": []
  },
  {
   "cell_type": "code",
   "execution_count": null,
   "metadata": {},
   "outputs": [],
   "source": [
    "k = kappa(a)\n",
    "dP = diff(ss,a.instant_x0s_prob)\n",
    "\n",
    "#~~~~~~~~~~~~~~~~~~~~~~~~~~~~~~~~~~~~~~~~~~~~~~~~~~~~~~~~~~~~~~~~~~~~~~~~~~~~~~~~~~~~~~~~~~~~~~~~~~~~\n",
    "# PLOTTING KAPPA AND dP\n",
    "#~~~~~~~~~~~~~~~~~~~~~~~~~~~~~~~~~~~~~~~~~~~~~~~~~~~~~~~~~~~~~~~~~~~~~~~~~~~~~~~~~~~~~~~~~~~~~~~~~~~~\n",
    "plt.figure(figsize = (13,6))\n",
    "ax1=plt.subplot2grid((2,4),(0,0),colspan = 3)\n",
    "ax2=plt.subplot2grid((2,4),(1,0),colspan = 3, sharex = ax1)\n",
    "\n",
    "\n",
    "# plot the probability of being found in the problem ground state/instanteaous gorund state \n",
    "ax1.plot(ss, k)\n",
    "        \n",
    "# plot the energy gap between the first 2 levels and the annealing schedule if it is uniform across bits \n",
    "ax2.plot(ss,dP)    \n",
    "\n",
    "ax1.set_ylabel(r'$\\kappa (s)$') \n",
    "ax2.set_ylabel(r'$\\frac{\\partial}{\\partial s}P(\\psi_{0}(s))$',color = 'black')\n",
    "ax2.set_xlabel('s')\n",
    "ax1.legend(bbox_to_anchor=(1.05, 1), loc=2, borderaxespad=0.,title='$\\#$')\n",
    "ax2.legend(bbox_to_anchor=(1.05, 1), loc=2, borderaxespad=0.,title='$Schedule$')\n",
    "plt.show()"
   ]
  },
  {
   "cell_type": "code",
   "execution_count": null,
   "metadata": {},
   "outputs": [],
   "source": []
  },
  {
   "cell_type": "code",
   "execution_count": null,
   "metadata": {},
   "outputs": [],
   "source": []
  },
  {
   "cell_type": "code",
   "execution_count": null,
   "metadata": {},
   "outputs": [],
   "source": [
    "abs(np.dot(np.transpose(x0),(-dAB[0][0]*a.Hb+dAB[1][0]*a.Hp)*xn).item())"
   ]
  },
  {
   "cell_type": "code",
   "execution_count": null,
   "metadata": {},
   "outputs": [],
   "source": []
  }
 ],
 "metadata": {
  "language_info": {
   "name": "python",
   "pygments_lexer": "ipython3"
  }
 },
 "nbformat": 4,
 "nbformat_minor": 1
}
