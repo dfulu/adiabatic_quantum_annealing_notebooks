{
 "cells": [
  {
   "cell_type": "markdown",
   "metadata": {},
   "source": [
    "## In this file I want to see how each schedule responds with total annealing time"
   ]
  },
  {
   "cell_type": "code",
   "execution_count": null,
   "metadata": {},
   "outputs": [],
   "source": [
    "import project_lib as mylib\n",
    "import numpy as np\n",
    "import matplotlib.pyplot as plt\n",
    "import matplotlib.image as mpimg\n",
    "import scipy as sp\n",
    "%matplotlib inline"
   ]
  },
  {
   "cell_type": "code",
   "execution_count": null,
   "metadata": {},
   "outputs": [],
   "source": [
    "import sys\n",
    "qubits = 3\n",
    "h = [1.2,3.2,2.9]\n",
    "J = [[1.,2.2],[2.3]]\n",
    "a  = mylib.Anneal(qubits,[h,J])\n",
    "a.run()\n",
    "print sys.getsizeof(a)"
   ]
  },
  {
   "cell_type": "code",
   "execution_count": null,
   "metadata": {},
   "outputs": [],
   "source": [
    "# set up test parameters\n",
    "T = 2**np.arange(10)\n",
    "qubits = 3\n",
    "h = [1.2,3.2,2.9]\n",
    "J = [[1.,2.2],[2.3]]\n",
    "schedules = ['linear','exp_f','exp_m','exp_s', 'natural','vesuvius']\n",
    "schedfunc = [mylib.linear_schedule, mylib.exponential_schedule_ab(10,10), mylib.exponential_schedule_ab(5,5),\n",
    "             mylib.exponential_schedule_ab(1,1), 'natural', mylib.vesuvius_schedule]\n",
    "vardict = {}\n",
    "last_prob = [[]]*len(schedules)\n",
    "for i,s in enumerate(schedules):\n",
    "    an = {}\n",
    "    for j,t in enumerate(T):\n",
    "        print 'a_'+s+'_'+str(t)+'  -  '+str(i*10+j+1)+' / '+str(60)\n",
    "        an_n=mylib.Anneal(qubits,[h,J],T=t, sched_func = schedfunc[i])\n",
    "        an_n.run()\n",
    "        an['a_'+s+'_'+str(t)] = an_n\n",
    "        last_prob[i].append(an_n.problem_x0_prob[-1]) \n",
    "    mylib.jupyter_saver(6+float(i)/10,an,vardict)"
   ]
  },
  {
   "cell_type": "code",
   "execution_count": null,
   "metadata": {},
   "outputs": [],
   "source": [
    "print lp\n",
    "lp.append(last_prob[0][50:60])"
   ]
  },
  {
   "cell_type": "code",
   "execution_count": null,
   "metadata": {},
   "outputs": [],
   "source": [
    "from matplotlib import cm\n",
    "def f_colour(points):\n",
    "    spec = cm.nipy_spectral\n",
    "    return [ spec(x) for x in np.linspace(0, 1, points) ]\n",
    "\n",
    "colours = f_colour(6)\n",
    "\n",
    "plt.figure()\n",
    "for i in range(len(schedules)):\n",
    "    plt.semilogx(T,lp[i], color = colours[i], label = schedules[i])\n",
    "plt.legend(bbox_to_anchor=(1.05, 1), loc=2, borderaxespad=0.,title = 'Schedule')\n",
    "plt.ylabel('$P\\,(correct\\,solution)$')\n",
    "plt.xlabel('T')\n",
    "plt.show()"
   ]
  },
  {
   "cell_type": "code",
   "execution_count": null,
   "metadata": {},
   "outputs": [],
   "source": [
    "\n",
    "objectdict = an\n",
    "vardict = {}\n",
    "mylib.jupyter_saver(006,objectdict,vardict)"
   ]
  },
  {
   "cell_type": "code",
   "execution_count": null,
   "metadata": {},
   "outputs": [],
   "source": [
    "an_n=mylib.Anneal(qubits,[h,J],T=t, sched_func = schedfunc[3])\n",
    "an_n.show_results()"
   ]
  }
 ],
 "metadata": {
  "language_info": {
   "name": "python",
   "pygments_lexer": "ipython3"
  }
 },
 "nbformat": 4,
 "nbformat_minor": 1
}
