{
 "cells": [
  {
   "cell_type": "code",
   "execution_count": null,
   "metadata": {},
   "outputs": [],
   "source": [
    "import project_lib as mylib\n",
    "import numpy as np\n",
    "import matplotlib.pyplot as plt\n",
    "import glob\n",
    "%matplotlib notebook"
   ]
  },
  {
   "cell_type": "code",
   "execution_count": null,
   "metadata": {},
   "outputs": [],
   "source": []
  },
  {
   "cell_type": "markdown",
   "metadata": {},
   "source": [
    "In this file I want to plot all of the data that I have generated from my runs on mira to see what effect changing each of the variables has on my data"
   ]
  },
  {
   "cell_type": "code",
   "execution_count": null,
   "metadata": {},
   "outputs": [],
   "source": [
    "FILES =  glob.glob(r\"C:\\Users\\User\\Documents\\FIZZIX\\4th Year\\Project\\Data\\explore_from_base_QUBITS=*.pkl\")\n",
    "ENDINGS = [f[f.index('Data')+len('Data')+1:][:-4] for f in FILES]\n",
    "FS = 40\n",
    "qubits = [end[-1] for end in ENDINGS]\n",
    "an = [mylib.load_object(end) for end in ENDINGS]\n",
    "\n",
    "print an[0]['comments']\n",
    "\n",
    "plt.figure()\n",
    "#plt.title('Non-Neutral hamiltonian Comparison of qubits')\n",
    "plt.ylabel(r'$\\mathcal{P}_{f}$', fontsize=FS)\n",
    "plt.xlabel(r'$\\theta$'+'$^\\circ$', fontsize=FS)\n",
    "for i,a in enumerate(an):\n",
    "    thetas = np.asarray(a['thetas'])\n",
    "    last_prob = np.asarray(a['last_prob'])\n",
    "    # here we plot the figure\n",
    "    plt.plot(2*thetas/np.pi*90,last_prob, label = qubits[i])\n",
    "\n",
    "plt.tick_params(axis='both', which='major', labelsize=FS*0.7)\n",
    "legend = plt.legend(bbox_to_anchor=(1.05, 1), loc=2, borderaxespad=0., framealpha=0,title = '$N_{log}$')\n",
    "legend.get_title().set_fontsize(FS)\n",
    "plt.tight_layout()\n",
    "plt.show()"
   ]
  },
  {
   "cell_type": "code",
   "execution_count": null,
   "metadata": {},
   "outputs": [],
   "source": [
    "ENDINGS = ['LeibDev_Cicle_3Q_ver2','alt_multB_A2_fixed(s)_ver2','LeibDev_Cicle_5Q_ver2_odd']\n",
    "FS = 18\n",
    "qubits = [3,4,5]\n",
    "an = [mylib.load_object(end) for end in ENDINGS]\n",
    "\n",
    "plt.figure()\n",
    "#plt.title('Non-Neutral hamiltonian Comparison of qubits')\n",
    "plt.ylabel(r'$\\mathcal{P}_{f}$', fontsize=FS)\n",
    "plt.xlabel(r'$\\theta$'+'$^\\circ$', fontsize=FS)\n",
    "for i,a in enumerate(an):\n",
    "    thetas = np.asarray(a['thetas'])\n",
    "    last_prob = np.asarray(a['last_prob'])\n",
    "    # here we plot the figure\n",
    "    plt.plot(2*thetas/np.pi*90,last_prob, label = qubits[i])\n",
    "legend = plt.legend(loc = 'best', framealpha= 0, title = r'$N_{log}$', fontsize = FS)\n",
    "legend.get_title().set_fontsize(FS)\n",
    "plt.tight_layout()\n",
    "plt.show()"
   ]
  },
  {
   "cell_type": "code",
   "execution_count": null,
   "metadata": {},
   "outputs": [],
   "source": [
    "FILES =  glob.glob(r\"C:\\Users\\User\\Documents\\FIZZIX\\4th Year\\Project\\Data\\explore_from_base_JA=*.pkl\")\n",
    "ENDINGS = [f[f.index('Data')+len('Data')+1:][:-4] for f in FILES]\n",
    "\n",
    "JA_power = [float(end[end.index(\"=\")+1:]) for end in ENDINGS]\n",
    "JA_power = np.asarray(JA_power)\n",
    "an = [mylib.load_object(end) for end in ENDINGS]\n",
    "\n",
    "print an[0]['comments']\n",
    "\n",
    "reorder = JA_power.argsort()\n",
    "JA_power = JA_power[reorder]\n",
    "an = [an[n] for n in reorder]\n",
    "\n",
    "plt.figure(figsize = (13,12))\n",
    "plt.subplot2grid((1,4),(0,0),colspan = 3)\n",
    "plt.title('Non-Neutral hamiltonian Comparison of $J_A$')\n",
    "plt.ylabel(r'$P(finding\\; ground\\; state)$')\n",
    "plt.xlabel(r'$\\theta$ in units $\\pi / 2} $')\n",
    "for i,a in enumerate(an):\n",
    "    thetas = np.asarray(a['thetas'])\n",
    "    last_prob = np.asarray(a['last_prob'])\n",
    "    # here we plot the figure\n",
    "    plt.plot(2*thetas/np.pi,last_prob, label = \"$%sJ_{A,0}$\"%JA_power[i])\n",
    "plt.legend(bbox_to_anchor=(1.05, 1), loc=2, borderaxespad=0., framealpha= 0,title = 'Value of $J_A$')\n",
    "plt.show()"
   ]
  },
  {
   "cell_type": "code",
   "execution_count": null,
   "metadata": {},
   "outputs": [],
   "source": [
    "FILES =  glob.glob(r\"C:\\Users\\User\\Documents\\FIZZIX\\4th Year\\Project\\Data\\explore_from_base_ETRATIO=*.pkl\")\n",
    "ENDINGS = [f[f.index('Data')+len('Data')+1:][:-4] for f in FILES]\n",
    "\n",
    "ALPHA = [float(end[end.index(\"=\")+1:]) for end in ENDINGS]\n",
    "ALPHA = np.asarray(ALPHA)\n",
    "an = [mylib.load_object(end) for end in ENDINGS]\n",
    "\n",
    "print an[0]['comments']\n",
    "\n",
    "reorder = ALPHA.argsort()\n",
    "ALPHA = ALPHA[reorder]\n",
    "an = [an[n] for n in reorder]\n",
    "\n",
    "plt.figure(figsize = (13,12))\n",
    "plt.subplot2grid((1,4),(0,0),colspan = 3)\n",
    "plt.title('Non-Neutral hamiltonian Comparison of E and T ratios')\n",
    "plt.ylabel(r'$P(finding\\; ground\\; state)$')\n",
    "plt.xlabel(r'$\\theta$ in units $\\pi / 2} $')\n",
    "for i,a in enumerate(an):\n",
    "    thetas = np.asarray(a['thetas'])\n",
    "    last_prob = np.asarray(a['last_prob'])\n",
    "    # here we plot the figure\n",
    "    plt.plot(2*thetas/np.pi,last_prob, label = \"$10^{%s}$\"%ALPHA[i])\n",
    "plt.legend(bbox_to_anchor=(1.05, 1), loc=2, borderaxespad=0., framealpha= 0,title = 'Value of alpha')\n",
    "plt.show()"
   ]
  },
  {
   "cell_type": "markdown",
   "metadata": {},
   "source": [
    "In this run I scaled the the coupling constants and the Run time such that:\n",
    "\\begin{equation}\n",
    "[J_N, q_0,J_A] = \\alpha [J_{N,0}, q_{0,0},J_{A,0}]\n",
    "\\end{equation}\n",
    "\n",
    "\\begin{equation} \n",
    "T = \\frac{1}{\\alpha}T_0\n",
    "\\end{equation}"
   ]
  },
  {
   "cell_type": "markdown",
   "metadata": {},
   "source": [
    "The above graph is very ingteresting. I had expected that this would be constant across all the values I chose and in fact all realisitc values. \n",
    "\n",
    "Going down the graph, energy scales increase from the base and time scales decrease the probability of success decreases and the eratic patterns get smoothed out. \n",
    "\n",
    "going up the graph, energy scales decrease and the time scales increase causing the probability of success to generally increase and to make the relationship with theta more complex\n",
    "\n",
    "\n"
   ]
  },
  {
   "cell_type": "markdown",
   "metadata": {},
   "source": [
    "### Below I just want to check that all my runs have produced the same data for the base run"
   ]
  },
  {
   "cell_type": "code",
   "execution_count": null,
   "metadata": {},
   "outputs": [],
   "source": [
    "PATHSTART = r\"explore_from_base_\"\n",
    "PATHEND = ['QUBITS=4', 'ETRATIO=0','JA=1.0']\n",
    "FILES = [PATHSTART + ending for ending in PATHEND]\n",
    "\n",
    "an = [mylib.load_object(end) for end in FILES]\n",
    "\n",
    "plt.figure(figsize = (13,6))\n",
    "plt.subplot2grid((1,4),(0,0),colspan = 3)\n",
    "plt.title('Non-Neutral hamiltonian. Make sure base is the same')\n",
    "plt.ylabel(r'$P(finding\\; ground\\; state)$')\n",
    "plt.xlabel(r'$\\theta$ in units $\\pi / 2} $')\n",
    "for i,a in enumerate(an):\n",
    "    thetas = np.asarray(a['thetas'])\n",
    "    last_prob = np.asarray(a['last_prob'])\n",
    "    # here we plot the figure\n",
    "    plt.plot(2*thetas/np.pi,last_prob, label = PATHEND[i])\n",
    "plt.legend(bbox_to_anchor=(1.05, 1), loc=2, borderaxespad=0., framealpha= 0,title = 'File Source')\n",
    "plt.show()"
   ]
  },
  {
   "cell_type": "code",
   "execution_count": null,
   "metadata": {},
   "outputs": [],
   "source": []
  }
 ],
 "metadata": {
  "language_info": {
   "name": "python",
   "pygments_lexer": "ipython3"
  }
 },
 "nbformat": 4,
 "nbformat_minor": 1
}
