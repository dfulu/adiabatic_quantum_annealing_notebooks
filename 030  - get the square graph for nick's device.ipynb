{
 "cells": [
  {
   "cell_type": "code",
   "execution_count": null,
   "metadata": {},
   "outputs": [],
   "source": [
    "import numpy as np\n",
    "import matplotlib.pyplot as plt\n",
    "from scipy.interpolate import griddata\n",
    "import project_lib as mylib\n",
    "%matplotlib notebook"
   ]
  },
  {
   "cell_type": "code",
   "execution_count": null,
   "metadata": {},
   "outputs": [],
   "source": [
    "thetas = np.linspace(0,90,100) # in degrees\n",
    "ss = np.linspace(0,1,1000)\n",
    "\n",
    "f = lambda theta,ss: (theta/90.)*(np.cos(ss*2*np.pi)**2)*(1-ss) # the energy function\n",
    "\n",
    "f_vals = [f(theta,ss) for theta in thetas] # the values\n"
   ]
  },
  {
   "cell_type": "code",
   "execution_count": null,
   "metadata": {},
   "outputs": [],
   "source": [
    "x = np.asarray([(1-ss) if theta<= 45 else (1-ss)*np.tan((90-theta)*np.pi/180.) for theta in thetas]) \n",
    "y = np.asarray([(1-ss)*np.tan((theta)*np.pi/180.)*(1-ss) if theta <=45 else (1-ss) for theta in thetas])\n",
    "z = np.asarray(f_vals)\n",
    "\n",
    "x = np.reshape(x,x.size)\n",
    "y = np.reshape(y,y.size)\n",
    "z = np.reshape(z,z.size)\n",
    "\n",
    "xi = np.linspace(0,1,1000)\n",
    "yi = np.linspace(0,1,1000)\n",
    "zi = griddata((x, y), z, (xi[None,:], yi[:,None]), method='cubic')"
   ]
  },
  {
   "cell_type": "code",
   "execution_count": null,
   "metadata": {},
   "outputs": [],
   "source": [
    "# contour the gridded data, plotting dots at the randomly spaced data points.\n",
    "CS = plt.contour(xi,yi,zi,15,linewidths=0.5,colors='k')\n",
    "CS = plt.contourf(xi,yi,zi,15,cmap=plt.cm.jet)\n",
    "plt.colorbar() # draw colorbar\n",
    "# plot data points.\n",
    "plt.xlim(0,1)\n",
    "plt.ylim(0,1)\n",
    "plt.show()"
   ]
  },
  {
   "cell_type": "code",
   "execution_count": null,
   "metadata": {},
   "outputs": [],
   "source": [
    "thetas = range(1,100)\n",
    "x = np.asarray([(1-ss) if theta<= 45 else (1-ss)*np.tan((90-theta)*np.pi/180.) for theta in thetas]) \n",
    "y = np.asarray([(1-ss)*np.tan((theta)*np.pi/180.)*(1-ss) if theta <=45 else (1-ss) for theta in thetas])\n",
    "energy_levels = mylib.load_object(\"Nicks_device_square_(radial_energy_levels)(v001)\")['energy_levels']\n",
    "between = (0,1)\n",
    "z = [energy_levels[theta][:,between[1]]- energy_levels[theta][:,between[0]] for theta in range(0,99)]\n",
    "z = np.asarray(z)\n",
    "\n",
    "x = np.reshape(x,x.size)\n",
    "y = np.reshape(y,y.size)\n",
    "z = np.reshape(z,z.size)\n",
    "\n",
    "xi = np.linspace(0,1,1000)\n",
    "yi = np.linspace(0,1,1000)\n",
    "zi = griddata((x, y), z, (xi[None,:], yi[:,None]), method='cubic')"
   ]
  },
  {
   "cell_type": "code",
   "execution_count": null,
   "metadata": {},
   "outputs": [],
   "source": [
    "# contour the gridded data, plotting dots at the randomly spaced data points.\n",
    "CS = plt.contour(xi,yi,zi,15,linewidths=0.5,colors='k')\n",
    "CS = plt.contourf(xi,yi,zi,15,cmap=plt.cm.jet)\n",
    "plt.colorbar() # draw colorbar\n",
    "# plot data points.\n",
    "plt.xlim(0,1)\n",
    "plt.ylim(0,1)\n",
    "plt.show()"
   ]
  },
  {
   "cell_type": "code",
   "execution_count": null,
   "metadata": {},
   "outputs": [],
   "source": [
    "energy_levels = mylib.load_object(\"Nicks_device_square_(radial_energy_levels)(v001)\")['energy_levels']\n",
    "z = [energy_levels[theta][:,between[1]]- energy_levels[theta][:,between[0]] for theta in range(0,99)]\n",
    "print np.asarray(z).shape"
   ]
  },
  {
   "cell_type": "markdown",
   "metadata": {},
   "source": [
    "## Accomplish the plotting of the constant energy trace run"
   ]
  },
  {
   "cell_type": "code",
   "execution_count": null,
   "metadata": {},
   "outputs": [],
   "source": [
    "plt.figure()\n",
    "a_log = np.linspace(0,2,1000)\n",
    "a_anc = 2-a_log\n",
    "plt.plot(a_log,a_anc)\n",
    "plt.show()"
   ]
  },
  {
   "cell_type": "code",
   "execution_count": null,
   "metadata": {},
   "outputs": [],
   "source": [
    "BETWEENLEVELS = (1,3)\n",
    "DATA = mylib.load_object(\"Nicks_device_triangle_(radial_energy_levels)(v001)\")\n",
    "a_log_0s = DATA['a_log_0']\n",
    "ss = np.linspace(0,1,1000)\n",
    "x = np.asarray([(1-ss)*aL0 for aL0 in a_log_0s]) \n",
    "y = np.asarray([(1-ss)*(2-aL0) for aL0 in a_log_0s]) \n",
    "energy_levels = DATA['energy_levels']\n",
    "z = [energy_levels[i][:,BETWEENLEVELS[1]]- energy_levels[i][:,BETWEENLEVELS[0]] for i in range(len(a_log_0s))]\n",
    "z = np.asarray(z)\n",
    "p_thetas = np.concatenate([np.asarray([np.pi/2]),np.arctan((2-a_log_0s[1:])/a_log_0s[1:])])\n",
    "\n",
    "x = np.reshape(x,x.size)\n",
    "y = np.reshape(y,y.size)\n",
    "z = np.reshape(z,z.size)\n",
    "\n",
    "xi = np.linspace(0,2,1000)\n",
    "yi = np.linspace(0,2,1000)\n",
    "zi = griddata((x, y), z, (xi[None,:], yi[:,None]), method='cubic')"
   ]
  },
  {
   "cell_type": "code",
   "execution_count": null,
   "metadata": {},
   "outputs": [],
   "source": [
    "# contour the gridded data, plotting dots at the randomly spaced data points.\n",
    "plt.figure()\n",
    "CS = plt.contour(xi,yi,zi,15,linewidths=0.5,colors='k')\n",
    "CS = plt.contourf(xi,yi,zi,15,cmap=plt.cm.jet)\n",
    "plt.colorbar() # draw colorbar\n",
    "# plot data points.\n",
    "plt.xlim(0,2)\n",
    "plt.ylim(0,2)\n",
    "plt.show()"
   ]
  },
  {
   "cell_type": "markdown",
   "metadata": {},
   "source": [
    "## Now I should figure out if this changes the trace of the Hamiltonian"
   ]
  },
  {
   "cell_type": "code",
   "execution_count": null,
   "metadata": {},
   "outputs": [],
   "source": [
    "# THIS ALL NEEDS TO BE DEFINED SO THAT WE CAN GENERATE THE PROBLEM AND BASE HAMILTONIANS\n",
    "points = 1000\n",
    "#define number of logical and ancilla Qubits\n",
    "log_qub = 4\n",
    "anc_qub = log_qub\n",
    "Qubits = log_qub*2\n",
    "\n",
    "\n",
    "\n",
    "s = .5 # change the value of s\n",
    "\n",
    "\n",
    "\n",
    "# define the coupling parameters that comply with the conditions above\n",
    "JN = 0.1\n",
    "q0 = 50.\n",
    "Ja = 100.\n",
    "Jl = Ja\n",
    "hl = -Ja+q0\n",
    "\n",
    "# construct h\n",
    "hl = np.asarray([-Ja+q0]*log_qub) # h for the logical Qubits\n",
    "ha = np.asarray([-Ja*(2*i-log_qub)+q0 for i in range(1,log_qub+1)]) + np.asarray([JN if (log_qub-i)%2 == 1 else -JN for i in range(1,log_qub+1)])# h for the ancilla Qubits\n",
    "h_i = np.concatenate((hl,ha)) # the full h\n",
    "\n",
    "# constuct J\n",
    "J_log_log = Jl*np.triu(np.ones((log_qub,log_qub)), k=1) # the J component for the logical qubit interactions\n",
    "J_log_anc = Ja*np.ones((log_qub,log_qub)) # interactions between logical and ancilla bits\n",
    "Jt = np.concatenate((J_log_log,J_log_anc),axis=1) # make top half of J array\n",
    "Jb = np.zeros(Jt.shape) # make bottom half of J array\n",
    "J_ij = np.concatenate((Jt,Jb),axis=0) # the full J\n",
    "\n",
    "###########\n",
    "# 'schedules'\n",
    "sfl = lambda points: np.linspace(0,2,points)*(1-s)\n",
    "sfa = lambda points: np.linspace(2,0,points)\n",
    "sfB = lambda points: np.ones(points)*s\n",
    "##########\n",
    "sched_funcs = [[sfl]*log_qub+[sfa]*log_qub,[sfB]]\n",
    "a = mylib.Anneal(Qubits,[h_i,J_ij],T=100.,points = points,sched_funcs = sched_funcs, diff_scheds = True, show_bar = True, light = False) \n",
    "\n",
    "H_trace = []\n",
    "for i in range(points):\n",
    "    H_trace.append(np.trace(a.H(i)))\n",
    "\n",
    "plt.figure()\n",
    "plt.xlabel(\"$A_{log,0}$ ($2-A_{anc,0}$)\")\n",
    "plt.ylabel(\"Tr(H)\")\n",
    "plt.title(\"Does the trace of H stay the same as intended?\")\n",
    "plt.plot(np.linspace(0,2,points), H_trace)\n",
    "plt.show()"
   ]
  },
  {
   "cell_type": "markdown",
   "metadata": {},
   "source": [
    "## This seems to work. By choosing the schdules as I have donme I have kept the trace of their Hamiltonians the same and therefore have kept the energy scales the same"
   ]
  },
  {
   "cell_type": "code",
   "execution_count": null,
   "metadata": {},
   "outputs": [],
   "source": [
    "zi[900,900]"
   ]
  },
  {
   "cell_type": "code",
   "execution_count": null,
   "metadata": {},
   "outputs": [],
   "source": []
  }
 ],
 "metadata": {
  "language_info": {
   "name": "python",
   "pygments_lexer": "ipython3"
  }
 },
 "nbformat": 4,
 "nbformat_minor": 1
}
