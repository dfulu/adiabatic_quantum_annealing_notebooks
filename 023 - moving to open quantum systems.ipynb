{
 "cells": [
  {
   "cell_type": "markdown",
   "metadata": {},
   "source": [
    "### I plan to use this file in order to get my head around the open quantum systems stuff. \n",
    "#### I plan it to go through all of the equations and theory, with included capturd images from papers etc when needed.\n",
    "#### By the end I hope to be able to copy and paste from this into my project library"
   ]
  },
  {
   "cell_type": "code",
   "execution_count": null,
   "metadata": {},
   "outputs": [],
   "source": [
    "import project_lib as mylib\n",
    "import numpy as np\n",
    "import matplotlib.pyplot as plt\n",
    "import matplotlib.image as mpimg\n",
    "%matplotlib notebook"
   ]
  },
  {
   "cell_type": "markdown",
   "metadata": {},
   "source": [
    "I think the most elementary thing to begin this task is the linblad master equation and it's approximations. The following is taken from the documentation of qutip"
   ]
  },
  {
   "cell_type": "code",
   "execution_count": null,
   "metadata": {},
   "outputs": [],
   "source": [
    "# this is the code to copy and paste for an image\n",
    "img1=mpimg.imread(r\"C:\\Users\\User\\Documents\\FIZZIX\\4th Year\\Project\\Jupyter Extra Images\\linblad_master_equation.png\")\n",
    "plt.figure(); plt.imshow(img1)\n",
    "plt.axis('off')\n",
    "plt.show()"
   ]
  },
  {
   "cell_type": "markdown",
   "metadata": {},
   "source": [
    "The Linblad Master Equation for the system coupled weakly with the environment is  \n",
    "\\begin{equation}\n",
    "\\dot{\\rho}(t) = -\\frac{i}{\\hbar} \\left[ H(t),\\rho (t)\\right]+\\frac{1}{2}\\sum_{k}^{} \\left( 2C_{k}\\rho (t)C_{k}^{\\dagger}-\\rho (t)C_{k}^{\\dagger}C_{k}-C_{k}^{\\dagger}C_{k} \\rho (t) \\right)\n",
    "\\end{equation}\n",
    "where\n",
    "\\begin{equation}\n",
    "C_{k} = \\sqrt{\\gamma_{k}} A_{k}\n",
    "\\end{equation}\n",
    "The terms $C_{k}$ are the operators by which the qubit system couples to the environment. They ought to be the projection operators between states $\\left|\\psi_n\\right>$ and $\\left|\\psi_m\\right>$.\n",
    "For now I think the most sensible thing to do might be to make the rate of each coupling dependent on the temperature, $T$, the energy gap, $\\delta E_{nm} = E_{m}-E_{n} = -\\delta E_{mn}$, and the number of spin flips (the Hamming distance), $d_nm = d_mn$. I will also set an overall parameter $\\Gamma$ to which I can the global coupling strengths. Therefore the coupling operators are\n",
    "\\begin{equation}\n",
    "C_{n \\neq m} =  \\sqrt{2^{\\ -d_{nm}} \\Gamma  exp \\left( \\frac{E_{n}-E_{m}}{k_{B}T} \\right)} \\left|\\psi_m\\right> \\left<\\psi_n\\right|\n",
    "\\end{equation}\n",
    "However, for every forward transfer there will be a backwards one\n",
    "\\begin{equation}\n",
    "C_{m \\neq n} =  \\sqrt{ 2^{\\ -d_{mn}} \\Gamma exp \\left( \\frac{E_{m}-E_{n}}{k_{B}T} \\right)} \\left|\\psi_n\\right> \\left<\\psi_m\\right|\n",
    "\\end{equation}"
   ]
  },
  {
   "cell_type": "code",
   "execution_count": null,
   "metadata": {},
   "outputs": [],
   "source": [
    "#Here I want to make a function that can create the |n><m| term \n",
    "\n",
    "def make_eigen_vector(bits):\n",
    "    '''this function takes a string of bit assignments and turns them into a vector in the hamiltonian space'''\n",
    "    neg = np.matrix('0. 1.')\n",
    "    pos = np.matrix('1. 0.')\n",
    "    vecs = [pos,neg]\n",
    "    vec = vecs[bits[0]]\n",
    "    for i in range(1,len(bits)):\n",
    "        vec = np.kron(vec,vecs[bits[i]])\n",
    "    return vec\n",
    "\n",
    "def projection_nm(nbits,mbits):\n",
    "    '''this function takes 2 arrays of bit assignments and turns them into a projection operator in the joint hilbert \n",
    "    space of the 2 vectors.\n",
    "    Essentially this creates |n><m|'''\n",
    "    n = make_eigen_vector(nbits)\n",
    "    m = make_eigen_vector(mbits)\n",
    "    nm = np.kron(n,m.getH())\n",
    "    return nm\n",
    "\n",
    "nbits = [1,0,1]\n",
    "mbits = [1,0,0]\n",
    "n = make_eigen_vector(nbits)\n",
    "m = make_eigen_vector(mbits)\n",
    "print r'P_nm |n> = ',(projection_nm(nbits,mbits)*n.getH()).getH(),u\"\\u2020\"\n",
    "print r'     |m> = ', m ,u\"\\u2020\""
   ]
  },
  {
   "cell_type": "code",
   "execution_count": null,
   "metadata": {},
   "outputs": [],
   "source": [
    "# I want to create a function that calculates the hamming distance between any bit assignments\n",
    "\n",
    "def hamming_distance(nbits,mbits):\n",
    "    nbits = np.asarray(nbits)\n",
    "    mbits = np.asarray(mbits)\n",
    "    d_nm = sum(np.absolute(nbits - mbits))\n",
    "    return d_nm\n",
    "\n",
    "nbits = [0,1,1,1]\n",
    "mbits = [1,0,0,1]\n",
    "\n",
    "print hamming_distance(nbits,mbits)"
   ]
  },
  {
   "cell_type": "code",
   "execution_count": null,
   "metadata": {},
   "outputs": [],
   "source": [
    "# I want to make a function that will find the energy gap between an 2 bit assignments\n",
    "\n",
    "def dE_nm(nbits,mbits,H):\n",
    "    '''dE = E_m-E_n. This fucntion '''\n",
    "    dE = "
   ]
  }
 ],
 "metadata": {
  "language_info": {
   "name": "python",
   "pygments_lexer": "ipython3"
  }
 },
 "nbformat": 4,
 "nbformat_minor": 1
}
