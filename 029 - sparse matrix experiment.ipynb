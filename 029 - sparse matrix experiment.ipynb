{
 "cells": [
  {
   "cell_type": "markdown",
   "metadata": {},
   "source": [
    "# In this file I want to test out the sparse matrix methods to figure out how I would implemement them and the speed boost they will give me"
   ]
  },
  {
   "cell_type": "code",
   "execution_count": null,
   "metadata": {},
   "outputs": [],
   "source": [
    "import scipy.sparse as sparse\n",
    "import scipy.sparse.linalg as spalg\n",
    "import scipy.linalg as lalg\n",
    "import numpy as np\n",
    "import timeit\n",
    "import matplotlib.pyplot as plt\n",
    "%matplotlib notebook"
   ]
  },
  {
   "cell_type": "code",
   "execution_count": null,
   "metadata": {},
   "outputs": [],
   "source": [
    "sigma_x = np.matrix('0. 1.; 1. 0.')\n",
    "sigma_z = np.matrix('1. 0.; 0. -1.')\n",
    "sparse_sigma_x = sparse.csr_matrix(sigma_x)\n",
    "sparse_sigma_z = sparse.csr_matrix(sigma_z)\n",
    "\n",
    "def sigma_zi(i,N):\n",
    "    '''This returns the equivalent sigma_z for the ith qubit in the new Hilbert space given that there are N qubits'''\n",
    "    return np.kron(np.eye(2**i), np.kron(sigma_z,np.eye(2**(N-(i+1)))))\n",
    "\n",
    "def sparse_sigma_zi(i,N):\n",
    "    return sparse.kron(sparse.identity(2**i, format = 'csr'), sparse.kron(sparse_sigma_z,sparse.identity(2**(N-(i+1)), format = 'csr')))\n",
    "\n",
    "def sigma_xi(i,N):\n",
    "    '''This returns the equivalent sigma_z for the ith qubit in the new Hilbert space given that there are N qubits'''\n",
    "    return np.kron(np.eye(2**i), np.kron(sigma_x,np.eye(2**(N-(i+1)))))\n",
    "\n",
    "def sparse_sigma_xi(i,N):\n",
    "    return sparse.kron(sparse.identity(2**i, format = 'csr'), sparse.kron(sparse_sigma_x,sparse.identity(2**(N-(i+1)), format = 'csr')))\n"
   ]
  },
  {
   "cell_type": "code",
   "execution_count": null,
   "metadata": {},
   "outputs": [],
   "source": [
    "sparse_sigma_zi(3,5)"
   ]
  },
  {
   "cell_type": "code",
   "execution_count": null,
   "metadata": {},
   "outputs": [],
   "source": [
    "qubits = 9\n",
    "h = np.random.random(qubits)\n",
    "J = np.random.random((qubits,qubits))\n",
    "\n",
    "\n",
    "def hamiltonian_parts():\n",
    "        '''\n",
    "        - Constructs the hamiltonian from the parameters input\n",
    "        - If we are doing an anneal run where we have different annealing schedules for each qubits it will return a list \n",
    "        of hamiltonian parts for the base hamiltonian. Else it returns a single hamiltonian for this part\n",
    "        '''\n",
    "        #initiate the hamiltonians giving them the right dimensions\n",
    "        Hb = []\n",
    "        Hp = np.matrix(np.eye(2**qubits)*0.)\n",
    "        # loop through adding pieces to construct the hamiltonians \n",
    "        for i in range(qubits):\n",
    "            Hb.append(sigma_xi(i,qubits))\n",
    "            Hp += h[i]*sigma_zi(i,qubits)\n",
    "            # the following part adds the interaction between all qubits. There is 1 interaction coefficient for each pairing \n",
    "            for j in range(i+1,qubits): \n",
    "                Hp +=J[i][j]*sigma_zi(i,qubits)*sigma_zi(j,qubits)    \n",
    "        Hb = sum(Hb)\n",
    "        return Hb, Hp\n",
    "\n",
    "def sparse_hamiltonian_parts():\n",
    "        '''\n",
    "        - Constructs the hamiltonian from the parameters input\n",
    "        - If we are doing an anneal run where we have different annealing schedules for each qubits it will return a list \n",
    "        of hamiltonian parts for the base hamiltonian. Else it returns a single hamiltonian for this part\n",
    "        '''\n",
    "        #initiate the hamiltonians giving them the right dimensions\n",
    "        Hb = []\n",
    "        Hp = sparse.csr_matrix((2**qubits, 2**qubits), dtype=np.int8)\n",
    "        # loop through adding pieces to construct the hamiltonians \n",
    "        for i in range(qubits):\n",
    "            Hb.append(sparse_sigma_xi(i,qubits))\n",
    "            Hp += h[i]*sparse_sigma_zi(i,qubits)\n",
    "            # the following part adds the interaction between all qubits. There is 1 interaction coefficient for each pairing \n",
    "            for j in range(i+1,qubits): \n",
    "                Hp +=J[i][j]*sparse_sigma_zi(i,qubits)*sparse_sigma_zi(j,qubits)   \n",
    "        Hb = sum(Hb)\n",
    "        return Hb, Hp"
   ]
  },
  {
   "cell_type": "code",
   "execution_count": null,
   "metadata": {},
   "outputs": [],
   "source": [
    "# lets see how the number of qubits affects the ratio in time taken\n",
    "Qmax =12\n",
    "Tn = np.zeros(Qmax)\n",
    "Ts = np.zeros(Qmax)\n",
    "for qubits in range(1,Qmax+1):\n",
    "    h = np.random.random(qubits)\n",
    "    J = np.random.random((qubits,qubits))\n",
    "    Tn[qubits-1] = timeit.timeit(hamiltonian_parts,number = 3)\n",
    "    Ts[qubits-1] = timeit.timeit(sparse_hamiltonian_parts,number = 3)\n",
    "plt.figure()\n",
    "plt.title('Time taken to construct the Hamiltonian')\n",
    "plt.plot(range(1,Qmax+1), Tn, label = 'normal')\n",
    "plt.plot(range(1,Qmax+1), Ts, label = 'sparse')\n",
    "plt.xlabel('Qubits')\n",
    "plt.ylabel('Time Taken')\n",
    "plt.legend(framealpha= 0, loc = 'best')\n",
    "plt.show()"
   ]
  },
  {
   "cell_type": "markdown",
   "metadata": {},
   "source": [
    "We can see that there is a dramatic difference just in creating the Hamiltonian in the two methods. I should have found this earlier"
   ]
  },
  {
   "cell_type": "code",
   "execution_count": null,
   "metadata": {},
   "outputs": [],
   "source": [
    "Qmax = 12\n",
    "Hb0 = []\n",
    "Hp0 = []\n",
    "Hs0 = []\n",
    "sparse_Hb0 = []\n",
    "sparse_Hp0 = []\n",
    "sparse_Hs0 = []\n",
    "v0 = []\n",
    "\n",
    "for i in range(1,Qmax+1):\n",
    "    qubits = i\n",
    "    h = np.random.random(qubits)\n",
    "    J = np.random.random((qubits,qubits))\n",
    "\n",
    "    hb,hp = hamiltonian_parts()\n",
    "    shb,shp = sparse_hamiltonian_parts()\n",
    "    hs = 0.3*hb+0.7*hp\n",
    "    shs = 0.3*shb+0.7*shp\n",
    "    \n",
    "    Hb0.append(hb)\n",
    "    Hp0.append(hp)\n",
    "    Hs0.append(hs)\n",
    "    sparse_Hb0.append(shb)\n",
    "    sparse_Hp0.append(shp)\n",
    "    sparse_Hs0.append(shs)\n",
    "    \n",
    "    v = np.matrix(np.random.random(2**qubits)).getH()\n",
    "    v=v/(v.getH()*v).item(0)**0.5\n",
    "    v0.append(v)\n",
    "\n",
    "def diagal():\n",
    "    d,P = lalg.eigh(Hs)\n",
    "    return d,P\n",
    "    \n",
    "def sparse_diagal():\n",
    "    d,P = spalg.eigsh(sparse_Hs,k=2**qubits-1)\n",
    "    return d,P\n"
   ]
  },
  {
   "cell_type": "code",
   "execution_count": null,
   "metadata": {},
   "outputs": [],
   "source": [
    "# lets see how the number of qubits affects the ratio in time taken\n",
    "Qmax = 12\n",
    "Tn = np.zeros(Qmax)\n",
    "Ts = np.zeros(Qmax)\n",
    "for qubits in range(3,Qmax+1):\n",
    "    Hs = Hs0[qubits-1]\n",
    "    sparse_Hs = sparse_Hs0[qubits-1]\n",
    "    Tn[qubits-1] = timeit.timeit(diagal,number = 10)\n",
    "    Ts[qubits-1] = timeit.timeit(sparse_diagal,number = 10)\n",
    "plt.figure()\n",
    "plt.title('Time taken for Diagonalisation')\n",
    "plt.plot(range(1,Qmax+1), Tn, label = 'normal')\n",
    "plt.plot(range(1,Qmax+1), Ts, label = 'sparse')\n",
    "plt.xlabel('Qubits')\n",
    "plt.ylabel('Time Taken')\n",
    "plt.legend(framealpha= 0, loc = 'best')\n",
    "plt.show()"
   ]
  },
  {
   "cell_type": "code",
   "execution_count": null,
   "metadata": {},
   "outputs": [],
   "source": [
    "#print spalg.eigsh(sparse_Hs0[5],k=2**6-1)[0]\n",
    "#print lalg.eigh(Hs0[5])[0]\n",
    "# I think that this sparse code will return all of the eigenthings except for one near the centre\n",
    "qubits = 8\n",
    "a_n = lalg.eigh(Hs0[qubits-1])[0]\n",
    "a_s =spalg.eigsh(sparse_Hs0[qubits-1],k=2**qubits-1)[0]\n",
    "print len(a_n)\n",
    "excluded_index = 145\n",
    "difference = a_s-a_n[np.arange(len(a_n))!=excluded_index]\n",
    "difference[abs(difference)<1e-13]=0\n",
    "print difference.size\n",
    "print difference"
   ]
  },
  {
   "cell_type": "markdown",
   "metadata": {},
   "source": [
    "## From playing about with the above cell I have empirically discovered that this method will miss out an index from somewhere close to and slightly above the centre index"
   ]
  },
  {
   "cell_type": "markdown",
   "metadata": {},
   "source": [
    "This should mean that it is safe for me to use.\n",
    "\n",
    "# I have just realised that this will not work for me since I need to have all of the eigenvalues and eigenvectors in order to build the matrix unitary time evolution matrix. Shite! This could be an end of this thought chain\n",
    "\n",
    "The only other option I can think of is the possibility of using normal matrix multiplication with sparse methods. I mean by this that we will work in the straight basis, not the diagonalised one"
   ]
  },
  {
   "cell_type": "code",
   "execution_count": null,
   "metadata": {},
   "outputs": [],
   "source": [
    "# lets see how it would look to work in the non-diagonalised basis instead of the diagonalised one.\n",
    "# remembering that we will need to diagonalise as well as do the regular caluculation\n",
    "qubits = 4\n",
    "dt = 0.001\n",
    "#make a vector\n",
    "v = np.matrix(np.random.random(2**qubits)).getH()\n",
    "v=v/(v.getH()*v).item(0)**0.5\n",
    "\n",
    "Hs = Hs0[qubits-1]\n",
    "sparse_Hs =sparse_Hs0[qubits-1]\n",
    "\n",
    "def sparse_function():\n",
    "    d,P = sparse_diagal()\n",
    "    new_v = spalg.expm_multiply(sparse_Hs*(-1.j*dt), v)\n",
    "    return new_v,d\n",
    "\n",
    "def normal_function():\n",
    "    d,P = diagal()\n",
    "    P = np.matrix(P)\n",
    "    P_in = P.getH()\n",
    "    new_v = P*np.diag(np.exp(-1.j*d*dt))*P_in*v\n",
    "    return new_v,d"
   ]
  },
  {
   "cell_type": "code",
   "execution_count": null,
   "metadata": {},
   "outputs": [],
   "source": [
    "nv,nd = normal_function()\n",
    "sv,sd = sparse_function()\n",
    "print nv-sv"
   ]
  },
  {
   "cell_type": "code",
   "execution_count": null,
   "metadata": {},
   "outputs": [],
   "source": [
    "# lets see how the number of qubits affects the ratio in time taken\n",
    "\n",
    "Qmax = 12\n",
    "Tn = np.zeros(Qmax)\n",
    "Ts = np.zeros(Qmax)\n",
    "for qubits in range(3,Qmax+1):\n",
    "    Hs = Hs0[qubits-1]\n",
    "    sparse_Hs = sparse_Hs0[qubits-1]\n",
    "    v = v0[qubits-1]\n",
    "    \n",
    "    Tn[qubits-1] = timeit.timeit(normal_function,number = 10)\n",
    "    Ts[qubits-1] = timeit.timeit(sparse_function,number = 10)\n",
    "    \n",
    "plt.figure()\n",
    "plt.title('Time taken for evolution step')\n",
    "plt.plot(range(1,Qmax+1), Tn, label = 'normal')\n",
    "plt.plot(range(1,Qmax+1), Ts, label = 'sparse')\n",
    "plt.xlabel('Qubits')\n",
    "plt.ylabel('Time Taken')\n",
    "plt.legend(framealpha= 0, loc = 'best')\n",
    "plt.show()"
   ]
  },
  {
   "cell_type": "code",
   "execution_count": null,
   "metadata": {},
   "outputs": [],
   "source": []
  }
 ],
 "metadata": {
  "language_info": {
   "name": "python",
   "pygments_lexer": "ipython3"
  }
 },
 "nbformat": 4,
 "nbformat_minor": 1
}
