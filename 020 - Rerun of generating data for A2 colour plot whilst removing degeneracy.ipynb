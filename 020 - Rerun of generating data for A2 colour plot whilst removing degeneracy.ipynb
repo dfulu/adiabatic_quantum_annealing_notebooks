{
 "cells": [
  {
   "cell_type": "markdown",
   "metadata": {},
   "source": [
    "### In this notebook I want to rerun the the A2 colour plot whilst removing the degeneracy of the equal parities"
   ]
  },
  {
   "cell_type": "markdown",
   "metadata": {},
   "source": [
    "We are using the same structure as reported in Nick's Circuit Design paper. 4 ancilla bits and 4 logical bits used to construct an eefecting 4 body coupling. We will apply 2 different schedules to the transverse field so that we have $A_{ancilla}(s)$ and $A_{logical}(s)$ but they will share the same $B(s)$."
   ]
  },
  {
   "cell_type": "code",
   "execution_count": null,
   "metadata": {},
   "outputs": [],
   "source": [
    "import project_lib as mylib\n",
    "import numpy as np\n",
    "import matplotlib.pyplot as plt"
   ]
  },
  {
   "cell_type": "markdown",
   "metadata": {},
   "source": [
    "I want this file to do the same thing that my previous run did. It should favour the energy levels of an odd parity (that is what the last one did I believe).\n",
    "If we run this without the splitting I intend to implement we would expect that the lowest states would be [{uuud},{uddd}].\n",
    "So how can I split these?\n",
    "Whatever I do I need to to maintain that the energy deviation of any arrangement of spins cannot allow it to change in energy enought so that there is a parity cross over in energy levels. i.e. if E[uuud] is the energy of the arrangement uuud in the non-perturbed set up and E'[uuud] is the energy level in the pertubed arrangemnent with fields introduced to remove the degeneracy. \n",
    "Also let $\\textit{even}$ be the subset of arrangements that are even parity and similar for $\\textit{odd}$. \n",
    "Then \n",
    "\\begin{equation}\n",
    "E'[even]>E'[odd]\n",
    "\\end{equation}\n",
    "and there can be no degeneracy. For example\n",
    "\\begin{equation}\n",
    "E'[uuud] \\neq E'[uduu] \\neq E'[duuu] \\neq E'[uudu]\n",
    "\\end{equation}\n",
    "\n",
    "We know that the enegy levels for the odd and even parities are $E_0 -J_N$ and $E_0 +J_N$ respectively. If we add a field to each of the logical qubits $h'_i$ to break the degeneracy we need to ensure that\n",
    "\\begin{equation}\n",
    "E_0 -J_N + \\sum_{i=1}^{odd} h'_i \\sigma_{z}^{i} < E_0 + \\sum_{i=1}^{even} h'_i \\sigma_{z}^{i} +J_N\n",
    "\\end{equation}\n",
    "so we need to look at the maximum and minimum of the minimum of the energy assignments for the odd and even pairs and make sure that they satisfy:\n",
    "\\begin{equation}\n",
    "max \\left( \\sum_{i=1}^{odd} h'_i \\sigma_{z}^{i} \\right) - min \\left( \\sum_{i=1}^{even} h'_i \\sigma_{z}^{i} \\right) < 2 J_N\n",
    "\\end{equation}\n",
    "Lets choose to make all of the $h'_i > 0$. This will mean that the max enenrgy assignment for the odd parity states will be on of the {uuud} set. The minimum energy assignment for the positive parity states will be [dddd].\n",
    "Therefore we require that \n",
    "\\begin{equation}\n",
    "2\\left( \\sum_{i=1}^{N_{log}} h'_i \\right) - min(h'_{i})  < 2 J_N\n",
    "\\end{equation}\n",
    "Also to remove the degeneracy we will require that no sums within the $\\textit{even}$ and $\\textit{odd}$ groups can be equal. I think the easiest way to do this to to make the $h'_i$ values the binary numbers. i.e. $h'_i=h'_{0}2^{i-1}$. Where $h'_{0} < \\frac{J_N}{\\left( \\sum_{i=1}^{N_{log}} 2^{i-1} \\right)-1}$\n"
   ]
  },
  {
   "cell_type": "code",
   "execution_count": null,
   "metadata": {},
   "outputs": [],
   "source": [
    "#define number of logical and ancilla qubits\n",
    "log_qub = 4\n",
    "anc_qub = log_qub\n",
    "qubits = log_qub*2\n",
    "\n",
    "# define the coupling parameters that comply with the conditions above\n",
    "JN =1.\n",
    "q0 = 50.\n",
    "Ja = 100.\n",
    "Jl = Ja\n",
    "hl = -Ja+q0\n",
    "# condition must be met :   N |hs| < |JN|\n",
    "hs = 2**np.arange(log_qub) # set this to remove degeneracy in same parity solutions. Set to half max value\n",
    "hs0 = 2*JN/(2*sum(hs))\n",
    "hs = hs0*hs\n",
    "print 2*sum(hs)-min(hs)\n",
    "print hs0"
   ]
  },
  {
   "cell_type": "code",
   "execution_count": null,
   "metadata": {},
   "outputs": [],
   "source": [
    "import matplotlib.image as mpimg\n",
    "%matplotlib inline\n",
    "img1=mpimg.imread(r\"C:\\Users\\User\\Documents\\FIZZIX\\4th Year\\Project\\Jupyter Extra Images\\circuits_paper_connection_graph.png\")\n",
    "plt.figure(figsize=(6,6)); plt.imshow(img1)\n",
    "plt.axis('off')\n",
    "plt.show()"
   ]
  },
  {
   "cell_type": "code",
   "execution_count": null,
   "metadata": {},
   "outputs": [],
   "source": [
    "# have a signle run before we move on to do the full scope examination\n",
    "\n",
    "#define number of logical and ancilla qubits\n",
    "log_qub = 4\n",
    "anc_qub = log_qub\n",
    "qubits = log_qub*2\n",
    "\n",
    "# define the coupling parameters that comply with the conditions above\n",
    "JN = 1.\n",
    "q0 = 50.\n",
    "Ja = 100.\n",
    "Jl = Ja\n",
    "hl = -Ja+q0\n",
    "# removing degeneracy\n",
    "hs = 2**np.arange(log_qub) # set this to remove degeneracy in same parity solutions. Set to half max value\n",
    "hs0 = 2*JN/(2*sum(hs))\n",
    "hs = hs0*hs\n",
    "\n",
    "# construct h\n",
    "hl = np.asarray([-Ja+q0]*log_qub)+hs # h for the logical qubits\n",
    "ha = np.asarray([-Ja*(2*i-log_qub)+q0 for i in range(1,log_qub+1)]) + np.asarray([JN if (log_qub-i)%2 == 1 else -JN for i in range(1,log_qub+1)])# h for the ancilla qubits\n",
    "h = np.concatenate((hl,ha)) # the full h\n",
    "\n",
    "# constuct J\n",
    "J_log_log = Jl*np.triu(np.ones((log_qub,log_qub)), k=1) # the J component for the logical qubit interactions\n",
    "J_log_anc = Ja*np.ones((log_qub,log_qub)) # interactions between logical and ancilla bits\n",
    "Jt = np.concatenate((J_log_log,J_log_anc),axis=1) # make top half of J array\n",
    "Jb = np.zeros(Jt.shape) # make bottom half of J array\n",
    "J = np.concatenate((Jt,Jb),axis=0) # the full J\n",
    "\n",
    "#now lets run it\n",
    "a_test = mylib.Anneal(qubits,[h,J],T=100,points = 1000)\n",
    "a_test.run()\n",
    "a_test.show_results()"
   ]
  },
  {
   "cell_type": "code",
   "execution_count": null,
   "metadata": {},
   "outputs": [],
   "source": [
    "import matplotlib.image as mpimg\n",
    "%matplotlib inline\n",
    "img1=mpimg.imread(r\"C:\\Users\\User\\Documents\\FIZZIX\\4th Year\\Project\\Jupyter Extra Images\\Jup010 - Anneal_path_graph.png\")\n",
    "plt.figure(figsize=(6,6)); plt.imshow(img1)\n",
    "plt.axis('off')\n",
    "plt.show()"
   ]
  },
  {
   "cell_type": "markdown",
   "metadata": {},
   "source": [
    "I want to carry out a bunch of anneals where the annealing schedule A path with have the above form. I want them to be simply a linear schedule where they are related by\n",
    "\\begin{equation}\n",
    "    A_{anc}(s)=(1-s) \\sin(\\theta)\n",
    "\\end{equation}\n",
    "\n",
    "\\begin{equation}\n",
    "    A_{log}(s)=(1-s) \\cos(\\theta)\n",
    "\\end{equation}\n",
    "\n",
    "\\begin{equation}\n",
    "    \\text{and so }\\\\\n",
    "    \\sqrt{A_{anc}^2(s)+A_{log}^2(s)}=(1-s)\n",
    "\\end{equation}"
   ]
  },
  {
   "cell_type": "code",
   "execution_count": null,
   "metadata": {},
   "outputs": [],
   "source": [
    "# I should have used this instead. The index 100 isn't a good choice since cos(theta)=0 for this\n",
    "thetas_priority = np.asarray([1,50,99,25,75,10,40,60,90])\n",
    "thetas_all = np.linspace(1,99,99)\n",
    "mask = np.in1d(thetas_all, thetas_priority)\n",
    "thetas_unordered = np.concatenate((thetas_priority,thetas_all[np.logical_not(mask)]))\n",
    "print thetas_unordered"
   ]
  },
  {
   "cell_type": "code",
   "execution_count": null,
   "metadata": {},
   "outputs": [],
   "source": [
    "# run with the non-neutral hamiltonian and removing degeneracy\n",
    "\n",
    "#define number of logical and ancilla qubits\n",
    "log_qub = 4\n",
    "anc_qub = log_qub\n",
    "qubits = log_qub*2\n",
    "\n",
    "# define the coupling parameters that comply with the conditions above\n",
    "JN = 1.\n",
    "q0 = 50.\n",
    "Ja = 100.\n",
    "Jl = Ja\n",
    "hl = -Ja+q0\n",
    "# removing degeneracy\n",
    "hs = 2**np.arange(log_qub) # set this to remove degeneracy in same parity solutions. Set to half max value\n",
    "hs0 = 2*JN/(2*sum(hs))\n",
    "hs = hs0*hs\n",
    "\n",
    "# construct h\n",
    "hl = np.asarray([-Ja+q0]*log_qub)+hs # h for the logical qubits\n",
    "ha = np.asarray([-Ja*(2*i-log_qub)+q0 for i in range(1,log_qub+1)]) + np.asarray([JN if (log_qub-i)%2 == 1 else -JN for i in range(1,log_qub+1)])# h for the ancilla qubits\n",
    "h = np.concatenate((hl,ha)) # the full h\n",
    "\n",
    "# constuct J\n",
    "J_log_log = Jl*np.triu(np.ones((log_qub,log_qub)), k=1) # the J component for the logical qubit interactions\n",
    "J_log_anc = Ja*np.ones((log_qub,log_qub)) # interactions between logical and ancilla bits\n",
    "Jt = np.concatenate((J_log_log,J_log_anc),axis=1) # make top half of J array\n",
    "Jb = np.zeros(Jt.shape) # make bottom half of J array\n",
    "J = np.concatenate((Jt,Jb),axis=0) # the full J\n",
    "\n",
    "#now lets run it with the intended annealing schedules\n",
    "thetas_priority = np.asarray([1,50,99,25,75,10,40,60,90])\n",
    "thetas_all = np.linspace(1,99,99)\n",
    "mask = np.in1d(thetas_all, thetas_priority)\n",
    "thetas_unordered = np.concatenate((thetas_priority,thetas_all[np.logical_not(mask)]))*np.pi/200\n",
    "an = {}\n",
    "last_prob = []\n",
    "for x in thetas_unordered:\n",
    "    sfl = lambda points: np.cos(x)*mylib.linear_schedule(points)\n",
    "    sfa = lambda points: np.sin(x)*mylib.linear_schedule(points)\n",
    "    sfB = mylib.linear_schedule\n",
    "    sched_funcs = [[sfl]*log_qub+[sfa]*anc_qub,[sfB]]\n",
    "    a = mylib.Anneal(qubits,[h,J],T=100,points = 1000,sched_funcs = sched_funcs, diff_scheds = True)\n",
    "    a.run()\n",
    "    an['theta='+str(x)]=a\n",
    "    last_prob.append(a.problem_x0_prob[-1])\n",
    "    mylib.save_object(an,'Jupyter020.001')"
   ]
  },
  {
   "cell_type": "code",
   "execution_count": null,
   "metadata": {},
   "outputs": [],
   "source": [
    "# ------------------------------------------------------------------------------------------------------------------------------\n",
    "#      HERE I WANT TO DEFINE A FUNCTION THAT RETURNS THE HAMILTONIAN AT ANY POINT ON A2 SPACE\n",
    "# ------------------------------------------------------------------------------------------------------------------------------\n",
    "'''We need this to be specific to the linear schedule. So for each point we will need to calculate the angle of theta and\n",
    "thus calculate s so we can feed this into B(s). \n",
    "I want to be able create a plot that has sqrt(A_log**2+A_anc**2) = 1 since these are the point that my previous work has \n",
    "passed through'''\n",
    "nax = 1000\n",
    "sp = np.linspace(0, 1, nax)\n",
    "gaps = np.zeros((sp.size,sp.size))\n",
    "\n",
    "def H_A2((log,anc),s):\n",
    "    return sum([a.Hb[i]*A for i,A in enumerate([log]*log_qub+[anc]*anc_qub)])+s*a.Hp\n",
    "\n",
    "def gap_finder(M):\n",
    "    d,P,P_in = mylib.Diagonaliser(M)\n",
    "    return min(d[d!=min(d)])-min(d)\n",
    "\n",
    "\n",
    "def gap_A2((log,anc)):\n",
    "    s = 1-(anc**2+log**2)\n",
    "    if s<0: return 0\n",
    "    else: return gap_finder(H_A2((log,anc),s))\n",
    "\n",
    "for x,log in enumerate(sp):\n",
    "    print 'running %s of 999'%x\n",
    "    for y,anc in enumerate(sp):\n",
    "        gaps[x,y] = gap_A2((log,anc))\n",
    "        \n",
    "mylib.save_object(gaps,'Jupyter020.002')"
   ]
  },
  {
   "cell_type": "code",
   "execution_count": null,
   "metadata": {},
   "outputs": [],
   "source": [
    "# want to make the data of the same format that I did for the other A2 colour plot\n",
    "thetas = np.asarray([float(key[6:]) for key in an.keys()])\n",
    "reorder = thetas.argsort()\n",
    "thetas = thetas[reorder]\n",
    "last_probs = np.asarray([an['theta='+str(theta)].problem_x0_prob[-1] for theta in thetas])\n",
    "\n",
    "obj = {'thetas': thetas, 'last_probs': last_probs}\n",
    "mylib.save_object(obj,'Jupyter020.003')\n"
   ]
  },
  {
   "cell_type": "code",
   "execution_count": null,
   "metadata": {},
   "outputs": [],
   "source": [
    "plt.figure()\n",
    "plt.plot(thetas*(90*2/np.pi), last_probs)\n",
    "plt.ylabel(r'$P$(success)')\n",
    "plt.xlabel(r'$\\theta$ in degrees')\n",
    "plt.show()"
   ]
  },
  {
   "cell_type": "code",
   "execution_count": null,
   "metadata": {},
   "outputs": [],
   "source": [
    "max_success_theta = thetas[last_probs == max(last_probs)][0]\n",
    "an['theta=%s'%max_success_theta].show_results()"
   ]
  },
  {
   "cell_type": "code",
   "execution_count": null,
   "metadata": {},
   "outputs": [],
   "source": []
  }
 ],
 "metadata": {
  "language_info": {
   "name": "python",
   "pygments_lexer": "ipython3"
  }
 },
 "nbformat": 4,
 "nbformat_minor": 1
}
