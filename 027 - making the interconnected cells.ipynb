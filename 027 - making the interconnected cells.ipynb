{
 "cells": [
  {
   "cell_type": "code",
   "execution_count": null,
   "metadata": {},
   "outputs": [],
   "source": [
    "-15-0.44*6-6"
   ]
  },
  {
   "cell_type": "code",
   "execution_count": null,
   "metadata": {},
   "outputs": [],
   "source": [
    "import project_lib as mylib\n",
    "import numpy as np\n",
    "import matplotlib.pyplot as plt\n",
    "import matplotlib.image as mpimg\n",
    "from IPython.display import Image"
   ]
  },
  {
   "cell_type": "markdown",
   "metadata": {},
   "source": [
    "##### In this file I want to make sure that I can correctly make the device shown below with energy levels I might expect. I will later use this as a schedule divider where I apply a different schedule to the 'port' qubits. The qubits which connect the two cells"
   ]
  },
  {
   "cell_type": "code",
   "execution_count": null,
   "metadata": {},
   "outputs": [],
   "source": [
    "Image(\"C:\\Users\\User\\Documents\\FIZZIX\\4th Year\\Project\\presentation\\alt_multi_bod_4.png\")\n",
    "PATH = r\"C:/Users/User/Documents/FIZZIX/4th Year/Project/Jupyter Extra Images/\" \n",
    "Image(filename = PATH + \"interconnected_cells.jpg\", width=200, height=200)"
   ]
  },
  {
   "cell_type": "code",
   "execution_count": null,
   "metadata": {},
   "outputs": [],
   "source": [
    "Image(filename = PATH + \"connected_cells.png\", width=300, height=300)"
   ]
  },
  {
   "cell_type": "code",
   "execution_count": null,
   "metadata": {},
   "outputs": [],
   "source": [
    "Image(filename = PATH + \"google_connected_cells.jpg\", width=300, height=300)"
   ]
  },
  {
   "cell_type": "markdown",
   "metadata": {},
   "source": [
    "The 16 qubits are coupled ferromagnetically with J=1 (lines). The applied fields are $0<h_L<J/2$ $(h_R=−1)$ for the left (right) qubit cell. The symmetry and strong intracell ferromagnetic coupling makes each 8-qubit cluster evolve together.\n",
    "## note the formulation here is different to mine on the construction of the problem ising model.\n",
    "Because of this I need to use minus their values of h and J"
   ]
  },
  {
   "cell_type": "markdown",
   "metadata": {},
   "source": [
    "The structure is that within each cell all qubits are connected to the qubits on the other line.\n",
    "The connection between devices is due to connections at the 'port' sites."
   ]
  },
  {
   "cell_type": "code",
   "execution_count": null,
   "metadata": {},
   "outputs": [],
   "source": [
    "###############################################################################\n",
    "# global input parameters needed for this run\n",
    "Qubits_per_cell = 6\n",
    "Qubits = Qubits_per_cell*2\n",
    "###########\n",
    "J_0 = -1.\n",
    "###########\n",
    "h_1 = 0.44*J_0 # h_L\n",
    "h_2 = 1. # h_R\n",
    "h = np.concatenate((h_1*np.ones(Qubits_per_cell),h_2*np.ones(Qubits_per_cell)))"
   ]
  },
  {
   "cell_type": "code",
   "execution_count": null,
   "metadata": {},
   "outputs": [],
   "source": [
    "# build the J matrix for a single cell\n",
    "J = np.ones((Qubits_per_cell,Qubits_per_cell))\n",
    "J = np.triu(J,k=1) # NO DOUBLED CONNECTIONS\n",
    "\n",
    "J[0:Qubits_per_cell/2,0:Qubits_per_cell/2]=0 # NO CONNECTIONS BETWEEN QUBITS ON LEFT IN CELL\n",
    "J[Qubits_per_cell/2:,Qubits_per_cell/2:]=0 # NO CONNECTIONS BETWEEN QUBITS ON RIGHT IN CELL\n",
    "print J"
   ]
  },
  {
   "cell_type": "code",
   "execution_count": null,
   "metadata": {},
   "outputs": [],
   "source": [
    "# build the J matrix for conbined 2 cell system\n",
    "J_sing_cell = J_0*np.ones((Qubits_per_cell,Qubits_per_cell)) # initiate with scale factor\n",
    "J_sing_cell = np.triu(J_sing_cell,k=1) # NO DOUBLED CONNECTIONS\n",
    "J_sing_cell[0:Qubits_per_cell/2,0:Qubits_per_cell/2]=0 # NO CONNECTIONS BETWEEN QUBITS ON LEFT IN CELL\n",
    "J_sing_cell[Qubits_per_cell/2:,Qubits_per_cell/2:]=0 # NO CONNECTIONS BETWEEN QUBITS ON RIGHT IN CELL\n",
    "\n",
    "J = np.zeros((Qubits,Qubits))\n",
    "J[0:Qubits_per_cell,0:Qubits_per_cell]= J_sing_cell # add interaction between qubits in cell A\n",
    "J[Qubits_per_cell:,Qubits_per_cell:]= J_sing_cell # add interaction between qubits in cell B\n",
    "for i in range(Qubits_per_cell/2): # add interaction between port qubits\n",
    "    J[Qubits_per_cell/2+i,Qubits_per_cell+Qubits_per_cell/2+i]=J_0 \n",
    "print J"
   ]
  },
  {
   "cell_type": "code",
   "execution_count": null,
   "metadata": {},
   "outputs": [],
   "source": [
    "# lets run one\n",
    "a = mylib.Anneal(Qubits,[h,J],T=100,points = 20, light = False)\n",
    "a.run()"
   ]
  },
  {
   "cell_type": "code",
   "execution_count": null,
   "metadata": {},
   "outputs": [],
   "source": [
    "a.show_results()"
   ]
  },
  {
   "cell_type": "code",
   "execution_count": null,
   "metadata": {},
   "outputs": [],
   "source": []
  }
 ],
 "metadata": {
  "language_info": {
   "name": "python",
   "pygments_lexer": "ipython3"
  }
 },
 "nbformat": 4,
 "nbformat_minor": 1
}
