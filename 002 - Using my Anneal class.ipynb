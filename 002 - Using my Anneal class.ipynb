{
 "cells": [
  {
   "cell_type": "markdown",
   "metadata": {},
   "source": [
    "### In this notebook I simply want to test out the anneal class which I built. "
   ]
  },
  {
   "cell_type": "code",
   "execution_count": null,
   "metadata": {},
   "outputs": [],
   "source": [
    "import project_lib as mylib\n",
    "import numpy as np\n",
    "import matplotlib.pyplot as plt"
   ]
  },
  {
   "cell_type": "code",
   "execution_count": null,
   "metadata": {},
   "outputs": [],
   "source": []
  },
  {
   "cell_type": "code",
   "execution_count": null,
   "metadata": {},
   "outputs": [],
   "source": [
    "mylib.Anneal?"
   ]
  },
  {
   "cell_type": "markdown",
   "metadata": {},
   "source": [
    "From docstring:\n",
    "'''\n",
    "This object is to keep all the annealing stuff together in one neat unit for each anneal completed.\n",
    "It applies an anneal for any number of bits as long as you give it the right input. \n",
    "\n",
    "Each function explains itself but generally: \n",
    "    -the run function does the anneal\n",
    "    -show_results shows the resuls of the anneal\n",
    "\n",
    "You need to input the parameters in the form:\n",
    "    params = [h,j]\n",
    "    \n",
    "Furthermore J needs to be formatted correctly. If there are n bits and Jij is the interaction coefficient between the ith and jth bit,\n",
    "J must be in the following format: \n",
    "    J = [J12,J13,J14,...Jin],  [J23,J24,J25,...J2n],  .......,  [J(n-2)(n-1),J(n-2)n],  [J(n-1)n]\n",
    "'''"
   ]
  },
  {
   "cell_type": "code",
   "execution_count": null,
   "metadata": {},
   "outputs": [],
   "source": [
    "%matplotlib inline\n",
    "h = [1.2,3.2,2.9]\n",
    "J = [[1.,2.2],[2.3]]\n",
    "qubits = 3\n",
    "a3 = mylib.Anneal(3,[h,J],T=10000,points = 10000)\n",
    "a3.run()\n",
    "a3.show_results()"
   ]
  },
  {
   "cell_type": "code",
   "execution_count": null,
   "metadata": {},
   "outputs": [],
   "source": []
  },
  {
   "cell_type": "code",
   "execution_count": null,
   "metadata": {},
   "outputs": [],
   "source": [
    "%matplotlib inline\n",
    "h = [1.2,3.2,2.9,-1.6,1.7,2.3,4.6]\n",
    "J = [[1.,2.2,0.6,0.4,-0.2,2.1],[2.3,1.4,0.2,4.5,5.6],[0.9,-4.,8.3,4.5],[0.78,4.5,-8.4],[2.5,5.1],[-22.]]\n",
    "qubits = 7\n",
    "a7 = mylib.Anneal(qubits,[h,J],T=10000,points = 10000)\n",
    "a7.run()\n",
    "a7.show_results()"
   ]
  },
  {
   "cell_type": "code",
   "execution_count": null,
   "metadata": {},
   "outputs": [],
   "source": [
    "a10 = mylib.load_object('Jupyter002.001')\n",
    "a10.show_results()"
   ]
  },
  {
   "cell_type": "code",
   "execution_count": null,
   "metadata": {},
   "outputs": [],
   "source": [
    "mylib.save_object(a10, 'Jupyter002.001')"
   ]
  },
  {
   "cell_type": "markdown",
   "metadata": {},
   "source": [
    "\n",
    "In the next section I want to run the same problem again where there is only connectivity between adjacent qubits.\n",
    "Therefore: \n",
    "\n",
    "\\begin{equation}\n",
    "J_{ij} = 0  \\quad \\quad \\forall \\quad j\\neq i+1  \\quad \\textrm{where} \\quad  i<j\n",
    "\\end{equation}"
   ]
  },
  {
   "cell_type": "code",
   "execution_count": null,
   "metadata": {},
   "outputs": [],
   "source": [
    "%matplotlib inline\n",
    "h = [1.2,0.,0,0,0,0,0]\n",
    "J = [[1.,0,0,0,0,0],[2.3,0,0,0,0],[0.9,0,0,0],[0.78,0,0],[2.5,0],[-22.]]\n",
    "qubits = 7\n",
    "a7lin = mylib.Anneal(qubits,[h,J],T=100000,points = 10000)\n",
    "a7lin.run()\n",
    "a7lin.show_results()"
   ]
  },
  {
   "cell_type": "markdown",
   "metadata": {},
   "source": [
    "In the above plot I have notices that the probability is very close to 0.5 and the lowest energy eigenvalue is duplicity 2. Therefore I think that the final state my system ends up in may in fact a superposition of the two lowest states equally."
   ]
  },
  {
   "cell_type": "code",
   "execution_count": null,
   "metadata": {},
   "outputs": [],
   "source": [
    "%matplotlib inline\n",
    "h = [1.2,0.,0,0,0,0,0]\n",
    "J = [[1.,0,0,0,0,0],[2.3,0,0,0,0],[0.9,0,0,0],[0.78,0,0],[2.5,0],[-22.]]\n",
    "qubits = 7\n",
    "a7lin_n = mylib.Anneal(qubits,[h,J],T=100000,points = 10000)\n",
    "a7lin_n.run()\n",
    "a7lin_n.show_results()"
   ]
  },
  {
   "cell_type": "code",
   "execution_count": null,
   "metadata": {},
   "outputs": [],
   "source": [
    "# this is the same h and t as the very top cell\n",
    "T = 2**np.arange(14)\n",
    "qubits = 3\n",
    "h = [1.2,3.2,2.9]\n",
    "J = [[1.,2.2],[2.3]]\n",
    "an = []\n",
    "last_prob = []\n",
    "for i,t in enumerate(T):\n",
    "    print t\n",
    "    an_n=mylib.Anneal(qubits,[h,J],T=t, points = 1000)\n",
    "    an_n.run()\n",
    "    an.append(an_n)\n",
    "    last_prob.append(an_n.problem_x0_prob[-1]) \n"
   ]
  },
  {
   "cell_type": "code",
   "execution_count": null,
   "metadata": {},
   "outputs": [],
   "source": [
    "%matplotlib notebook\n",
    "\n",
    "from matplotlib import cm\n",
    "def f_colour(points):\n",
    "    spec = cm.nipy_spectral\n",
    "    return [ spec(x) for x in np.linspace(0, 1, points) ]\n",
    "\n",
    "colours = f_colour(len(T))\n",
    "\n",
    "plt.figure()\n",
    "plt.semilogx(T,last_prob)\n",
    "plt.scatter(T,last_prob,c=colours)\n",
    "plt.ylabel('$P\\,(correct\\,solution)$')\n",
    "plt.xlabel('T')\n",
    "plt.show()"
   ]
  },
  {
   "cell_type": "code",
   "execution_count": null,
   "metadata": {},
   "outputs": [],
   "source": [
    "% matplotlib notebook\n",
    "plt.figure(figsize = (13,6))\n",
    "plt.subplot2grid((1,4),(0,0),colspan = 3)\n",
    "for i,a in enumerate(an):\n",
    "    plt.plot(a.ss,a.problem_x0_prob,label=str(T[i]),color = colours[i])\n",
    "plt.ylabel('$P(Problem\\,ground\\,state)$')\n",
    "plt.xlabel('s')\n",
    "plt.legend(bbox_to_anchor=(1.05, 1), loc=2, borderaxespad=0.,title = 'Value of T')\n",
    "plt.show()"
   ]
  },
  {
   "cell_type": "markdown",
   "metadata": {},
   "source": [
    "Up next: Test out how the adiabatic approximation respond to the run time T"
   ]
  },
  {
   "cell_type": "code",
   "execution_count": null,
   "metadata": {},
   "outputs": [],
   "source": [
    "% matplotlib notebook\n",
    "plt.figure(figsize = (13,6))\n",
    "plt.subplot2grid((1,4),(0,0),colspan = 3)\n",
    "for i,a in enumerate(an):\n",
    "    plt.plot(a.ss,a.instant_x0_prob,label=str(T[i]),color = colours[i])\n",
    "plt.ylabel('$P(Instantaneous\\,ground\\,state)$')\n",
    "plt.xlabel('s')\n",
    "plt.legend(bbox_to_anchor=(1.05, 1), loc=2, borderaxespad=0.,title = 'Value of T')\n",
    "plt.show()"
   ]
  },
  {
   "cell_type": "code",
   "execution_count": null,
   "metadata": {},
   "outputs": [],
   "source": [
    "mylib.rl()"
   ]
  },
  {
   "cell_type": "code",
   "execution_count": null,
   "metadata": {},
   "outputs": [],
   "source": [
    "objectdict = {'a3':a3, 'a7':a7, 'a7lin': a7lin, 'a7lin_n':a7lin_n}\n",
    "for i,a in enumerate(an): \n",
    "    objectdict['an_'+str(T[i])]=a\n",
    "vardict = {}\n",
    "mylib.jupyter_saver(002,objectdict,vardict)"
   ]
  }
 ],
 "metadata": {
  "language_info": {
   "name": "python",
   "pygments_lexer": "ipython3"
  }
 },
 "nbformat": 4,
 "nbformat_minor": 0
}
