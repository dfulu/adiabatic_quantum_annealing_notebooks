{
 "cells": [
  {
   "cell_type": "markdown",
   "metadata": {},
   "source": [
    "David James Fulton, Durham Univeristy, 4th year project 2016"
   ]
  },
  {
   "cell_type": "markdown",
   "metadata": {},
   "source": [
    "# Two Parameter Quantum Annealing with Multi-Body Interactions"
   ]
  },
  {
   "cell_type": "markdown",
   "metadata": {},
   "source": [
    "Summary:\n",
    "Quantum annealing works by preparing a simple quantum system in its lowest energy state and slowly\n",
    "transforming it into a different quantum system where the lowest energy state maps to the solution of\n",
    "a hard problem. This protocol has many potential real world applications and is the ones used in the\n",
    "devices developed by D-Wave Systems Inc. The purpose of this project is to study ways to perform\n",
    "this protocol differently by changing two independent parameters using the coupling gadgets\n",
    "proposed in (1), rather then one. Most of the work on this project will consist of using numerical\n",
    "techniques to simulate the quantum annealing protocol."
   ]
  },
  {
   "cell_type": "markdown",
   "metadata": {},
   "source": [
    "References:\n",
    "\n",
    "[1] Chancellor, N., Zohren, S., Warburton, P. A., Circuit design for multi-body interactions in\n",
    "superconducting quantum annealing system with applications to a scalable architecture,\n",
    "arXiv:1603.0952 (2016).\n",
    "\n",
    "[2] Crosson, E. et. al. Different Strategies for Optimization Using the Quantum Adiabatic Algorithm\n",
    "arXiv:1401.7320 (2014).\n",
    "\n",
    "[3] http://www.dwavesys.com/resources/publications D-Wave publications webpage accessed: April\n",
    "27, 2016"
   ]
  },
  {
   "cell_type": "markdown",
   "metadata": {},
   "source": [
    "The base hamiltonian\n",
    "\\begin{equation}\n",
    "H_{B} = \\sigma_{x}\n",
    "\\end{equation}\n",
    "\n",
    "The problem Hamiltonian\n",
    "\\begin{equation}\n",
    "H_{P} =\\sigma_{z}\n",
    "\\end{equation}\n",
    "\n",
    "using\n",
    "\\begin{equation}\n",
    "A(s) = 1-s\n",
    "\\end{equation}\n",
    "and\n",
    "\\begin{equation}\n",
    "B(s) = s\n",
    "\\end{equation}\n",
    "\n",
    "\\begin{equation}\n",
    "H(s) = -A(s)H_{B}+B(s)H_{P}\n",
    "\\end{equation}\n",
    "so\n",
    "\n",
    "\\begin{equation}\n",
    "H(s) = -(1-s)H_{B} + s H_{P}\n",
    "\\end{equation}\n",
    "\n",
    "\\begin{equation}\n",
    "\\Psi_{i+1} = (1-iH(s_{i}))\\Psi_{i}dt\n",
    "\\end{equation}"
   ]
  },
  {
   "cell_type": "code",
   "execution_count": null,
   "metadata": {},
   "outputs": [],
   "source": [
    "import scipy.linalg as LA\n",
    "import numpy as np\n",
    "import matplotlib.image as mpimg\n",
    "import matplotlib.pyplot as plt\n"
   ]
  },
  {
   "cell_type": "code",
   "execution_count": null,
   "metadata": {},
   "outputs": [],
   "source": [
    "Hb = np.matrix('0. 1.; 1. 0.')\n",
    "Hp = np.matrix('1. 0.; 0. -1.')\n",
    "x0 = 1./2**0.5 * np.matrix('1. ;-1.')+1j* np.matrix('0. ;0.')\n",
    "x1 = 1./2**0.5 * np.matrix('1. ; 1.')+1j* np.matrix('0. ;0.')\n",
    "# it starts in state x0, the ground state of the initial hamiltonian \n",
    "\n",
    "def H(s):\n",
    "    h = -(1-s)*Hb + s*Hp\n",
    "    return h\n",
    "\n",
    "ds = 0.01\n",
    "ss = np.arange(0,1,ds)\n",
    "T = 10\n",
    "dt = ds*T\n",
    "state = [x0]\n",
    "for i in range(len(ss)):\n",
    "    state.append(state[-1]-1.j*H(ss[i])*state[-1]*dt)\n",
    "print state[-1]\n",
    "print abs(state[-1][0])**2+abs(state[-1][1])**2"
   ]
  },
  {
   "cell_type": "markdown",
   "metadata": {},
   "source": [
    "# Week 2"
   ]
  },
  {
   "cell_type": "markdown",
   "metadata": {},
   "source": [
    "This method I have been using isn't very good and I got ahead of myself here. The integration is only to first order in t and I think this may be why it is blowing up. \n",
    "\n",
    "I have a new goal now based on the meeting with Viv and Nick (Vick). I want to see how the energy eigenvalues change with the annealing schedule and I will do the evolution using their methods.\n",
    "\n"
   ]
  },
  {
   "cell_type": "markdown",
   "metadata": {},
   "source": [
    "### Tutorial from week 2"
   ]
  },
  {
   "cell_type": "code",
   "execution_count": null,
   "metadata": {},
   "outputs": [],
   "source": [
    "%matplotlib inline\n",
    "img1=mpimg.imread(r\"C:\\Users\\User\\Documents\\FIZZIX\\4th Year\\Project\\Tutorial Photos\\week2_1.jpg\")\n",
    "img2=mpimg.imread(r\"C:\\Users\\User\\Documents\\FIZZIX\\4th Year\\Project\\Tutorial Photos\\week2_2.jpg\")\n",
    "img3=mpimg.imread(r\"C:\\Users\\User\\Documents\\FIZZIX\\4th Year\\Project\\Tutorial Photos\\week2_3.jpg\")\n",
    "plt.figure(figsize=(10,6)); plt.imshow(img1)\n",
    "plt.figure(figsize=(10,6)); plt.imshow(img2)\n",
    "plt.figure(figsize=(10,6)); plt.imshow(img3)\n",
    "plt.show('all')\n",
    "\n",
    "\n"
   ]
  },
  {
   "cell_type": "markdown",
   "metadata": {},
   "source": [
    "### Tracing the energy eigenvalues over the anneal schedule "
   ]
  },
  {
   "cell_type": "code",
   "execution_count": null,
   "metadata": {},
   "outputs": [],
   "source": [
    "'''This cell is to plot how the energy eigenvalues change throughout the annealing process for the\n",
    "hamiltonian and annealing schedule above'''\n",
    "#initiate store for the data \n",
    "eigvals = []\n",
    "\n",
    "# do the eigenvalue calculations\n",
    "for i,s in enumerate(ss):\n",
    "    eigvals.append(LA.eigvalsh(H(s)))\n",
    "eigvals = np.asarray(eigvals)\n",
    "\n",
    "# plot\n",
    "plt.plot(ss,eigvals[:,1])\n",
    "plt.plot(ss,eigvals[:,0])\n",
    "plt.xlabel('s')\n",
    "plt.ylabel('$\\lambda$')\n",
    "plt.show()"
   ]
  },
  {
   "cell_type": "markdown",
   "metadata": {},
   "source": [
    "This looks like what I would have expected. Perhaps I should move on to do the same thing with 2 coupled qubits\n"
   ]
  },
  {
   "cell_type": "code",
   "execution_count": null,
   "metadata": {},
   "outputs": [],
   "source": [
    "'''In this cell we aim to do the same thing as above, trace the eigenvalues of the hamiltonian\n",
    "throught the annealing process, but now with 2 coupled qubits'''\n",
    "\n",
    "# define some standard contants that we will need\n",
    "I2 =  np.eye(2)\n",
    "sigma_x = np.matrix('0. 1.; 1. 0.')\n",
    "sigma_z = np.matrix('1. 0.; 0. -1.')\n",
    "\n",
    "# define the hamiltonians \n",
    "h_i = [-8,0.5]\n",
    "J = 2.\n",
    "\n",
    "Hb_2 = np.kron(sigma_x,I2)+np.kron(I2,sigma_x)\n",
    "Hp_2 = h_i[0]*np.kron(sigma_z,I2)+h_i[1]*np.kron(I2,sigma_z) + J*np.kron(sigma_z,I2)*np.kron(I2,sigma_z)\n",
    "\n",
    "def H_2(s):\n",
    "    h = -(1-s)*Hb_2 + s*Hp_2\n",
    "    return h\n",
    "\n",
    "# create the data store and trace the eigenvalues\n",
    "eigvals = []\n",
    "for i,s in enumerate(ss):\n",
    "    eigvals.append(LA.eigvalsh(H_2(s)))\n",
    "eigvals = np.asarray(eigvals)\n",
    "\n",
    "# output and plot\n",
    "print 'last set of eigenvalues were:',eigvals[-1]\n",
    "\n",
    "for i in range(eigvals.shape[1]):\n",
    "    plt.plot(ss,eigvals[:,i])\n",
    "plt.xlabel('s')\n",
    "plt.ylabel('$\\lambda$')\n",
    "plt.show()\n"
   ]
  },
  {
   "cell_type": "markdown",
   "metadata": {},
   "source": [
    "Now that we have done this I think it may be time to move on to try and run the annealing schedule. We may want to revisit this in a while but for now I think we can move on as the only steps to make this more complicated are to (change J and $h_{i}$ terms/add a third qubit)\n"
   ]
  },
  {
   "cell_type": "markdown",
   "metadata": {},
   "source": [
    "Note: we used the np.kron function in the previus section. This does the tensor product of two matrices"
   ]
  },
  {
   "cell_type": "markdown",
   "metadata": {},
   "source": [
    "### Some functions to use later"
   ]
  },
  {
   "cell_type": "code",
   "execution_count": null,
   "metadata": {},
   "outputs": [],
   "source": [
    "# define and test a function\n",
    "def Diagonaliser(M):\n",
    "    '''This function takes a hermitian matrix and return the unitary transform matrices to change to and from the eigenbasis\n",
    "    as well as the diagonalised form of this matrix'''\n",
    "    eigvals, eigvecs = np.linalg.eigh(M)\n",
    "    zers = np.zeros((len(eigvals),len(eigvals)))\n",
    "    P_in = np.matrix(zers)\n",
    "    P = np.matrix(zers)\n",
    "    for i in range(len(eigvals)):\n",
    "        P[:,i] = eigvecs[:,i]\n",
    "        P_in[i,:] = np.transpose(eigvecs[:,i])\n",
    "\n",
    "    return eigvals,P,P_in\n",
    "\n",
    "test = np.matrix(np.random.random((4,4)))\n",
    "Diagonaliser(test)"
   ]
  },
  {
   "cell_type": "markdown",
   "metadata": {},
   "source": [
    "Remembering now that $M = PDP^{-1}$ we can start applying the transformation.\n",
    "\n",
    "But first below we will run a little test"
   ]
  },
  {
   "cell_type": "code",
   "execution_count": null,
   "metadata": {},
   "outputs": [],
   "source": [
    "# define and test a function\n",
    "def make_diag(d):\n",
    "    '''this is a function to make a diagonal matrix given a series of values to go on the diagonal'''\n",
    "    zers = np.zeros((len(d),len(d)))+ 1.j*np.zeros((len(d),len(d)))\n",
    "    np.fill_diagonal(zers,d)\n",
    "    return np.matrix(zers)\n",
    "\n",
    "\n",
    "M = 2*sigma_x-5*sigma_z\n",
    "v = np.matrix('2.3; 1.1')\n",
    "d,P,P_in = Diagonaliser(M)\n",
    "\n",
    "print M*v\n",
    "print P*make_diag(d)*P_in*v"
   ]
  },
  {
   "cell_type": "markdown",
   "metadata": {},
   "source": [
    "### Running the annealing process first for 1 qubit then 2"
   ]
  },
  {
   "cell_type": "markdown",
   "metadata": {},
   "source": [
    "in order to map transform a qubit state from one instance to the next we can use the operation:\n",
    "\\begin{equation}\n",
    "\\Psi_{i+1} = Pe^{-iH(t_{i})\\delta t}P^{-1}\\Psi_{i}\n",
    "\\end{equation}\n",
    "\n",
    "Below we will run this on the case of a single qubit with applied problem and base hamiltonian chan ging throughout the annealing schedule"
   ]
  },
  {
   "cell_type": "code",
   "execution_count": null,
   "metadata": {},
   "outputs": [],
   "source": [
    "# define the hamiltonians for the base and the problem\n",
    "Hb = np.matrix('0. 1.; 1. 0.')\n",
    "Hp = 3*np.matrix('1. 0.; 0. -1.')\n",
    "\n",
    "def H(s):\n",
    "    '''returns the hamiltonian at any point during the annealing schedule'''\n",
    "    h = -(1-s)*Hb + s*Hp\n",
    "    return h\n",
    "\n",
    "#calulate the ground state\n",
    "x0 = np.transpose(np.linalg.eigh(H(0))[1][0])\n",
    "x0 = x0+0.j*x0\n",
    "\n",
    "# define the paramters that define the annealing\n",
    "ds = 0.0001\n",
    "ss = np.arange(0,1,ds)\n",
    "T = 100\n",
    "dt = ds*T\n",
    "\n",
    "# assign data stores for the anneal. We will keep energy eigenvalue and state\n",
    "state = [x0]\n",
    "eigenvals =[]\n",
    "\n",
    "# run the anneal storing both state and energy eigenvalues\n",
    "for i in ss:\n",
    "    d,P,P_in = Diagonaliser(H(i))\n",
    "    eigenvals.append(d)\n",
    "    state.append(P*make_diag(np.exp(-1.j*d*dt))*P_in*state[-1])\n",
    "eigenvals = np.asarray(eigenvals)\n",
    "\n",
    "#plot and print the important results for comparison\n",
    "print 'last set of eigenvalues were:',eigenvals[-1]\n",
    "plt.figure()\n",
    "plt.plot(ss,eigenvals[:,0])\n",
    "plt.plot(ss,eigenvals[:,1])\n",
    "plt.show()\n",
    "print 'initial x0:','\\n', x0,'\\n\\n', 'new x0:','\\n', np.transpose(np.linalg.eigh(H(1))[1][0])\n",
    "print '\\n\\n','final state:', '\\n',abs(state[-1])\n",
    "print '\\nfinal state amplitude:', state[-1].getH()*state[-1]\n",
    "print '\\nprobability of being measured in lowest energy state: ', ((P_in*state[-1])[d.argmin()]*(P_in*state[-1])[d.argmin()].conj()).real\n"
   ]
  },
  {
   "cell_type": "markdown",
   "metadata": {},
   "source": [
    "Seems to be going well. Now lets try and move on to do the same annealing with 2 qubits instead of just one. All of the maths and code will be largely the same"
   ]
  },
  {
   "cell_type": "markdown",
   "metadata": {},
   "source": [
    "\\begin{equation}\n",
    "H_{B} = (\\sigma_{1}^{x}\\otimes\\mathcal{1}_{2})\n",
    "+(\\mathcal{1}_{1}\\otimes\\sigma_{2}^{x})\n",
    "\\end{equation}\n",
    "\n",
    "\n",
    "\n",
    "\\begin{equation}\n",
    "H_{P} = h_{1}(\\sigma_{1}^{z}\\otimes\\mathcal{1}_{2})\n",
    "+h_{2}(\\mathcal{1}_{1}\\otimes\\sigma_{2}^{z})\n",
    "+J_{12}(\\sigma_{1}^{z}\\otimes\\mathcal{1}_{2})(\\mathcal{1}_{1}\\otimes\\sigma_{2}^{z})\n",
    "\\end{equation}\n",
    "\n",
    "\\begin{equation}\n",
    "H(s) = -A(s)H_{B} + B(S)H_{P}\n",
    "\\end{equation}"
   ]
  },
  {
   "cell_type": "code",
   "execution_count": null,
   "metadata": {},
   "outputs": [],
   "source": [
    "# define the base and problem hamiltonians\n",
    "h_i = [-8,0.5]\n",
    "J = 2.\n",
    "\n",
    "Hb_2 = np.kron(sigma_x,I2)+np.kron(I2,sigma_x)\n",
    "Hp_2 = h_i[0]*np.kron(sigma_z,I2)+h_i[1]*np.kron(I2,sigma_z) + J*np.kron(sigma_z,I2)*np.kron(I2,sigma_z)\n",
    "\n",
    "def H_2(s):\n",
    "    '''This function returns the hamiltonain at any point in the annealing schedule'''\n",
    "    h = -(1-s)*Hb_2 + s*Hp_2\n",
    "    return h\n",
    "\n",
    "# find the ground state of the base hamiltonian \n",
    "eigvals0,eigvecs0 = np.linalg.eigh(H_2(0))\n",
    "x0 = eigvecs0[:,eigvals0.argmin()]\n",
    "x0 = x0+0.j*x0\n",
    "\n",
    "# set up variables for the anneal\n",
    "ds = 0.0001\n",
    "ss = np.arange(0,1,ds)\n",
    "T = 10000 # this is a scale factor to allow the rate of the anneal to be changed\n",
    "dt = ds*T\n",
    "\n",
    "# set up data stores for the anneal whilst setting the inital state to be th ground state on the base hamiltonian\n",
    "state = [x0]\n",
    "eigenvals =[]\n",
    "\n",
    "# carry out the anneal whilst storing the state and the energy eigenvalues thoughout the process\n",
    "for i in ss:\n",
    "    d,P,P_in = Diagonaliser(H_2(i))\n",
    "    eigenvals.append(d)\n",
    "    state.append(P*make_diag(np.exp(-1.j*d*dt))*P_in*state[-1])\n",
    "\n",
    "eigenvals = np.asarray(eigenvals)"
   ]
  },
  {
   "cell_type": "code",
   "execution_count": null,
   "metadata": {},
   "outputs": [],
   "source": [
    "%matplotlib inline\n",
    "print 'last set of eigenvalues were:',eigenvals[-1]\n",
    "plt.figure()\n",
    "for i in range(len(eigenvals[0,:])):\n",
    "    plt.plot(ss,eigenvals[:,i])\n",
    "plt.show()\n",
    "\n",
    "eigvalsn0,eigvecsn0 = np.linalg.eigh(H_2(1.))\n",
    "d,P,P_in = Diagonaliser(H_2(1.))\n",
    "\n",
    "xn0 = eigvecsn0[:,eigvalsn0.argmin()]\n",
    "print 'initial x0:','\\n', x0,'\\n\\n', 'new x0:','\\n', xn0\n",
    "print '\\n\\n','final state:', '\\n',abs(state[-1]),\n",
    "print '\\n\\n','Final state amplitude: ',state[-1].getH()*state[-1]\n",
    "chan = ((P_in*state[-1])[d.argmin()]*(P_in*state[-1])[d.argmin()].conj()).real\n",
    "print '\\nProbability of being measured in lowest energy state: %s' %chan\n",
    "\n"
   ]
  },
  {
   "cell_type": "markdown",
   "metadata": {},
   "source": [
    "### Extra considerations about the accuracy of these results"
   ]
  },
  {
   "cell_type": "code",
   "execution_count": null,
   "metadata": {},
   "outputs": [],
   "source": [
    "H_2(1)"
   ]
  },
  {
   "cell_type": "markdown",
   "metadata": {},
   "source": [
    "I've noticed that the linalg function I have been using to calculate the eigenvalues and eigenvectors aren't prefect. They have numerical errors in them for most values I have but in. This is demonstrated in the code I have written below. If you set s=1 then it works out perfect with $H(s=1)-E_{k})\\vec{v_{k}}=\\vec{0}$ but for every other value I have tested it on it ends up with vector elements of approximately $10^{-16}$. It also seems to struggle with degenerate eigenvalues. Demonstrated with the s = 0 case. This should have a repeat root of $E_{k} = 0$ but this is not the case."
   ]
  },
  {
   "cell_type": "code",
   "execution_count": null,
   "metadata": {},
   "outputs": [],
   "source": [
    "import scipy.sparse.linalg\n",
    "h2 = H_2(0.)\n",
    "eigval,eigvec = np.linalg.eig(h2)\n",
    "print 'eigenvalues: ', eigval, '\\n-----------------------------\\n'\n",
    "for i in range(4):\n",
    "    print 'eigenvalue E: ',eigval[i],'\\n'\n",
    "    print 'eigenvector v: ', '\\n', eigvec[:,i],'\\n'\n",
    "    print 'product of (H-E)v:','\\n', (h2-eigval[i]*np.eye(4))*eigvec[:,i], '\\n-----------------------------\\n'"
   ]
  },
  {
   "cell_type": "code",
   "execution_count": null,
   "metadata": {},
   "outputs": [],
   "source": []
  }
 ],
 "metadata": {
  "language_info": {
   "name": "python",
   "pygments_lexer": "ipython3"
  }
 },
 "nbformat": 4,
 "nbformat_minor": 0
}
