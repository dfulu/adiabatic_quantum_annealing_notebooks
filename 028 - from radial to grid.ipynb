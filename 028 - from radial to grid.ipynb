{
 "cells": [
  {
   "cell_type": "code",
   "execution_count": null,
   "metadata": {},
   "outputs": [],
   "source": [
    "import numpy as np\n",
    "import matplotlib.pyplot as plt\n",
    "from scipy.interpolate import griddata\n",
    "%matplotlib notebook"
   ]
  },
  {
   "cell_type": "markdown",
   "metadata": {},
   "source": [
    "The function below is \n",
    "\\begin{equation}\n",
    "f(\\theta, s)=\\frac{\\theta}{90}(1-s)\\cos(2\\pi s)\n",
    "\\end{equation}"
   ]
  },
  {
   "cell_type": "code",
   "execution_count": null,
   "metadata": {},
   "outputs": [],
   "source": [
    "thetas = np.linspace(0,90,100) # in degrees\n",
    "ss = np.linspace(0,1,1000)\n",
    "\n",
    "f = lambda theta,ss: (theta/90.)*(np.cos(ss*2*np.pi)**2)*(1-ss) # the energy function\n",
    "\n",
    "f_vals = [f(theta,ss) for theta in thetas] # the values\n"
   ]
  },
  {
   "cell_type": "code",
   "execution_count": null,
   "metadata": {},
   "outputs": [],
   "source": [
    "x = np.asarray([np.cos(theta*np.pi/180.)*(1-ss) for theta in thetas]) \n",
    "y = np.asarray([np.sin(theta*np.pi/180.)*(1-ss) for theta in thetas])\n",
    "z = np.asarray(f_vals)\n",
    "\n",
    "x = np.reshape(x,x.size)\n",
    "y = np.reshape(y,y.size)\n",
    "z = np.reshape(z,z.size)\n",
    "\n",
    "xi = np.linspace(0,1,1000)\n",
    "yi = np.linspace(0,1,1000)\n",
    "zi = griddata((x, y), z, (xi[None,:], yi[:,None]), method='cubic')"
   ]
  },
  {
   "cell_type": "code",
   "execution_count": null,
   "metadata": {},
   "outputs": [],
   "source": [
    "# contour the gridded data, plotting dots at the randomly spaced data points.\n",
    "CS = plt.contour(xi,yi,zi,15,linewidths=0.5,colors='k')\n",
    "CS = plt.contourf(xi,yi,zi,15,cmap=plt.cm.jet)\n",
    "plt.colorbar() # draw colorbar\n",
    "# plot data points.\n",
    "plt.xlim(0,1)\n",
    "plt.ylim(0,1)\n",
    "plt.show()"
   ]
  },
  {
   "cell_type": "code",
   "execution_count": null,
   "metadata": {},
   "outputs": [],
   "source": [
    "zi[900,900]"
   ]
  },
  {
   "cell_type": "markdown",
   "metadata": {},
   "source": [
    "### Good this seems to be working well"
   ]
  },
  {
   "cell_type": "markdown",
   "metadata": {},
   "source": [
    "# I need to figure out if I will be able to store all of the gap data or not"
   ]
  },
  {
   "cell_type": "code",
   "execution_count": null,
   "metadata": {},
   "outputs": [],
   "source": [
    "import project_lib as mylib"
   ]
  },
  {
   "cell_type": "markdown",
   "metadata": {},
   "source": [
    "Here I will run an anneal for a 12 qubit device but will only have 2 points. I will save the data and see how big the file is. Thus I can extrapolate to figure out the amount of data that will required to store all of the A2 colour plot layers"
   ]
  },
  {
   "cell_type": "code",
   "execution_count": null,
   "metadata": {},
   "outputs": [],
   "source": [
    "qubits = 12\n",
    "h = np.random.random(qubits)\n",
    "J = np.random.random((qubits,qubits))\n",
    "test1 = mylib.Anneal(qubits,[h,J],T=100,points = 2, light = False)\n",
    "test1.run()"
   ]
  },
  {
   "cell_type": "code",
   "execution_count": null,
   "metadata": {},
   "outputs": [],
   "source": [
    "filename = '028 - filesize_test'\n",
    "obj = {\n",
    "    'gaps': test1.eigenvals\n",
    "}\n",
    "\n",
    "mylib.save_object(obj, filename)"
   ]
  },
  {
   "cell_type": "code",
   "execution_count": null,
   "metadata": {},
   "outputs": [],
   "source": [
    "import os\n",
    "path = r\"C:\\Users\\User\\Documents\\FIZZIX\\4th Year\\Project\\Data\"\n",
    "completeName = os.path.join(path,filename+'.pkl')\n",
    "statinfo = os.stat(completeName)\n",
    "print 'This filesize is %s kB'%int(statinfo.st_size/1000.)\n",
    "print 'Predicted filesize for A2 colour layers is %s MB for 1000 points and 100 values of theta'%(int(statinfo.st_size)*500*100/1000**2)"
   ]
  },
  {
   "cell_type": "code",
   "execution_count": null,
   "metadata": {},
   "outputs": [],
   "source": [
    "print \"\"\"There are %s eigenenergy-levels. We don't need all of these. So lets see the file size if we only kept\n",
    "the eigenenergies up to a few levels above the top degenerate level.\"\"\"%test1.eigenvals[0].shape"
   ]
  },
  {
   "cell_type": "code",
   "execution_count": null,
   "metadata": {},
   "outputs": [],
   "source": [
    "DEG = 8\n",
    "filename2 = '028 - filesize_test2'\n",
    "obj2 = {'gaps': test1.eigenvals[:,:DEG+3]} # here we are keeping the degenerate levels plus the 3 levels above that\n",
    "mylib.save_object(obj2, filename2)\n",
    "path = r\"C:\\Users\\User\\Documents\\FIZZIX\\4th Year\\Project\\Data\"\n",
    "completeName = os.path.join(path,filename2+'.pkl')\n",
    "statinfo = os.stat(completeName)\n",
    "print 'This filesize is %s kB'%float(statinfo.st_size/1000.)\n",
    "print 'Predicted filesize for A2 colour layers is %s MB for 1000 points and 100 values of theta'%(int(statinfo.st_size)*500.*100./1000.**2)"
   ]
  },
  {
   "cell_type": "markdown",
   "metadata": {},
   "source": [
    "### This should be doable"
   ]
  },
  {
   "cell_type": "code",
   "execution_count": null,
   "metadata": {},
   "outputs": [],
   "source": [
    "# I want to check the size of the annelling object itself\n",
    "filename3 = '028 - filesize_test3'\n",
    "obj3 = {'a': test1} # here we are keeping the degenerate levels plus the 3 levels above that\n",
    "mylib.save_object(obj3, filename3)\n",
    "path = r\"C:\\Users\\User\\Documents\\FIZZIX\\4th Year\\Project\\Data\"\n",
    "completeName = os.path.join(path,filename3+'.pkl')\n",
    "statinfo = os.stat(completeName)\n",
    "print 'This filesize is %s kB'%float(statinfo.st_size/1000.)\n",
    "print 'Predicted filesize for full a object is is %s GB for 1000 points'%(int(statinfo.st_size)*500./1000.**3)"
   ]
  },
  {
   "cell_type": "markdown",
   "metadata": {},
   "source": [
    "Therefore I cannot save the Anealing object"
   ]
  },
  {
   "cell_type": "code",
   "execution_count": null,
   "metadata": {},
   "outputs": [],
   "source": []
  }
 ],
 "metadata": {
  "language_info": {
   "name": "python",
   "pygments_lexer": "ipython3"
  }
 },
 "nbformat": 4,
 "nbformat_minor": 1
}
