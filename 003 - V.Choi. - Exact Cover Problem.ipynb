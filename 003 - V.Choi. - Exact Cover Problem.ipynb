{
 "cells": [
  {
   "cell_type": "code",
   "execution_count": null,
   "metadata": {},
   "outputs": [],
   "source": [
    "import project_lib as mylib\n",
    "import numpy as np\n",
    "import matplotlib.pyplot as plt\n",
    "import matplotlib.image as mpimg"
   ]
  },
  {
   "cell_type": "markdown",
   "metadata": {},
   "source": [
    "### I want to use my code to solve the problem from V. Choi - *Different Adiabatic Quantum Optimization Algorithms for the NP-Complete Exact Cover and 3SAT Problems*"
   ]
  },
  {
   "cell_type": "code",
   "execution_count": null,
   "metadata": {},
   "outputs": [],
   "source": [
    "%matplotlib inline\n",
    "img1=mpimg.imread(r\"C:\\Users\\User\\Documents\\FIZZIX\\4th Year\\Project\\Jupyter Extra Images\\Set Graph.png\")\n",
    "img2=mpimg.imread(r\"C:\\Users\\User\\Documents\\FIZZIX\\4th Year\\Project\\Jupyter Extra Images\\Set Graph caption.png\")\n",
    "plt.figure(figsize=(10,6)); plt.imshow(img1);plt.axis('off')\n",
    "plt.figure(figsize=(15,9)); plt.imshow(img2);plt.axis('off')\n",
    "plt.show('all')"
   ]
  },
  {
   "cell_type": "markdown",
   "metadata": {},
   "source": [
    "In this problem we want to return the set of subsets which provide exact coverage"
   ]
  },
  {
   "cell_type": "code",
   "execution_count": null,
   "metadata": {},
   "outputs": [],
   "source": [
    "%matplotlib inline\n",
    "img1=mpimg.imread(r\"C:\\Users\\User\\Documents\\FIZZIX\\4th Year\\Project\\Jupyter Extra Images\\exact_cover.png\")\n",
    "img2=mpimg.imread(r\"C:\\Users\\User\\Documents\\FIZZIX\\4th Year\\Project\\Jupyter Extra Images\\exact_cover2.png\")\n",
    "plt.figure(figsize=(12,6)); plt.imshow(img1);plt.axis('off')\n",
    "plt.figure(figsize=(12,6)); plt.imshow(img2);plt.axis('off')\n",
    "plt.show('all')"
   ]
  },
  {
   "cell_type": "markdown",
   "metadata": {},
   "source": [
    "Here had to slightly adapt that and did my own derivation to arrive at the hamiltonian of the problem:\n",
    "\\begin{equation}\n",
    "Hp =MI+ \\frac{1}{2}\\sum_{i} B_{i}\\sigma_{i}^{z}+\\frac{1}{2}\\sum_{(i,j); i<j} I_{ij}\\sigma_{i}^{z}\\sigma_{j}^{z}\n",
    "\\end{equation}\n",
    "where M is the number of clauses and $B_{i}$ and $I_{ij}$ are as above."
   ]
  },
  {
   "cell_type": "markdown",
   "metadata": {},
   "source": [
    "Lets first see if we can make the hamiltonian whose lowest energy eigenstate is the solution to the problem"
   ]
  },
  {
   "cell_type": "code",
   "execution_count": null,
   "metadata": {},
   "outputs": [],
   "source": [
    "# this is a function I can use to see the bit solution to the problem\n",
    "sigma_z = np.matrix('1. 0.; 0. -1.')\n",
    "\n",
    "def sigma_zi(i,N):\n",
    "    '''This returns the equivalent sigma_z for the ith qubit in the new Hilbert space given that there are N qubits'''\n",
    "    return np.kron(np.eye(2**i), np.kron(sigma_z,np.eye(2**(N-(i+1)))))\n",
    "\n",
    "def bit_values(qubits,v_final):\n",
    "    '''this function takes the vector in the hamiltonian space and turns it into an expectation bit value'''\n",
    "    bits = np.zeros(qubits)\n",
    "    for i in range(qubits):\n",
    "        H = sigma_zi(i,qubits)\n",
    "        bits[i] = 0.5*(1+v_final.getH()*H*v_final)\n",
    "    return bits\n",
    "\n"
   ]
  },
  {
   "cell_type": "code",
   "execution_count": null,
   "metadata": {},
   "outputs": [],
   "source": [
    "\n",
    "# we start by listing the clauses from the EC3 problem in the V.Choi paper\n",
    "clauses = [[1,2,3],[1,2,4],[3,4,5],[1,3,6],[2,6,7]]\n",
    "\n",
    "def f_cost(clauses,v):\n",
    "    '''this functuon evaluates the 'cost' of the bit assignment v. it is the cost function of the paper above'''\n",
    "    f = 0\n",
    "    for i,c in enumerate(clauses):\n",
    "        f+= (v[c[0]-1]+v[c[1]-1]+v[c[2]-1]-1)**2\n",
    "    return f\n",
    "\n",
    "# here I want to run the cost function on all possible bit assignments to check that the clauses lead to the correct solution\n",
    "costs = []\n",
    "assignment = []\n",
    "for i1 in [0,1]:\n",
    "    for i2 in [0,1]:\n",
    "        for i3 in [0,1]:\n",
    "            for i4 in [0,1]:\n",
    "                for i5 in [0,1]:\n",
    "                    for i6 in [0,1]:\n",
    "                        for i7 in [0,1]:\n",
    "                            costs.append(f_cost(clauses,np.asarray([i1,i2,i3,i4,i5,i6,i7])))\n",
    "                            assignment.append(np.asarray([i1,i2,i3,i4,i5,i6,i7]))\n",
    "costs = np.asarray(costs)\n",
    "\n",
    "print assignment[costs.argmin()]\n",
    "\n",
    "\n",
    "        "
   ]
  },
  {
   "cell_type": "markdown",
   "metadata": {},
   "source": [
    "This returned the correct result"
   ]
  },
  {
   "cell_type": "markdown",
   "metadata": {},
   "source": [
    "Below I try to construct a hamiltonian function that takes the clauses and returns the hamiltonian which is equivalent to them. \n",
    "I also costruct a function that takes the bit assignment and produces the vector for this in the hamiltonian space. \n",
    "Finally I check if the hamiltonian function gives back the same 'cost' as the cost function above"
   ]
  },
  {
   "cell_type": "code",
   "execution_count": null,
   "metadata": {},
   "outputs": [],
   "source": [
    "bitsoln = np.asarray([1,0,0,0,1,0,1]) # this is the sultion to the EC3 problem presented in the V.Choi paper\n",
    "\n",
    "def make_eigen_vector(bits):\n",
    "    '''this function takes a string of bit assignments and turns them into a vector in the hamiltonian space'''\n",
    "    neg = np.matrix('0. 1.')\n",
    "    pos = np.matrix('1. 0.')\n",
    "    vecs = [neg,pos]\n",
    "    vec = vecs[bits[0]]\n",
    "    for i in range(1,len(bits)):\n",
    "        vec = np.kron(vec,vecs[bits[i]])\n",
    "    return vec\n",
    "\n",
    "\n",
    "def H_clauses (qubits,clauses): \n",
    "        '''constructs the hamiltonian from clauses. Follows the outline in the paper by Altshuler'''\n",
    "        #initiate the hamiltonians giving them the right dimensions\n",
    "        Hp = np.matrix(np.eye(2**qubits)*0.)\n",
    "        Hp+= np.matrix(np.eye(2**qubits)*len(clauses))# this is the MI part\n",
    "        \n",
    "        # find the coefficients needed.\n",
    "        #h_i is the number of times the bit x_i apears in the clauses\n",
    "        h_i = [0.]*qubits\n",
    "        for i in range(qubits):\n",
    "            for c in clauses:\n",
    "                if (i+1) in c:\n",
    "                    h_i[i]+=1.\n",
    "        # J_ij is the number of times the bits x_i and x_j appear in the same clause\n",
    "        J_ij =[]\n",
    "        for i in range(qubits-1):\n",
    "            J=[]\n",
    "            for j in range(i+1,qubits,1):\n",
    "                n = 0.\n",
    "                for c in clauses: \n",
    "                    if (i+1) in c and (j+1) in c:\n",
    "                        n+= 1\n",
    "                J.append(n)\n",
    "            J_ij.append(J)\n",
    "            \n",
    "        # loop through adding pieces to construct the hamiltonian\n",
    "        for i in range(qubits):\n",
    "            Hp += 0.5*h_i[i]*sigma_zi(i,qubits)\n",
    "            # the following part adds the interaction between all qubits. There is 1 interaction coefficient for each pairing\n",
    "            if i == qubits-1: break\n",
    "            for j in range(len(J_ij[i])): \n",
    "                Hp += 0.5*J_ij[i][j]*sigma_zi(i,qubits)*sigma_zi(i+(j+1),qubits)  \n",
    "        return Hp\n",
    "\n",
    "Hp = H_clauses (7,clauses)\n",
    "\n",
    "# initate data stores so that we can compare the cost function and cost hamiltonian results\n",
    "costs_f = []\n",
    "costs_H = []\n",
    "assignment = []\n",
    "for i1 in [0,1]:\n",
    "    for i2 in [0,1]:\n",
    "        for i3 in [0,1]:\n",
    "            for i4 in [0,1]:\n",
    "                for i5 in [0,1]:\n",
    "                    for i6 in [0,1]:\n",
    "                        for i7 in [0,1]:\n",
    "                            bits = np.asarray([i1,i2,i3,i4,i5,i6,i7]) # set the bit assignment\n",
    "                            v = make_eigen_vector(bits) # construct the eigenvector equivalent\n",
    "                            costs_f.append(f_cost(clauses,bits)) # store functional cost\n",
    "                            costs_H.append(np.trace(v*Hp*np.transpose(v))) # store hamiltonian cost\n",
    "                            assignment.append(bits) # store bit assignment\n",
    "costs_f = np.asarray(costs_f)\n",
    "costs_H = np.asarray(costs_H)\n",
    "print costs_f\n",
    "print costs_H\n",
    "print costs_f-costs_H"
   ]
  },
  {
   "cell_type": "code",
   "execution_count": null,
   "metadata": {},
   "outputs": [],
   "source": [
    "#check what the eigenvalues are of this hamiltonian, compare these to the cost functions of different assignments\n",
    "print np.linalg.eigh(Hp)[0]\n",
    "print np.sort(costs_f)\n",
    "if np.array_equal(np.linalg.eigh(Hp)[0]-np.sort(costs_f),np.zeros(len(costs_f))): print 'these arrays are equal'"
   ]
  },
  {
   "cell_type": "code",
   "execution_count": null,
   "metadata": {},
   "outputs": [],
   "source": [
    "# this bit is just to check if the eigenvalues from the above hamiltonian are simply ones in all positions of the basis\n",
    "# ie they form a simple linear basis\n",
    "x = np.linalg.eigh(Hp)\n",
    "\n",
    "pos = []\n",
    "for i in range(len(x[1])): \n",
    "    pos.append(x[1][i].argmax())\n",
    "pos.sort()\n",
    "pos = np.asarray(pos)\n",
    "if np.array_equal(pos,np.arange(len(pos))): print 'True, the eigenvalues from the above hamiltonian are simply ones in all positions of the basis'\n",
    "print pos"
   ]
  },
  {
   "cell_type": "code",
   "execution_count": null,
   "metadata": {},
   "outputs": [],
   "source": []
  },
  {
   "cell_type": "code",
   "execution_count": null,
   "metadata": {},
   "outputs": [],
   "source": []
  },
  {
   "cell_type": "code",
   "execution_count": null,
   "metadata": {},
   "outputs": [],
   "source": [
    "def  EC3_hamiltonian_params(qubits,clauses):\n",
    "        '''returns the h/2 and J/2 parameters needed to construst the hamiltonian in the EC3 problem'''\n",
    "        # find the coefficients needed.\n",
    "        #h_i is the number of times the bit x_i apears in the clauses divided by 2\n",
    "        h_i = [0.]*qubits\n",
    "        for i in range(qubits):\n",
    "            for c in clauses:\n",
    "                if (i+1) in c:\n",
    "                    h_i[i]+=0.5\n",
    "        # J_ij is the number of times the bits x_i and x_j appear in the same clause didvided by 2\n",
    "        J_ij =[]\n",
    "        for i in range(qubits-1):\n",
    "            J=[]\n",
    "            for j in range(i+1,qubits,1):\n",
    "                n = 0.\n",
    "                for c in clauses: \n",
    "                    if (i+1) in c and (j+1) in c:\n",
    "                        n+= 0.5\n",
    "                J.append(n)\n",
    "            J_ij.append(J)\n",
    "        return h_i,J_ij"
   ]
  },
  {
   "cell_type": "code",
   "execution_count": null,
   "metadata": {},
   "outputs": [],
   "source": [
    "%matplotlib inline\n",
    "clauses = [[1,2,3],[1,2,4],[3,4,5],[1,3,6],[2,6,7]]\n",
    "qubits = 7\n",
    "h,J = EC3_hamiltonian_params(qubits,clauses)\n",
    "a_choi = mylib.Anneal(qubits,[h,J],T=100000,points = 10000)\n",
    "a_choi.Hp = H_clauses(qubits,clauses) # this part was needed because my Anneal class doesn't allow MI to be added to Hp\n",
    "a_choi.run()\n",
    "a_choi.show_results()"
   ]
  },
  {
   "cell_type": "code",
   "execution_count": null,
   "metadata": {},
   "outputs": [],
   "source": [
    "bit_values(qubits,a_choi.problem_x0)"
   ]
  },
  {
   "cell_type": "markdown",
   "metadata": {},
   "source": [
    "Converged as expected"
   ]
  },
  {
   "cell_type": "markdown",
   "metadata": {},
   "source": [
    "### To make sure that this is working entirely lets set up another EC3 problem"
   ]
  },
  {
   "cell_type": "code",
   "execution_count": null,
   "metadata": {},
   "outputs": [],
   "source": [
    "%matplotlib inline\n",
    "img1=mpimg.imread(r\"C:\\Users\\User\\Documents\\FIZZIX\\4th Year\\Project\\Jupyter Extra Images\\my_ec3.png\")\n",
    "plt.figure(figsize=(10,6)); plt.imshow(img1);plt.axis('off')\n",
    "plt.show('all')"
   ]
  },
  {
   "cell_type": "markdown",
   "metadata": {},
   "source": [
    "In structure this is identical to the problem above except that the clauses here are:\n",
    "\\begin{equation}\n",
    "c_{1} = x_{2}\\lor x_{6} \\lor x_{7}\n",
    "\\\\\n",
    "c_{2} = x_{2}\\lor x_{4} \\lor x_{5}\n",
    "\\\\\n",
    "c_{3} = x_{1}\\lor x_{5} \\lor x_{8}\n",
    "\\\\\n",
    "c_{4} = x_{4}\\lor x_{7} \\lor x_{8}\n",
    "\\\\\n",
    "c_{5} = x_{1}\\lor x_{3} \\lor x_{7}\n",
    "\\end{equation}\n",
    "and there are multiple solutions"
   ]
  },
  {
   "cell_type": "code",
   "execution_count": null,
   "metadata": {},
   "outputs": [],
   "source": [
    "my_clauses = [[2,6,7],[2,4,5],[1,5,8],[4,7,8],[1,3,7]]\n",
    "\n",
    "Hp = H_clauses (8,my_clauses)\n",
    "\n",
    "# initate data stores so that we can compare the cost function and cost hamiltonian results\n",
    "costs_f = []\n",
    "costs_H = []\n",
    "assignment = []\n",
    "for i1 in [0,1]:\n",
    "    for i2 in [0,1]:\n",
    "        for i3 in [0,1]:\n",
    "            for i4 in [0,1]:\n",
    "                for i5 in [0,1]:\n",
    "                    for i6 in [0,1]:\n",
    "                        for i7 in [0,1]:\n",
    "                            for i8 in [0,1]:\n",
    "                                bits = np.asarray([i1,i2,i3,i4,i5,i6,i7,i8]) # set the bit assignment\n",
    "                                v = make_eigen_vector(bits) # construct the eigenvector equivalent\n",
    "                                costs_f.append(f_cost(my_clauses,bits)) # store functional cost\n",
    "                                costs_H.append(np.trace(v*Hp*np.transpose(v))) # store hamiltonian cost\n",
    "                                assignment.append(bits) # store bit assignment\n",
    "costs_f = np.asarray(costs_f)\n",
    "costs_H = np.asarray(costs_H)\n",
    "print costs_f\n",
    "print costs_H\n",
    "print costs_f-costs_H\n",
    "print 'solutions are as follows:\\n'\n",
    "for i in list(np.where(costs_f==0)[0]):\n",
    "    print assignment[i]"
   ]
  },
  {
   "cell_type": "code",
   "execution_count": null,
   "metadata": {},
   "outputs": [],
   "source": [
    "%matplotlib inline\n",
    "\n",
    "qubits = 8\n",
    "h,J = EC3_hamiltonian_params(qubits,my_clauses)\n",
    "a_myec3 = mylib.Anneal(qubits,[h,J],T=100000,points = 1000)\n",
    "a_myec3.Hp = H_clauses(qubits,my_clauses) # this part was needed because my Anneal class doesn't allow MI to be added to Hp\n",
    "a_myec3.run()\n",
    "a_myec3.show_results()"
   ]
  },
  {
   "cell_type": "code",
   "execution_count": null,
   "metadata": {},
   "outputs": [],
   "source": [
    "% matplotlib q"
   ]
  },
  {
   "cell_type": "markdown",
   "metadata": {},
   "source": [
    "The code is messing up very late in the run time but below I have done a check to see what the bit soltuion would be to the problem_x0 and it is as expected. It gives a superposition of the 3 valid answers"
   ]
  },
  {
   "cell_type": "code",
   "execution_count": null,
   "metadata": {},
   "outputs": [],
   "source": [
    "print 'The possible solutions to measure based on the problem x0 are: \\n'\n",
    "for i in np.where(a_myec3.problem_x0 >0.)[0].tolist()[0]:\n",
    "    str = i*'0; '+ '1.;'+(256-i-1)*'0;'\n",
    "    print bit_values(8,np.matrix(str[:-1]))"
   ]
  },
  {
   "cell_type": "markdown",
   "metadata": {},
   "source": [
    "The eigenalues are not converging for s=0.979897989799"
   ]
  },
  {
   "cell_type": "code",
   "execution_count": null,
   "metadata": {},
   "outputs": [],
   "source": [
    "s_nc = 0.979897989799\n",
    "AB = mylib.linear_schedule(10000)\n",
    "ss = np.linspace(0,1,10000)\n",
    "\n",
    "AB =AB[:,ss>0.97]\n",
    "ss = ss[ss>0.97]\n",
    "for i,s in enumerate(ss):\n",
    "    print i,s\n",
    "    H_nc = -AB[0][i]*a_myec3.Hb+AB[1][i]*a_myec3.Hp\n",
    "    eigvals, eigvecs =np.linalg.eigh(H_nc)"
   ]
  },
  {
   "cell_type": "markdown",
   "metadata": {},
   "source": [
    "### You need to do some work to the anneal class. It's not working perfectly because of the hamiltonian being too specific. You should probably have this as an input and also feed out the bit values rather than the eigenvector"
   ]
  },
  {
   "cell_type": "code",
   "execution_count": null,
   "metadata": {},
   "outputs": [],
   "source": []
  }
 ],
 "metadata": {
  "language_info": {
   "name": "python",
   "pygments_lexer": "ipython3"
  }
 },
 "nbformat": 4,
 "nbformat_minor": 0
}
