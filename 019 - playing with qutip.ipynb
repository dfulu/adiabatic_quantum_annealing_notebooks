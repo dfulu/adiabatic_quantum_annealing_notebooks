{
 "cells": [
  {
   "cell_type": "code",
   "execution_count": null,
   "metadata": {},
   "outputs": [],
   "source": [
    "import qutip\n",
    "import numpy as np\n",
    "import matplotlib.image as mpimg\n",
    "import matplotlib.pyplot as plt\n",
    "import project_lib as mylib"
   ]
  },
  {
   "cell_type": "code",
   "execution_count": null,
   "metadata": {},
   "outputs": [],
   "source": [
    "qubits = 4\n",
    "points = 1000\n",
    "T = 100.\n",
    "dt = T/points\n",
    "t = np.linspace(0,T,points)\n",
    "h = np.random.random(qubits)\n",
    "J = np.random.random((qubits,qubits))"
   ]
  },
  {
   "cell_type": "code",
   "execution_count": null,
   "metadata": {},
   "outputs": [],
   "source": [
    "a = mylib.Anneal(qubits,[h,J],T=T,points = points, light = False)\n",
    "a.run()"
   ]
  },
  {
   "cell_type": "code",
   "execution_count": null,
   "metadata": {},
   "outputs": [],
   "source": [
    "def hamiltonian_parts(h,J):\n",
    "        '''\n",
    "        - Constructs the hamiltonian from the parameters input\n",
    "        - If we are doing an anneal run where we have different annealing schedules for each qubits it will return a list \n",
    "        of hamiltonian parts for the base hamiltonian. Else it returns a single hamiltonian for this part\n",
    "        '''\n",
    "        qubits = len(h)\n",
    "        #initiate the hamiltonians giving them the right dimensions\n",
    "        Hb = qutip.tensor([qutip.identity(2) for i in range(qubits)])*0\n",
    "        Hp = qutip.tensor([qutip.identity(2) for i in range(qubits)])*0\n",
    "        # loop through adding pieces to construct the hamiltonians \n",
    "        for i in range(qubits):\n",
    "            Hb += qutip.tensor([qutip.identity(2) for n in np.arange(i)]+[qutip.sigmax()]+[qutip.identity(2) for n in np.arange(qubits-i-1)])\n",
    "            Hp += h[i]*qutip.tensor([qutip.identity(2) for n in np.arange(i)]+[qutip.sigmaz()]+[qutip.identity(2) for n in np.arange(qubits-i-1)])\n",
    "            # the following part adds the interaction between all qubits. There is 1 interaction coefficient for each pairing \n",
    "            for j in range(i+1,qubits): \n",
    "                sigz_i = qutip.tensor([qutip.identity(2) for n in np.arange(i)]+[qutip.sigmaz()]+[qutip.identity(2) for n in np.arange(qubits-i-1)])\n",
    "                sigz_j = qutip.tensor([qutip.identity(2) for n in np.arange(j)]+[qutip.sigmaz()]+[qutip.identity(2) for n in np.arange(qubits-j-1)])\n",
    "                Hp +=J[i][j]*sigz_i*sigz_j  \n",
    " \n",
    "        return Hb, Hp\n",
    "\n",
    "# in the computational basis and what they seem to use in the qutip package\n",
    "one = qutip.basis(2, 0)\n",
    "zero = qutip.basis(2, 1)\n",
    "basis = [zero,one]\n",
    "\n",
    "from tabulate import tabulate\n",
    "def qu_bit_table(Qo,qubits):\n",
    "    '''given a state this fucntion prints out the table of the probability of measuring this state in it's eigenfunctions'''\n",
    "    headers = ['Bit Solution','Final State Probability']\n",
    "    ket = Qo.states[-1]\n",
    "    bits = []\n",
    "    last_state_probs = []\n",
    "    table = []\n",
    "    for i in range(2**qubits):\n",
    "        bits.append( [(i/2**j)%2 for j in range(qubits)[::-1]])\n",
    "        bra = (qutip.tensor([one if i ==1 else zero for i in bits[-1]])).dag()\n",
    "        last_state_probs.append((abs((bra*ket)[0,0])**2))\n",
    "        table.append([bits[-1],last_state_probs[-1]])\n",
    "    \n",
    "    table.insert(0,['','Full Results',''])\n",
    "    #table.append(['Total_Prob - 1: ',float(np.sum(last_state_probs)-1),''])\n",
    "    print tabulate(table, headers, tablefmt=\"grid\")\n",
    "\n",
    "\n",
    "####################################################################################\n",
    "# FORMULATION NEEDED FOR QUTIP\n",
    "####################################################################################\n",
    "def A(t,args):\n",
    "    return 1-t/T\n",
    "def B(t,args): \n",
    "    return t/T\n",
    "\n",
    "Hb, Hp = hamiltonian_parts(h,J)\n",
    "\n",
    "ws = 2**(-0.5)*(qutip.basis(2, 1)+qutip.basis(2, 0))\n",
    "psi0 = qutip.tensor([ws for n in np.arange(qubits)])\n",
    "\n",
    "bra1000 = (qutip.tensor([one]+[zero]*3)).dag()\n",
    "ket1000 = qutip.tensor([one]+[zero]*3)\n",
    "proj1000 = ket1000*bra1000\n",
    "\n",
    "c_ops = []\n",
    "e_ops = [proj1000]\n",
    "\n",
    "\n",
    "Options = qutip.solver.Options(store_states=True)\n",
    "H0 = Hb*0.\n",
    "H = [H0, [Hb, A], [Hp, B]]\n",
    "qu = qutip.mesolve(H, psi0, t,c_ops,e_ops=e_ops,options = Options)\n",
    "qu_bit_table(qu,qubits)"
   ]
  },
  {
   "cell_type": "code",
   "execution_count": null,
   "metadata": {},
   "outputs": [],
   "source": [
    "print qutip.expect(Hp, qutip.tensor([one]+[zero]*3)), #(np.dot(a.states[-1].getH(),a.Hp*a.states[-1])).item(0)"
   ]
  },
  {
   "cell_type": "code",
   "execution_count": null,
   "metadata": {},
   "outputs": [],
   "source": [
    "print qutip.expect(Hb, qutip.tensor([ws for n in np.arange(qubits)])), (np.dot(a.states[0].getH(),a.Hb*a.states[0])).item(0)"
   ]
  },
  {
   "cell_type": "code",
   "execution_count": null,
   "metadata": {},
   "outputs": [],
   "source": []
  },
  {
   "cell_type": "code",
   "execution_count": null,
   "metadata": {},
   "outputs": [],
   "source": [
    "atab = mylib.bit_table(a.states[-1],a.problem_x0s, a.qubits)"
   ]
  },
  {
   "cell_type": "code",
   "execution_count": null,
   "metadata": {},
   "outputs": [],
   "source": []
  },
  {
   "cell_type": "code",
   "execution_count": null,
   "metadata": {},
   "outputs": [],
   "source": [
    "zero = qutip.basis(2, 0) # up\n",
    "one = qutip.basis(2, 1) # down\n",
    "basis = [zero,one]\n",
    "qutip.tensor([ws for n in np.arange(qubits)]) "
   ]
  },
  {
   "cell_type": "code",
   "execution_count": null,
   "metadata": {},
   "outputs": [],
   "source": [
    "print one.__dict__.keys()"
   ]
  },
  {
   "cell_type": "code",
   "execution_count": null,
   "metadata": {},
   "outputs": [],
   "source": [
    "(qutip.bra([0])*qutip.ket([0])).__dict__.keys()"
   ]
  },
  {
   "cell_type": "code",
   "execution_count": null,
   "metadata": {},
   "outputs": [],
   "source": [
    "bra1000*proj1000*ket1000"
   ]
  },
  {
   "cell_type": "code",
   "execution_count": null,
   "metadata": {},
   "outputs": [],
   "source": [
    "print qu.__dict__.keys()\n",
    "print qu.expect"
   ]
  },
  {
   "cell_type": "code",
   "execution_count": null,
   "metadata": {},
   "outputs": [],
   "source": []
  }
 ],
 "metadata": {
  "language_info": {
   "name": "python",
   "pygments_lexer": "ipython3"
  }
 },
 "nbformat": 4,
 "nbformat_minor": 1
}
