{
 "cells": [
  {
   "cell_type": "code",
   "execution_count": null,
   "metadata": {},
   "outputs": [],
   "source": [
    "import numpy as np\n",
    "import matplotlib.pyplot as plt\n",
    "%matplotlib notebook\n",
    "from __future__ import division"
   ]
  },
  {
   "cell_type": "code",
   "execution_count": null,
   "metadata": {},
   "outputs": [],
   "source": []
  },
  {
   "cell_type": "code",
   "execution_count": null,
   "metadata": {},
   "outputs": [],
   "source": [
    "N_log = 4\n",
    "N_anc = 4\n",
    "T=N_log + N_anc\n",
    "\n",
    "def A_0(s):\n",
    "    return 1-s\n",
    "\n",
    "def A_log(s,theta):\n",
    "    return T*A_0(s)*np.sin(2*theta)*(N_log**2+N_anc**2)/((2*N_log)*(N_anc*np.sin(theta)+N_log*np.cos(theta)))\n",
    "\n",
    "def A_anc(s,theta):\n",
    "    return T*A_0(s)*np.sin(theta)**2*(N_log**2+N_anc**2)/((2*N_anc)*(N_anc*np.sin(theta)+N_log*np.cos(theta)))"
   ]
  },
  {
   "cell_type": "code",
   "execution_count": null,
   "metadata": {},
   "outputs": [],
   "source": [
    "N_log = 4\n",
    "N_anc = 4\n",
    "N=N_anc+N_log\n",
    "def h(theta):\n",
    "    return N*np.sin(theta)/(N_anc*np.sin(theta)+N_log*np.cos(theta))\n",
    "def w(theta):\n",
    "    return N*np.cos(theta)/(N_anc*np.sin(theta)+N_log*np.cos(theta))\n",
    "\n",
    "def A_0(s):\n",
    "    return 1-s\n",
    "\n",
    "def A_log(s,theta):\n",
    "    return w(theta)*A_0(s)\n",
    "\n",
    "def A_anc(s,theta):\n",
    "    return h(theta)*A_0(s)"
   ]
  },
  {
   "cell_type": "code",
   "execution_count": null,
   "metadata": {},
   "outputs": [],
   "source": [
    "thetas = np.linspace(0,np.pi/2,100)\n",
    "alog = w(thetas)\n",
    "aanc = h(thetas)\n",
    "\n",
    "print (N_log*alog+N_anc*aanc)/N\n",
    "\n",
    "plt.figure()\n",
    "plt.plot(alog,aanc)\n",
    "plt.show()"
   ]
  },
  {
   "cell_type": "code",
   "execution_count": null,
   "metadata": {},
   "outputs": [],
   "source": []
  }
 ],
 "metadata": {
  "language_info": {
   "name": "python",
   "pygments_lexer": "ipython3"
  }
 },
 "nbformat": 4,
 "nbformat_minor": 1
}
